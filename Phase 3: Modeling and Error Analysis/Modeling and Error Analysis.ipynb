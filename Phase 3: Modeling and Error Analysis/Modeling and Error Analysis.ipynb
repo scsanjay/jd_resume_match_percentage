{
 "cells": [
  {
   "cell_type": "code",
   "execution_count": 148,
   "id": "7c516123-e9d4-4639-8945-b6247cdadf6b",
   "metadata": {},
   "outputs": [],
   "source": [
    "# import required libraries\n",
    "import numpy as np\n",
    "import pandas as pd\n",
    "from sklearn.preprocessing import StandardScaler\n",
    "from sklearn.linear_model import Lasso, Ridge\n",
    "from sklearn.model_selection import train_test_split\n",
    "from sklearn.metrics import mean_squared_error as mse, r2_score, mean_absolute_error as mae\n",
    "import hyperopt\n",
    "from hyperopt import fmin, tpe, hp, STATUS_OK, Trials\n",
    "import warnings\n",
    "from joblib import dump, load\n",
    "from matplotlib import pyplot as plt\n",
    "from sklearn.neighbors import KNeighborsRegressor\n",
    "from sklearn.model_selection import GridSearchCV\n",
    "from sklearn.model_selection import KFold\n",
    "from sklearn.tree import DecisionTreeRegressor\n",
    "import seaborn as sns\n",
    "from sklearn.feature_selection import SequentialFeatureSelector\n",
    "from sklearn.linear_model import LinearRegression\n",
    "from sklearn.svm import SVR\n",
    "from sklearn.ensemble import RandomForestRegressor\n",
    "import xgboost as xgb\n",
    "from prettytable import PrettyTable\n",
    "from sklearn.preprocessing import MinMaxScaler"
   ]
  },
  {
   "cell_type": "markdown",
   "id": "f7d9ab56-30c3-4dfa-a3f7-9a0b105e0400",
   "metadata": {},
   "source": [
    "# Models with BoW features"
   ]
  },
  {
   "cell_type": "code",
   "execution_count": 2,
   "id": "c4dc5753-ec66-4bc6-8bac-0e41c96d1625",
   "metadata": {},
   "outputs": [],
   "source": [
    "# load data\n",
    "csvData = pd.read_csv('dataset/data.csv')"
   ]
  },
  {
   "cell_type": "code",
   "execution_count": 3,
   "id": "cca894e3-803d-429b-b078-a37ddb371ba1",
   "metadata": {},
   "outputs": [],
   "source": [
    "# load data_feature\n",
    "data_feature = pd.read_csv('data_feature.csv')"
   ]
  },
  {
   "cell_type": "code",
   "execution_count": 4,
   "id": "2c4daa49-aaf6-4dbd-b541-76a19fedb7ee",
   "metadata": {},
   "outputs": [
    {
     "data": {
      "text/html": [
       "<div>\n",
       "<style scoped>\n",
       "    .dataframe tbody tr th:only-of-type {\n",
       "        vertical-align: middle;\n",
       "    }\n",
       "\n",
       "    .dataframe tbody tr th {\n",
       "        vertical-align: top;\n",
       "    }\n",
       "\n",
       "    .dataframe thead th {\n",
       "        text-align: right;\n",
       "    }\n",
       "</style>\n",
       "<table border=\"1\" class=\"dataframe\">\n",
       "  <thead>\n",
       "    <tr style=\"text-align: right;\">\n",
       "      <th></th>\n",
       "      <th>job_description</th>\n",
       "      <th>processed_resume</th>\n",
       "      <th>match_percentage</th>\n",
       "      <th>resume_word_num</th>\n",
       "      <th>total_unique_word_num</th>\n",
       "      <th>common_word_num</th>\n",
       "      <th>common_word_ratio_min</th>\n",
       "      <th>fuzz_ratio</th>\n",
       "      <th>fuzz_partial_ratio</th>\n",
       "      <th>fuzz_token_set_ratio</th>\n",
       "      <th>fuzz_token_sort_ratio</th>\n",
       "      <th>is_fresher</th>\n",
       "      <th>from_reputed_college</th>\n",
       "      <th>cosine_similarity</th>\n",
       "      <th>euclidean_distance</th>\n",
       "    </tr>\n",
       "  </thead>\n",
       "  <tbody>\n",
       "    <tr>\n",
       "      <th>0</th>\n",
       "      <td>machine learning engineering 13585abc knowledg...</td>\n",
       "      <td>liam andrew fresher executive work experience ...</td>\n",
       "      <td>13.60</td>\n",
       "      <td>87</td>\n",
       "      <td>192</td>\n",
       "      <td>13</td>\n",
       "      <td>0.180556</td>\n",
       "      <td>86</td>\n",
       "      <td>45</td>\n",
       "      <td>52</td>\n",
       "      <td>50</td>\n",
       "      <td>1</td>\n",
       "      <td>1</td>\n",
       "      <td>0.136678</td>\n",
       "      <td>13.416408</td>\n",
       "    </tr>\n",
       "    <tr>\n",
       "      <th>1</th>\n",
       "      <td>machine learning engineering 13585abc knowledg...</td>\n",
       "      <td>ellie mackey fresher intern executive profile ...</td>\n",
       "      <td>36.63</td>\n",
       "      <td>84</td>\n",
       "      <td>180</td>\n",
       "      <td>27</td>\n",
       "      <td>0.364865</td>\n",
       "      <td>86</td>\n",
       "      <td>47</td>\n",
       "      <td>57</td>\n",
       "      <td>52</td>\n",
       "      <td>1</td>\n",
       "      <td>0</td>\n",
       "      <td>0.316875</td>\n",
       "      <td>12.328828</td>\n",
       "    </tr>\n",
       "  </tbody>\n",
       "</table>\n",
       "</div>"
      ],
      "text/plain": [
       "                                     job_description  \\\n",
       "0  machine learning engineering 13585abc knowledg...   \n",
       "1  machine learning engineering 13585abc knowledg...   \n",
       "\n",
       "                                    processed_resume  match_percentage  \\\n",
       "0  liam andrew fresher executive work experience ...             13.60   \n",
       "1  ellie mackey fresher intern executive profile ...             36.63   \n",
       "\n",
       "   resume_word_num  total_unique_word_num  common_word_num  \\\n",
       "0               87                    192               13   \n",
       "1               84                    180               27   \n",
       "\n",
       "   common_word_ratio_min  fuzz_ratio  fuzz_partial_ratio  \\\n",
       "0               0.180556          86                  45   \n",
       "1               0.364865          86                  47   \n",
       "\n",
       "   fuzz_token_set_ratio  fuzz_token_sort_ratio  is_fresher  \\\n",
       "0                    52                     50           1   \n",
       "1                    57                     52           1   \n",
       "\n",
       "   from_reputed_college  cosine_similarity  euclidean_distance  \n",
       "0                     1           0.136678           13.416408  \n",
       "1                     0           0.316875           12.328828  "
      ]
     },
     "execution_count": 4,
     "metadata": {},
     "output_type": "execute_result"
    }
   ],
   "source": [
    "# verify data\n",
    "data_feature.head(2)"
   ]
  },
  {
   "cell_type": "code",
   "execution_count": 5,
   "id": "5f392540-bd7a-4f6d-94c1-285ae3d789e6",
   "metadata": {},
   "outputs": [],
   "source": [
    "# load bow_resume\n",
    "with open('bow_resume.npy', 'rb') as f:\n",
    "    bow_resume = np.load(f, allow_pickle=True)"
   ]
  },
  {
   "cell_type": "code",
   "execution_count": 6,
   "id": "5a2028f0-02b5-4bb4-842f-80cefcf6739d",
   "metadata": {},
   "outputs": [],
   "source": [
    "# load bow_jd\n",
    "with open('bow_jd.npy', 'rb') as f:\n",
    "    bow_jd = np.load(f, allow_pickle=True)"
   ]
  },
  {
   "cell_type": "code",
   "execution_count": 7,
   "id": "d0ac460f-4bcc-4a33-a882-1475fdc919a9",
   "metadata": {},
   "outputs": [],
   "source": [
    "# create output variable\n",
    "y_bow = data_feature.match_percentage"
   ]
  },
  {
   "cell_type": "code",
   "execution_count": 8,
   "id": "27d6a2d3-858f-44d9-9e9c-2e9f6d183fce",
   "metadata": {},
   "outputs": [],
   "source": [
    "# create input variables from extracted features\n",
    "X_bow_1 = data_feature.drop(columns=['job_description', 'processed_resume', 'match_percentage'])"
   ]
  },
  {
   "cell_type": "code",
   "execution_count": 9,
   "id": "6492619a-ec64-4c3d-9891-127722ac7851",
   "metadata": {},
   "outputs": [
    {
     "data": {
      "text/html": [
       "<div>\n",
       "<style scoped>\n",
       "    .dataframe tbody tr th:only-of-type {\n",
       "        vertical-align: middle;\n",
       "    }\n",
       "\n",
       "    .dataframe tbody tr th {\n",
       "        vertical-align: top;\n",
       "    }\n",
       "\n",
       "    .dataframe thead th {\n",
       "        text-align: right;\n",
       "    }\n",
       "</style>\n",
       "<table border=\"1\" class=\"dataframe\">\n",
       "  <thead>\n",
       "    <tr style=\"text-align: right;\">\n",
       "      <th></th>\n",
       "      <th>resume_word_num</th>\n",
       "      <th>total_unique_word_num</th>\n",
       "      <th>common_word_num</th>\n",
       "      <th>common_word_ratio_min</th>\n",
       "      <th>fuzz_ratio</th>\n",
       "      <th>fuzz_partial_ratio</th>\n",
       "      <th>fuzz_token_set_ratio</th>\n",
       "      <th>fuzz_token_sort_ratio</th>\n",
       "      <th>is_fresher</th>\n",
       "      <th>from_reputed_college</th>\n",
       "      <th>cosine_similarity</th>\n",
       "      <th>euclidean_distance</th>\n",
       "    </tr>\n",
       "  </thead>\n",
       "  <tbody>\n",
       "    <tr>\n",
       "      <th>0</th>\n",
       "      <td>87</td>\n",
       "      <td>192</td>\n",
       "      <td>13</td>\n",
       "      <td>0.180556</td>\n",
       "      <td>86</td>\n",
       "      <td>45</td>\n",
       "      <td>52</td>\n",
       "      <td>50</td>\n",
       "      <td>1</td>\n",
       "      <td>1</td>\n",
       "      <td>0.136678</td>\n",
       "      <td>13.416408</td>\n",
       "    </tr>\n",
       "    <tr>\n",
       "      <th>1</th>\n",
       "      <td>84</td>\n",
       "      <td>180</td>\n",
       "      <td>27</td>\n",
       "      <td>0.364865</td>\n",
       "      <td>86</td>\n",
       "      <td>47</td>\n",
       "      <td>57</td>\n",
       "      <td>52</td>\n",
       "      <td>1</td>\n",
       "      <td>0</td>\n",
       "      <td>0.316875</td>\n",
       "      <td>12.328828</td>\n",
       "    </tr>\n",
       "    <tr>\n",
       "      <th>2</th>\n",
       "      <td>93</td>\n",
       "      <td>184</td>\n",
       "      <td>18</td>\n",
       "      <td>0.260870</td>\n",
       "      <td>86</td>\n",
       "      <td>45</td>\n",
       "      <td>50</td>\n",
       "      <td>49</td>\n",
       "      <td>1</td>\n",
       "      <td>0</td>\n",
       "      <td>0.241508</td>\n",
       "      <td>12.845233</td>\n",
       "    </tr>\n",
       "  </tbody>\n",
       "</table>\n",
       "</div>"
      ],
      "text/plain": [
       "   resume_word_num  total_unique_word_num  common_word_num  \\\n",
       "0               87                    192               13   \n",
       "1               84                    180               27   \n",
       "2               93                    184               18   \n",
       "\n",
       "   common_word_ratio_min  fuzz_ratio  fuzz_partial_ratio  \\\n",
       "0               0.180556          86                  45   \n",
       "1               0.364865          86                  47   \n",
       "2               0.260870          86                  45   \n",
       "\n",
       "   fuzz_token_set_ratio  fuzz_token_sort_ratio  is_fresher  \\\n",
       "0                    52                     50           1   \n",
       "1                    57                     52           1   \n",
       "2                    50                     49           1   \n",
       "\n",
       "   from_reputed_college  cosine_similarity  euclidean_distance  \n",
       "0                     1           0.136678           13.416408  \n",
       "1                     0           0.316875           12.328828  \n",
       "2                     0           0.241508           12.845233  "
      ]
     },
     "execution_count": 9,
     "metadata": {},
     "output_type": "execute_result"
    }
   ],
   "source": [
    "X_bow_1.head(3)"
   ]
  },
  {
   "cell_type": "code",
   "execution_count": 10,
   "id": "eb2da4d9-22e7-455a-9f39-238377dcbd63",
   "metadata": {},
   "outputs": [],
   "source": [
    "# create input variables from bow of job description\n",
    "X_bow_2 = pd.DataFrame(bow_jd, columns=['bow_jd_'+str(i) for i in range(1, bow_jd.shape[1]+1)])"
   ]
  },
  {
   "cell_type": "code",
   "execution_count": 11,
   "id": "ba40c5e5-8459-42ea-89fa-30fb2c981297",
   "metadata": {},
   "outputs": [
    {
     "data": {
      "text/html": [
       "<div>\n",
       "<style scoped>\n",
       "    .dataframe tbody tr th:only-of-type {\n",
       "        vertical-align: middle;\n",
       "    }\n",
       "\n",
       "    .dataframe tbody tr th {\n",
       "        vertical-align: top;\n",
       "    }\n",
       "\n",
       "    .dataframe thead th {\n",
       "        text-align: right;\n",
       "    }\n",
       "</style>\n",
       "<table border=\"1\" class=\"dataframe\">\n",
       "  <thead>\n",
       "    <tr style=\"text-align: right;\">\n",
       "      <th></th>\n",
       "      <th>bow_jd_1</th>\n",
       "      <th>bow_jd_2</th>\n",
       "      <th>bow_jd_3</th>\n",
       "      <th>bow_jd_4</th>\n",
       "      <th>bow_jd_5</th>\n",
       "      <th>bow_jd_6</th>\n",
       "      <th>bow_jd_7</th>\n",
       "      <th>bow_jd_8</th>\n",
       "      <th>bow_jd_9</th>\n",
       "      <th>bow_jd_10</th>\n",
       "      <th>...</th>\n",
       "      <th>bow_jd_707</th>\n",
       "      <th>bow_jd_708</th>\n",
       "      <th>bow_jd_709</th>\n",
       "      <th>bow_jd_710</th>\n",
       "      <th>bow_jd_711</th>\n",
       "      <th>bow_jd_712</th>\n",
       "      <th>bow_jd_713</th>\n",
       "      <th>bow_jd_714</th>\n",
       "      <th>bow_jd_715</th>\n",
       "      <th>bow_jd_716</th>\n",
       "    </tr>\n",
       "  </thead>\n",
       "  <tbody>\n",
       "    <tr>\n",
       "      <th>0</th>\n",
       "      <td>0</td>\n",
       "      <td>0</td>\n",
       "      <td>0</td>\n",
       "      <td>0</td>\n",
       "      <td>0</td>\n",
       "      <td>0</td>\n",
       "      <td>0</td>\n",
       "      <td>0</td>\n",
       "      <td>0</td>\n",
       "      <td>0</td>\n",
       "      <td>...</td>\n",
       "      <td>0</td>\n",
       "      <td>1</td>\n",
       "      <td>0</td>\n",
       "      <td>0</td>\n",
       "      <td>0</td>\n",
       "      <td>0</td>\n",
       "      <td>0</td>\n",
       "      <td>0</td>\n",
       "      <td>0</td>\n",
       "      <td>1</td>\n",
       "    </tr>\n",
       "    <tr>\n",
       "      <th>1</th>\n",
       "      <td>0</td>\n",
       "      <td>0</td>\n",
       "      <td>0</td>\n",
       "      <td>0</td>\n",
       "      <td>0</td>\n",
       "      <td>0</td>\n",
       "      <td>0</td>\n",
       "      <td>0</td>\n",
       "      <td>0</td>\n",
       "      <td>0</td>\n",
       "      <td>...</td>\n",
       "      <td>0</td>\n",
       "      <td>1</td>\n",
       "      <td>0</td>\n",
       "      <td>0</td>\n",
       "      <td>0</td>\n",
       "      <td>0</td>\n",
       "      <td>0</td>\n",
       "      <td>0</td>\n",
       "      <td>0</td>\n",
       "      <td>1</td>\n",
       "    </tr>\n",
       "    <tr>\n",
       "      <th>2</th>\n",
       "      <td>0</td>\n",
       "      <td>0</td>\n",
       "      <td>0</td>\n",
       "      <td>0</td>\n",
       "      <td>0</td>\n",
       "      <td>0</td>\n",
       "      <td>0</td>\n",
       "      <td>0</td>\n",
       "      <td>0</td>\n",
       "      <td>0</td>\n",
       "      <td>...</td>\n",
       "      <td>0</td>\n",
       "      <td>1</td>\n",
       "      <td>0</td>\n",
       "      <td>0</td>\n",
       "      <td>0</td>\n",
       "      <td>0</td>\n",
       "      <td>0</td>\n",
       "      <td>0</td>\n",
       "      <td>0</td>\n",
       "      <td>1</td>\n",
       "    </tr>\n",
       "  </tbody>\n",
       "</table>\n",
       "<p>3 rows × 716 columns</p>\n",
       "</div>"
      ],
      "text/plain": [
       "   bow_jd_1  bow_jd_2  bow_jd_3  bow_jd_4  bow_jd_5  bow_jd_6  bow_jd_7  \\\n",
       "0         0         0         0         0         0         0         0   \n",
       "1         0         0         0         0         0         0         0   \n",
       "2         0         0         0         0         0         0         0   \n",
       "\n",
       "   bow_jd_8  bow_jd_9  bow_jd_10  ...  bow_jd_707  bow_jd_708  bow_jd_709  \\\n",
       "0         0         0          0  ...           0           1           0   \n",
       "1         0         0          0  ...           0           1           0   \n",
       "2         0         0          0  ...           0           1           0   \n",
       "\n",
       "   bow_jd_710  bow_jd_711  bow_jd_712  bow_jd_713  bow_jd_714  bow_jd_715  \\\n",
       "0           0           0           0           0           0           0   \n",
       "1           0           0           0           0           0           0   \n",
       "2           0           0           0           0           0           0   \n",
       "\n",
       "   bow_jd_716  \n",
       "0           1  \n",
       "1           1  \n",
       "2           1  \n",
       "\n",
       "[3 rows x 716 columns]"
      ]
     },
     "execution_count": 11,
     "metadata": {},
     "output_type": "execute_result"
    }
   ],
   "source": [
    "X_bow_2.head(3)"
   ]
  },
  {
   "cell_type": "code",
   "execution_count": 12,
   "id": "8c0f209c-5a92-455b-b9a2-b2904ffc54a8",
   "metadata": {},
   "outputs": [],
   "source": [
    "# create input variables from bow of resumes\n",
    "X_bow_3 = pd.DataFrame(bow_resume, columns=['bow_resume_'+str(i) for i in range(1, bow_resume.shape[1]+1)])"
   ]
  },
  {
   "cell_type": "code",
   "execution_count": 13,
   "id": "d06f4abb-9ce9-44bc-88c2-4f93af5ab024",
   "metadata": {},
   "outputs": [
    {
     "data": {
      "text/html": [
       "<div>\n",
       "<style scoped>\n",
       "    .dataframe tbody tr th:only-of-type {\n",
       "        vertical-align: middle;\n",
       "    }\n",
       "\n",
       "    .dataframe tbody tr th {\n",
       "        vertical-align: top;\n",
       "    }\n",
       "\n",
       "    .dataframe thead th {\n",
       "        text-align: right;\n",
       "    }\n",
       "</style>\n",
       "<table border=\"1\" class=\"dataframe\">\n",
       "  <thead>\n",
       "    <tr style=\"text-align: right;\">\n",
       "      <th></th>\n",
       "      <th>bow_resume_1</th>\n",
       "      <th>bow_resume_2</th>\n",
       "      <th>bow_resume_3</th>\n",
       "      <th>bow_resume_4</th>\n",
       "      <th>bow_resume_5</th>\n",
       "      <th>bow_resume_6</th>\n",
       "      <th>bow_resume_7</th>\n",
       "      <th>bow_resume_8</th>\n",
       "      <th>bow_resume_9</th>\n",
       "      <th>bow_resume_10</th>\n",
       "      <th>...</th>\n",
       "      <th>bow_resume_707</th>\n",
       "      <th>bow_resume_708</th>\n",
       "      <th>bow_resume_709</th>\n",
       "      <th>bow_resume_710</th>\n",
       "      <th>bow_resume_711</th>\n",
       "      <th>bow_resume_712</th>\n",
       "      <th>bow_resume_713</th>\n",
       "      <th>bow_resume_714</th>\n",
       "      <th>bow_resume_715</th>\n",
       "      <th>bow_resume_716</th>\n",
       "    </tr>\n",
       "  </thead>\n",
       "  <tbody>\n",
       "    <tr>\n",
       "      <th>0</th>\n",
       "      <td>0</td>\n",
       "      <td>0</td>\n",
       "      <td>0</td>\n",
       "      <td>0</td>\n",
       "      <td>0</td>\n",
       "      <td>0</td>\n",
       "      <td>0</td>\n",
       "      <td>0</td>\n",
       "      <td>0</td>\n",
       "      <td>1</td>\n",
       "      <td>...</td>\n",
       "      <td>0</td>\n",
       "      <td>1</td>\n",
       "      <td>0</td>\n",
       "      <td>1</td>\n",
       "      <td>0</td>\n",
       "      <td>0</td>\n",
       "      <td>0</td>\n",
       "      <td>0</td>\n",
       "      <td>0</td>\n",
       "      <td>0</td>\n",
       "    </tr>\n",
       "    <tr>\n",
       "      <th>1</th>\n",
       "      <td>0</td>\n",
       "      <td>0</td>\n",
       "      <td>1</td>\n",
       "      <td>0</td>\n",
       "      <td>0</td>\n",
       "      <td>0</td>\n",
       "      <td>0</td>\n",
       "      <td>0</td>\n",
       "      <td>0</td>\n",
       "      <td>1</td>\n",
       "      <td>...</td>\n",
       "      <td>0</td>\n",
       "      <td>1</td>\n",
       "      <td>0</td>\n",
       "      <td>0</td>\n",
       "      <td>0</td>\n",
       "      <td>0</td>\n",
       "      <td>0</td>\n",
       "      <td>0</td>\n",
       "      <td>0</td>\n",
       "      <td>0</td>\n",
       "    </tr>\n",
       "    <tr>\n",
       "      <th>2</th>\n",
       "      <td>1</td>\n",
       "      <td>1</td>\n",
       "      <td>1</td>\n",
       "      <td>0</td>\n",
       "      <td>0</td>\n",
       "      <td>0</td>\n",
       "      <td>0</td>\n",
       "      <td>0</td>\n",
       "      <td>0</td>\n",
       "      <td>0</td>\n",
       "      <td>...</td>\n",
       "      <td>0</td>\n",
       "      <td>1</td>\n",
       "      <td>1</td>\n",
       "      <td>0</td>\n",
       "      <td>0</td>\n",
       "      <td>0</td>\n",
       "      <td>0</td>\n",
       "      <td>0</td>\n",
       "      <td>0</td>\n",
       "      <td>0</td>\n",
       "    </tr>\n",
       "  </tbody>\n",
       "</table>\n",
       "<p>3 rows × 716 columns</p>\n",
       "</div>"
      ],
      "text/plain": [
       "   bow_resume_1  bow_resume_2  bow_resume_3  bow_resume_4  bow_resume_5  \\\n",
       "0             0             0             0             0             0   \n",
       "1             0             0             1             0             0   \n",
       "2             1             1             1             0             0   \n",
       "\n",
       "   bow_resume_6  bow_resume_7  bow_resume_8  bow_resume_9  bow_resume_10  ...  \\\n",
       "0             0             0             0             0              1  ...   \n",
       "1             0             0             0             0              1  ...   \n",
       "2             0             0             0             0              0  ...   \n",
       "\n",
       "   bow_resume_707  bow_resume_708  bow_resume_709  bow_resume_710  \\\n",
       "0               0               1               0               1   \n",
       "1               0               1               0               0   \n",
       "2               0               1               1               0   \n",
       "\n",
       "   bow_resume_711  bow_resume_712  bow_resume_713  bow_resume_714  \\\n",
       "0               0               0               0               0   \n",
       "1               0               0               0               0   \n",
       "2               0               0               0               0   \n",
       "\n",
       "   bow_resume_715  bow_resume_716  \n",
       "0               0               0  \n",
       "1               0               0  \n",
       "2               0               0  \n",
       "\n",
       "[3 rows x 716 columns]"
      ]
     },
     "execution_count": 13,
     "metadata": {},
     "output_type": "execute_result"
    }
   ],
   "source": [
    "X_bow_3.head(3)"
   ]
  },
  {
   "cell_type": "code",
   "execution_count": 14,
   "id": "4014d6c5-23e9-4145-9c31-c9ffe7654a74",
   "metadata": {},
   "outputs": [],
   "source": [
    "# concat all three to create the original input\n",
    "X_bow = pd.concat([X_bow_1, X_bow_2, X_bow_3], axis=1)"
   ]
  },
  {
   "cell_type": "code",
   "execution_count": 15,
   "id": "a79bfdef-7b5a-4efe-921e-ed753554e222",
   "metadata": {},
   "outputs": [
    {
     "name": "stdout",
     "output_type": "stream",
     "text": [
      "(90, 1444)\n"
     ]
    }
   ],
   "source": [
    "print(X_bow.shape)"
   ]
  },
  {
   "cell_type": "code",
   "execution_count": 16,
   "id": "8d03f5e0-ff98-4607-8050-f4689e5300f1",
   "metadata": {},
   "outputs": [
    {
     "data": {
      "text/html": [
       "<div>\n",
       "<style scoped>\n",
       "    .dataframe tbody tr th:only-of-type {\n",
       "        vertical-align: middle;\n",
       "    }\n",
       "\n",
       "    .dataframe tbody tr th {\n",
       "        vertical-align: top;\n",
       "    }\n",
       "\n",
       "    .dataframe thead th {\n",
       "        text-align: right;\n",
       "    }\n",
       "</style>\n",
       "<table border=\"1\" class=\"dataframe\">\n",
       "  <thead>\n",
       "    <tr style=\"text-align: right;\">\n",
       "      <th></th>\n",
       "      <th>resume_word_num</th>\n",
       "      <th>total_unique_word_num</th>\n",
       "      <th>common_word_num</th>\n",
       "      <th>common_word_ratio_min</th>\n",
       "      <th>fuzz_ratio</th>\n",
       "      <th>fuzz_partial_ratio</th>\n",
       "      <th>fuzz_token_set_ratio</th>\n",
       "      <th>fuzz_token_sort_ratio</th>\n",
       "      <th>is_fresher</th>\n",
       "      <th>from_reputed_college</th>\n",
       "      <th>...</th>\n",
       "      <th>bow_resume_707</th>\n",
       "      <th>bow_resume_708</th>\n",
       "      <th>bow_resume_709</th>\n",
       "      <th>bow_resume_710</th>\n",
       "      <th>bow_resume_711</th>\n",
       "      <th>bow_resume_712</th>\n",
       "      <th>bow_resume_713</th>\n",
       "      <th>bow_resume_714</th>\n",
       "      <th>bow_resume_715</th>\n",
       "      <th>bow_resume_716</th>\n",
       "    </tr>\n",
       "  </thead>\n",
       "  <tbody>\n",
       "    <tr>\n",
       "      <th>0</th>\n",
       "      <td>87</td>\n",
       "      <td>192</td>\n",
       "      <td>13</td>\n",
       "      <td>0.180556</td>\n",
       "      <td>86</td>\n",
       "      <td>45</td>\n",
       "      <td>52</td>\n",
       "      <td>50</td>\n",
       "      <td>1</td>\n",
       "      <td>1</td>\n",
       "      <td>...</td>\n",
       "      <td>0</td>\n",
       "      <td>1</td>\n",
       "      <td>0</td>\n",
       "      <td>1</td>\n",
       "      <td>0</td>\n",
       "      <td>0</td>\n",
       "      <td>0</td>\n",
       "      <td>0</td>\n",
       "      <td>0</td>\n",
       "      <td>0</td>\n",
       "    </tr>\n",
       "    <tr>\n",
       "      <th>1</th>\n",
       "      <td>84</td>\n",
       "      <td>180</td>\n",
       "      <td>27</td>\n",
       "      <td>0.364865</td>\n",
       "      <td>86</td>\n",
       "      <td>47</td>\n",
       "      <td>57</td>\n",
       "      <td>52</td>\n",
       "      <td>1</td>\n",
       "      <td>0</td>\n",
       "      <td>...</td>\n",
       "      <td>0</td>\n",
       "      <td>1</td>\n",
       "      <td>0</td>\n",
       "      <td>0</td>\n",
       "      <td>0</td>\n",
       "      <td>0</td>\n",
       "      <td>0</td>\n",
       "      <td>0</td>\n",
       "      <td>0</td>\n",
       "      <td>0</td>\n",
       "    </tr>\n",
       "    <tr>\n",
       "      <th>2</th>\n",
       "      <td>93</td>\n",
       "      <td>184</td>\n",
       "      <td>18</td>\n",
       "      <td>0.260870</td>\n",
       "      <td>86</td>\n",
       "      <td>45</td>\n",
       "      <td>50</td>\n",
       "      <td>49</td>\n",
       "      <td>1</td>\n",
       "      <td>0</td>\n",
       "      <td>...</td>\n",
       "      <td>0</td>\n",
       "      <td>1</td>\n",
       "      <td>1</td>\n",
       "      <td>0</td>\n",
       "      <td>0</td>\n",
       "      <td>0</td>\n",
       "      <td>0</td>\n",
       "      <td>0</td>\n",
       "      <td>0</td>\n",
       "      <td>0</td>\n",
       "    </tr>\n",
       "  </tbody>\n",
       "</table>\n",
       "<p>3 rows × 1444 columns</p>\n",
       "</div>"
      ],
      "text/plain": [
       "   resume_word_num  total_unique_word_num  common_word_num  \\\n",
       "0               87                    192               13   \n",
       "1               84                    180               27   \n",
       "2               93                    184               18   \n",
       "\n",
       "   common_word_ratio_min  fuzz_ratio  fuzz_partial_ratio  \\\n",
       "0               0.180556          86                  45   \n",
       "1               0.364865          86                  47   \n",
       "2               0.260870          86                  45   \n",
       "\n",
       "   fuzz_token_set_ratio  fuzz_token_sort_ratio  is_fresher  \\\n",
       "0                    52                     50           1   \n",
       "1                    57                     52           1   \n",
       "2                    50                     49           1   \n",
       "\n",
       "   from_reputed_college  ...  bow_resume_707  bow_resume_708  bow_resume_709  \\\n",
       "0                     1  ...               0               1               0   \n",
       "1                     0  ...               0               1               0   \n",
       "2                     0  ...               0               1               1   \n",
       "\n",
       "   bow_resume_710  bow_resume_711  bow_resume_712  bow_resume_713  \\\n",
       "0               1               0               0               0   \n",
       "1               0               0               0               0   \n",
       "2               0               0               0               0   \n",
       "\n",
       "   bow_resume_714  bow_resume_715  bow_resume_716  \n",
       "0               0               0               0  \n",
       "1               0               0               0  \n",
       "2               0               0               0  \n",
       "\n",
       "[3 rows x 1444 columns]"
      ]
     },
     "execution_count": 16,
     "metadata": {},
     "output_type": "execute_result"
    }
   ],
   "source": [
    "X_bow.head(3)"
   ]
  },
  {
   "cell_type": "code",
   "execution_count": 134,
   "id": "8993180e-8e71-4ec1-88be-7f1f48e8e6db",
   "metadata": {},
   "outputs": [],
   "source": [
    "# column names\n",
    "features = X_bow.columns.to_numpy()"
   ]
  },
  {
   "cell_type": "code",
   "execution_count": 57,
   "id": "0c2cbb1c-f138-4095-8b57-d8da2c3b7bfb",
   "metadata": {},
   "outputs": [],
   "source": [
    "# # save features\n",
    "# with open('features.npy', 'wb') as f:\n",
    "#     np.save(f, features, allow_pickle=True)"
   ]
  },
  {
   "cell_type": "markdown",
   "id": "76587c62-94ff-455a-bd1c-9484b1d16f9f",
   "metadata": {},
   "source": [
    "<br><b style=\"color:#ff6600\"><u>Summary</u></b><br>\n",
    "* I have created the input and output data by combining extracted features and bow representations of resumes and job descriptions.\n",
    "* We have 90 data points.\n",
    "* We have 1444 features."
   ]
  },
  {
   "cell_type": "markdown",
   "id": "90cb5ec5-1bf1-4e41-bccf-3d11acb1b4cf",
   "metadata": {
    "tags": []
   },
   "source": [
    "## Train Test split"
   ]
  },
  {
   "cell_type": "code",
   "execution_count": 18,
   "id": "2b6607d5-ce12-4483-9e58-984d2fd3e085",
   "metadata": {},
   "outputs": [],
   "source": [
    "y_bow = y_bow.to_numpy()\n",
    "# do train test split\n",
    "X_train_bow, X_test_bow, y_train_bow, y_test_bow = train_test_split(X_bow, y_bow, test_size=0.30, random_state=1)"
   ]
  },
  {
   "cell_type": "code",
   "execution_count": 19,
   "id": "5b36b035-7231-4101-abff-02fa84df4d53",
   "metadata": {},
   "outputs": [],
   "source": [
    "# get train and test indices\n",
    "train_indices = X_train_bow.index\n",
    "test_indices = X_test_bow.index"
   ]
  },
  {
   "cell_type": "code",
   "execution_count": 21,
   "id": "2441f4c5-a8c5-4193-aeff-490626bb10fd",
   "metadata": {},
   "outputs": [
    {
     "name": "stdout",
     "output_type": "stream",
     "text": [
      "Training data size 70% : 63\n",
      "Test data size 30% : 27\n"
     ]
    }
   ],
   "source": [
    "print('Training data size 70% : '+str(len(X_train_bow)))\n",
    "print('Test data size 30% : '+str(len(X_test_bow)))"
   ]
  },
  {
   "cell_type": "code",
   "execution_count": 22,
   "id": "f509e1d7-0a57-49a0-80aa-4744275771b3",
   "metadata": {},
   "outputs": [
    {
     "data": {
      "image/png": "[encoded data removed]",
      "text/plain": [
       "<Figure size 432x288 with 1 Axes>"
      ]
     },
     "metadata": {
      "needs_background": "light"
     },
     "output_type": "display_data"
    }
   ],
   "source": [
    "plt.title('Distribution of train and test')\n",
    "sns.kdeplot(y_train_bow, label='Train PDF')\n",
    "sns.kdeplot(y_test_bow, label='Test PDF')\n",
    "plt.legend()\n",
    "plt.show()"
   ]
  },
  {
   "cell_type": "markdown",
   "id": "4d4becd2-0c57-48bc-b794-8840d8528cc6",
   "metadata": {},
   "source": [
    "<br><b style=\"color:#ff6600\"><u>Summary</u></b><br>\n",
    "Outputs of both test and train data have same distribution.<br>\n",
    "At first I had divided the data into train, cv and test data with 60%, 20% and 20% respectively in each group.<br>\n",
    "But the model were not showing very different results when I changed the random state for the split.<br>\n",
    "This is because we have a very small dataset.<br>\n",
    "So I decided to use kfold cross validation for hyper parameter tuning. And I have divided the data as follows,<br>\n",
    "* Train data is 70% and have 63 data points.\n",
    "* Test data is 30% and have 27 data points."
   ]
  },
  {
   "cell_type": "markdown",
   "id": "11121a6b-3e32-4af5-89e8-ccbc8cffe658",
   "metadata": {},
   "source": [
    "## Preprocessing"
   ]
  },
  {
   "cell_type": "code",
   "execution_count": 23,
   "id": "4c02a4b2-32ed-4c7c-97d9-2b364db528fb",
   "metadata": {},
   "outputs": [],
   "source": [
    "# mean centering, variance scaling\n",
    "scaler = StandardScaler()"
   ]
  },
  {
   "cell_type": "code",
   "execution_count": 24,
   "id": "f7feef11-f588-4e11-aa2c-0881503583ce",
   "metadata": {},
   "outputs": [
    {
     "data": {
      "text/plain": [
       "StandardScaler()"
      ]
     },
     "execution_count": 24,
     "metadata": {},
     "output_type": "execute_result"
    }
   ],
   "source": [
    "# getting mean and variance\n",
    "scaler.fit(X_train_bow)"
   ]
  },
  {
   "cell_type": "code",
   "execution_count": 25,
   "id": "88e75a60-c3e0-4fa0-bc35-4d57861e7d91",
   "metadata": {},
   "outputs": [],
   "source": [
    "# standardizing train data\n",
    "X_train_bow = scaler.transform(X_train_bow)"
   ]
  },
  {
   "cell_type": "code",
   "execution_count": 26,
   "id": "922b3716-ca93-4229-baa0-640fffc32678",
   "metadata": {
    "tags": []
   },
   "outputs": [],
   "source": [
    "# standardizing test data\n",
    "X_test_bow = scaler.transform(X_test_bow)"
   ]
  },
  {
   "cell_type": "markdown",
   "id": "e3323712-4a01-4476-b0ac-2ee7e50eb7b3",
   "metadata": {},
   "source": [
    "<br><b style=\"color:#ff6600\"><u>Summary</u></b><br>\n",
    "In preprocessing I have done standardization which means mean centering and variance scaling. So now all column will have mean of 0 and variance of 1."
   ]
  },
  {
   "cell_type": "markdown",
   "id": "58480c16-558f-4fe1-8be7-7066caa077a1",
   "metadata": {
    "tags": []
   },
   "source": [
    "## Modeling (Basic)"
   ]
  },
  {
   "cell_type": "code",
   "execution_count": 28,
   "id": "19b09c78-b34e-4ad4-be60-cdf90b11bbcd",
   "metadata": {},
   "outputs": [],
   "source": [
    "def showErrors(model, X_train, y_train, X_test, y_test):\n",
    "    '''show errors for train and test and also return test errors'''\n",
    "    print('\\n','==========','Train Errors','==========','\\n')\n",
    "    # predict for train\n",
    "    y_train_pred = model.predict(X_train)\n",
    "    # get mean squared error for train data\n",
    "    print('MSE on train data =>',mse(y_train, y_train_pred))\n",
    "    # get r squared score for train data\n",
    "    print('R-squared on train data =>',r2_score(y_train, y_train_pred))\n",
    "    # plot histogram \n",
    "    sns.histplot(y_train - y_train_pred)\n",
    "    # set title and show plot\n",
    "    plt.title('PDF of errors')\n",
    "    plt.show()\n",
    "\n",
    "    print('\\n','==========','Test Errors','==========','\\n')\n",
    "    # predict for test\n",
    "    y_test_pred = model.predict(X_test)\n",
    "    # get mean squared error for test data\n",
    "    print('MSE on test data =>',mse(y_test, y_test_pred))\n",
    "    # get r squared score for test data\n",
    "    print('R-squared on test data =>',r2_score(y_test, y_test_pred))\n",
    "    # get errors\n",
    "    test_errors = y_test - y_test_pred\n",
    "    # plot histogram \n",
    "    sns.histplot(test_errors)\n",
    "    # set title and show plot\n",
    "    plt.title('PDF of errors')\n",
    "    plt.show()\n",
    "    return test_errors"
   ]
  },
  {
   "cell_type": "markdown",
   "id": "7634b29c-3e9a-4738-8722-39b6cb503039",
   "metadata": {},
   "source": [
    "### Linear Regression"
   ]
  },
  {
   "cell_type": "code",
   "execution_count": 28,
   "id": "4eb06c91-a806-4631-bafd-04199e67b4b4",
   "metadata": {},
   "outputs": [],
   "source": [
    "def objective(space):\n",
    "    '''objective function for hyper param tuning'''\n",
    "    # 3 fold cross validation\n",
    "    kf = KFold(n_splits=3)\n",
    "    mselosses = []\n",
    "    # k fold cross validation\n",
    "    for train_index, cv_index in kf.split(X_train_bow):\n",
    "        # split input data\n",
    "        X_train, X_cv = X_train_bow[train_index], X_train_bow[cv_index]\n",
    "        # split output data\n",
    "        y_train, y_cv = y_train_bow[train_index], y_train_bow[cv_index]\n",
    "        # create Linear Regression model with l2 regularizer\n",
    "        model = Ridge(alpha = space['alpha'], max_iter=3000)\n",
    "        # train the model\n",
    "        model.fit(X_train, y_train)\n",
    "        # predict output for cv\n",
    "        cv_pred = model.predict(X_cv)\n",
    "        # calculate cv loss\n",
    "        tempmseloss = mse(y_cv, cv_pred)\n",
    "        # save cv mse loss\n",
    "        mselosses.append(tempmseloss)\n",
    "        \n",
    "    # calculate mse\n",
    "    mseloss = sum(mselosses)/len(mselosses)\n",
    "    # return params\n",
    "    return {'loss':mseloss, 'status': STATUS_OK, 'params': space }"
   ]
  },
  {
   "cell_type": "code",
   "execution_count": 29,
   "id": "48dd6388-419a-47bc-91c6-1b65fbe773bb",
   "metadata": {},
   "outputs": [],
   "source": [
    "# search space for hyper parameter tuning\n",
    "space = {\n",
    "    # uniform distribution between 0.001 and 1000\n",
    "    \"alpha\": hp.quniform(\"alpha\", 0.001, 1000, 0.001)\n",
    "}"
   ]
  },
  {
   "cell_type": "code",
   "execution_count": 32,
   "id": "888fe05d-d2a0-4395-9d2f-cc1ae9c08d50",
   "metadata": {},
   "outputs": [
    {
     "name": "stdout",
     "output_type": "stream",
     "text": [
      "100%|███████| 300/300 [00:15<00:00, 19.11trial/s, best loss: 174.83018200877768]\n"
     ]
    }
   ],
   "source": [
    "# create trials\n",
    "trials = Trials()\n",
    "# minimise the objective function with max 300 trials\n",
    "best_param = fmin(fn=objective,\n",
    "            space=space,\n",
    "            algo=tpe.suggest,\n",
    "            max_evals=300,\n",
    "            trials=trials)"
   ]
  },
  {
   "cell_type": "code",
   "execution_count": 33,
   "id": "4ad8b751-8bed-46ff-babd-f154eb092ffa",
   "metadata": {},
   "outputs": [
    {
     "name": "stdout",
     "output_type": "stream",
     "text": [
      "Best Param :  {'alpha': 0.109}\n"
     ]
    }
   ],
   "source": [
    "print(\"Best Param : \", best_param)"
   ]
  },
  {
   "cell_type": "code",
   "execution_count": 34,
   "id": "935d3a57-f08f-4f0c-b2b3-ca7016a90c0d",
   "metadata": {},
   "outputs": [
    {
     "data": {
      "text/plain": [
       "Ridge(alpha=0.109, max_iter=3000)"
      ]
     },
     "execution_count": 34,
     "metadata": {},
     "output_type": "execute_result"
    }
   ],
   "source": [
    "# create l2 linear regerssion model\n",
    "lr_model = Ridge(alpha = 0.109, max_iter=3000)\n",
    "# fit model on train data\n",
    "lr_model.fit(X_train_bow, y_train_bow)"
   ]
  },
  {
   "cell_type": "code",
   "execution_count": 35,
   "id": "8b1339f8-ec9a-43d5-b835-b316949ad971",
   "metadata": {},
   "outputs": [
    {
     "name": "stdout",
     "output_type": "stream",
     "text": [
      "\n",
      " ========== Train Errors ========== \n",
      "\n",
      "MSE on train data => 4.790370606591921e-06\n",
      "R-squared on train data => 0.9999999817312473\n"
     ]
    },
    {
     "data": {
      "image/png": "[encoded data removed]",
      "text/plain": [
       "<Figure size 432x288 with 1 Axes>"
      ]
     },
     "metadata": {
      "needs_background": "light"
     },
     "output_type": "display_data"
    },
    {
     "name": "stdout",
     "output_type": "stream",
     "text": [
      "\n",
      " ========== Test Errors ========== \n",
      "\n",
      "MSE on test data => 91.47776450960637\n",
      "R-squared on test data => 0.6112817907676569\n"
     ]
    },
    {
     "data": {
      "image/png": "[encoded data removed]",
      "text/plain": [
       "<Figure size 432x288 with 1 Axes>"
      ]
     },
     "metadata": {
      "needs_background": "light"
     },
     "output_type": "display_data"
    }
   ],
   "source": [
    "# get errors\n",
    "test_errors = showErrors(lr_model, X_train_bow, y_train_bow, X_test_bow, y_test_bow)"
   ]
  },
  {
   "cell_type": "code",
   "execution_count": 36,
   "id": "8de4c4c0-445e-4125-a196-0b517a645cb0",
   "metadata": {},
   "outputs": [
    {
     "data": {
      "image/png": "[encoded data removed]",
      "text/plain": [
       "<Figure size 864x432 with 1 Axes>"
      ]
     },
     "metadata": {
      "needs_background": "light"
     },
     "output_type": "display_data"
    }
   ],
   "source": [
    "# regularisation params\n",
    "alphas = [1e-5, 1e-4, 1e-3, 1e-2, 1e-1, 1e0, 1e1, 1e2, .5e3, 1e3, .5e4, 1e4, 1e5, 1e6]\n",
    "\n",
    "train_mse = []\n",
    "cv_mse = []\n",
    "# calculate train and cv loss for each alpha\n",
    "for i in alphas:\n",
    "    # create l2 linear regerssion model\n",
    "    model = Ridge(alpha = i, max_iter=3000)\n",
    "    # fit model on train data\n",
    "    model.fit(X_train_bow, y_train_bow)\n",
    "    # get train loss\n",
    "    train_mse.append(mse(y_train_bow, model.predict(X_train_bow)))\n",
    "    # get test loss\n",
    "    cv_mse.append(mse(y_test_bow, model.predict(X_test_bow)))\n",
    "\n",
    "# create x axis values\n",
    "x_axis = list(range(len(alphas)))\n",
    "# set fig size\n",
    "plt.figure(figsize=(12, 6))\n",
    "# title for the plot\n",
    "plt.title('Train and Test loss for different alphas')\n",
    "# plot a line plot for train mse\n",
    "plt.plot(train_mse, 'o-', color='green', label='Train')\n",
    "# plot a line plot for cv mse\n",
    "plt.plot(cv_mse, 'o-', color='blue', label='Test')\n",
    "# change x ticks\n",
    "plt.xticks(ticks=x_axis, labels=alphas)\n",
    "plt.xlabel('alpha')\n",
    "plt.ylabel('loss')\n",
    "plt.legend()\n",
    "plt.show()"
   ]
  },
  {
   "cell_type": "code",
   "execution_count": 37,
   "id": "da52318d-d709-4bd8-9f45-c9931600fee6",
   "metadata": {},
   "outputs": [
    {
     "data": {
      "text/html": [
       "<div>\n",
       "<style scoped>\n",
       "    .dataframe tbody tr th:only-of-type {\n",
       "        vertical-align: middle;\n",
       "    }\n",
       "\n",
       "    .dataframe tbody tr th {\n",
       "        vertical-align: top;\n",
       "    }\n",
       "\n",
       "    .dataframe thead th {\n",
       "        text-align: right;\n",
       "    }\n",
       "</style>\n",
       "<table border=\"1\" class=\"dataframe\">\n",
       "  <thead>\n",
       "    <tr style=\"text-align: right;\">\n",
       "      <th></th>\n",
       "      <th>CandidateID</th>\n",
       "      <th>Match Percentage</th>\n",
       "    </tr>\n",
       "  </thead>\n",
       "  <tbody>\n",
       "    <tr>\n",
       "      <th>87</th>\n",
       "      <td>candidate_072</td>\n",
       "      <td>44.94</td>\n",
       "    </tr>\n",
       "    <tr>\n",
       "      <th>74</th>\n",
       "      <td>candidate_086</td>\n",
       "      <td>7.81</td>\n",
       "    </tr>\n",
       "    <tr>\n",
       "      <th>60</th>\n",
       "      <td>candidate_047</td>\n",
       "      <td>11.30</td>\n",
       "    </tr>\n",
       "    <tr>\n",
       "      <th>89</th>\n",
       "      <td>candidate_037</td>\n",
       "      <td>56.70</td>\n",
       "    </tr>\n",
       "  </tbody>\n",
       "</table>\n",
       "</div>"
      ],
      "text/plain": [
       "      CandidateID  Match Percentage\n",
       "87  candidate_072             44.94\n",
       "74  candidate_086              7.81\n",
       "60  candidate_047             11.30\n",
       "89  candidate_037             56.70"
      ]
     },
     "execution_count": 37,
     "metadata": {},
     "output_type": "execute_result"
    }
   ],
   "source": [
    "# get data points with mae greater than 15\n",
    "csvData.loc[test_indices[np.abs(test_errors)>15]]"
   ]
  },
  {
   "cell_type": "code",
   "execution_count": 79,
   "id": "7fcf671f-2877-4861-ae5e-a968e6d6dae0",
   "metadata": {},
   "outputs": [],
   "source": [
    "def getKFeatures(k, model, reverse=False):\n",
    "    '''get top or bottom k number of important features for linear regression'''\n",
    "    # get k features\n",
    "    if reverse:\n",
    "        top_k = np.argsort(np.abs(model.coef_))[:k]\n",
    "    else:\n",
    "        top_k = np.argsort(np.abs(model.coef_))[::-1][:k]\n",
    "    top_k_features = list(features[top_k])\n",
    "    # load bow vocab\n",
    "    with open('bow_vocab.npy', 'rb') as f:\n",
    "        bow_vocab = np.load(f, allow_pickle=True)\n",
    "    values = np.array(model.coef_[top_k], dtype=np.float16)\n",
    "    labels = ['BoW: '+bow_vocab[int(i.replace('bow_resume_',''))-1] if i.startswith('bow_resume_') else i for i in top_k_features]\n",
    "    for i in range(k):\n",
    "        print(labels[i].ljust(35, '-'), '> ', values[i])"
   ]
  },
  {
   "cell_type": "code",
   "execution_count": 39,
   "id": "e2d63de3-f59b-4bfe-9022-821055dd0b8a",
   "metadata": {},
   "outputs": [
    {
     "name": "stdout",
     "output_type": "stream",
     "text": [
      "BoW: various----------------------- >  0.675\n",
      "common_word_ratio_min-------------- >  0.645\n",
      "cosine_similarity------------------ >  0.527\n",
      "BoW: logistic---------------------- >  -0.4834\n",
      "common_word_num-------------------- >  0.474\n",
      "BoW: academic---------------------- >  -0.4673\n",
      "BoW: intern------------------------ >  -0.4229\n",
      "fuzz_partial_ratio----------------- >  0.4182\n",
      "BoW: mysql------------------------- >  -0.4136\n",
      "fuzz_token_sort_ratio-------------- >  0.4055\n",
      "BoW: way--------------------------- >  -0.403\n",
      "BoW: based------------------------- >  -0.4023\n",
      "BoW: learning artificial----------- >  0.3792\n",
      "BoW: skill data analysis----------- >  -0.3745\n",
      "BoW: fresher----------------------- >  0.3733\n",
      "BoW: amount------------------------ >  -0.3733\n",
      "BoW: explore----------------------- >  0.3662\n",
      "BoW: modeling predictive----------- >  -0.3542\n",
      "BoW: powerbi----------------------- >  -0.3535\n",
      "BoW: big data analytics------------ >  0.3403\n"
     ]
    }
   ],
   "source": [
    "getKFeatures(20, lr_model)"
   ]
  },
  {
   "cell_type": "markdown",
   "id": "eb6da750-8db7-4edb-b8ef-d4362f164639",
   "metadata": {
    "tags": []
   },
   "source": [
    "### KNN Regression"
   ]
  },
  {
   "cell_type": "code",
   "execution_count": 40,
   "id": "8b96a300-27d2-4e36-a09c-d053e3d42ed3",
   "metadata": {},
   "outputs": [],
   "source": [
    "def objective(space):\n",
    "    '''objective function for hyper param tuning'''\n",
    "    # 3 fold cross validation\n",
    "    kf = KFold(n_splits=3)\n",
    "    mselosses = []\n",
    "    # k fold cross validation\n",
    "    for train_index, cv_index in kf.split(X_train_bow):\n",
    "        # split input data\n",
    "        X_train, X_cv = X_train_bow[train_index], X_train_bow[cv_index]\n",
    "        # split output data\n",
    "        y_train, y_cv = y_train_bow[train_index], y_train_bow[cv_index]\n",
    "        # create KNN Regression model\n",
    "        model = KNeighborsRegressor(n_neighbors=space['n_neighbors'], metric=space['metric'])\n",
    "        # train the model\n",
    "        model.fit(X_train, y_train)\n",
    "        cv_pred = model.predict(X_cv)\n",
    "        tempmseloss = mse(y_cv, cv_pred)\n",
    "        mselosses.append(tempmseloss)\n",
    "        \n",
    "    # calculate mse\n",
    "    mseloss = sum(mselosses)/len(mselosses)\n",
    "    # return params\n",
    "    return {'loss':mseloss, 'status': STATUS_OK, 'params': space }"
   ]
  },
  {
   "cell_type": "code",
   "execution_count": 41,
   "id": "f71e66e6-4ec5-46de-a9d8-cd29c0306dfb",
   "metadata": {},
   "outputs": [],
   "source": [
    "# search space for hyper parameter tuning\n",
    "space = {\n",
    "    \"n_neighbors\": hp.choice(\"n_neighbors\", [3, 5, 7]),\n",
    "    \"metric\": hp.choice(\"metric\", ['euclidean', 'cosine'])\n",
    "}"
   ]
  },
  {
   "cell_type": "code",
   "execution_count": 42,
   "id": "0491980e-ee46-4e10-a5d6-d213c2f3aef2",
   "metadata": {},
   "outputs": [
    {
     "name": "stdout",
     "output_type": "stream",
     "text": [
      "100%|███████| 300/300 [00:05<00:00, 53.65trial/s, best loss: 206.95988415937805]\n"
     ]
    }
   ],
   "source": [
    "# create trials\n",
    "trials = Trials()\n",
    "# minimise the objective function with max 300 trials\n",
    "best_param = fmin(fn=objective,\n",
    "            space=space,\n",
    "            algo=tpe.suggest,\n",
    "            max_evals=300,\n",
    "            trials=trials)"
   ]
  },
  {
   "cell_type": "code",
   "execution_count": 43,
   "id": "f668bc49-b5fa-4c54-b32b-c301335d013d",
   "metadata": {},
   "outputs": [
    {
     "name": "stdout",
     "output_type": "stream",
     "text": [
      "{'metric': 1, 'n_neighbors': 2}\n"
     ]
    }
   ],
   "source": [
    "print(best_param)"
   ]
  },
  {
   "cell_type": "code",
   "execution_count": 44,
   "id": "832d92d9-31c7-40c2-bc33-fb9c70af2da9",
   "metadata": {},
   "outputs": [],
   "source": [
    "knn_model = KNeighborsRegressor(n_neighbors=7, metric='cosine')"
   ]
  },
  {
   "cell_type": "code",
   "execution_count": 45,
   "id": "289003ef-77fc-42ee-8cae-4f77f5ad375e",
   "metadata": {},
   "outputs": [
    {
     "data": {
      "text/plain": [
       "KNeighborsRegressor(metric='cosine', n_neighbors=7)"
      ]
     },
     "execution_count": 45,
     "metadata": {},
     "output_type": "execute_result"
    }
   ],
   "source": [
    "knn_model.fit(X_train_bow, y_train_bow)"
   ]
  },
  {
   "cell_type": "code",
   "execution_count": 46,
   "id": "e00f1aa4-b8d1-4586-9d76-11c99fe0a01a",
   "metadata": {},
   "outputs": [
    {
     "name": "stdout",
     "output_type": "stream",
     "text": [
      "\n",
      " ========== Train Errors ========== \n",
      "\n",
      "MSE on train data => 157.02100800129577\n",
      "R-squared on train data => 0.40117827864275457\n"
     ]
    },
    {
     "data": {
      "image/png": "[encoded data removed]",
      "text/plain": [
       "<Figure size 432x288 with 1 Axes>"
      ]
     },
     "metadata": {
      "needs_background": "light"
     },
     "output_type": "display_data"
    },
    {
     "name": "stdout",
     "output_type": "stream",
     "text": [
      "\n",
      " ========== Test Errors ========== \n",
      "\n",
      "MSE on test data => 148.5021040060469\n",
      "R-squared on test data => 0.36896717747837193\n"
     ]
    },
    {
     "data": {
      "image/png": "[encoded data removed]",
      "text/plain": [
       "<Figure size 432x288 with 1 Axes>"
      ]
     },
     "metadata": {
      "needs_background": "light"
     },
     "output_type": "display_data"
    }
   ],
   "source": [
    "test_errors = showErrors(knn_model, X_train_bow, y_train_bow, X_test_bow, y_test_bow)"
   ]
  },
  {
   "cell_type": "markdown",
   "id": "1a176681-aca9-4463-80a1-3232143af20e",
   "metadata": {},
   "source": [
    "<br><b style=\"color:#ff6600\"><u>Summary</u></b><br>\n",
    "Initially, I have tried only two models. One is Linear Regression with L2 regularizer which is a simple model. And the other is KNN Regression which is little bit of complex model.\n",
    "<br><br>\n",
    "After hyper-param tuning with hyperopt, I found the best alpha for the linear regression model is 0.109. But when we calculate the MSE errors we found that there is huge gap in train and test mse errors. The mse on train data is 4.79 where as the mse on test data is 91.48.\n",
    "<br><br>\n",
    "So, I plotted the test and train mse loss for different alpha values. From the plot we can see that the model is overfitting. The difference between train and test mse decreases for higher alpha values. But in that case the both mse loss will increase significantly. \n",
    "<br><br>\n",
    "Since Linear regression is a simple and high bias model we should not see such overfitting. I had also tried linear regression with l1 regularizer and it was showing very similar result.\n",
    "<br><br>\n",
    "Similarly for KNN regression I found the best params (n_neighbors=7, metric='cosine'). But the KNN is performing very badly on both train and test data. The mse on train is 157.02 and test is 148.5.\n",
    "<br><br>\n",
    "So I chose the Linear regression model with l2 regularizer for error analysis."
   ]
  },
  {
   "cell_type": "markdown",
   "id": "a85b586a-1fdc-4443-997b-5601959b5725",
   "metadata": {},
   "source": [
    "## Error Analysis"
   ]
  },
  {
   "cell_type": "code",
   "execution_count": null,
   "id": "9a1762a9-6787-4282-8c74-0e22e1ee00f4",
   "metadata": {},
   "outputs": [],
   "source": [
    "feature_selector = LinearRegression()\n",
    "sfs = SequentialFeatureSelector(feature_selector, n_features_to_select=100, direction='forward', cv=3)\n",
    "sfs.fit(StandardScaler().fit_transform(X_bow), y_bow)"
   ]
  },
  {
   "cell_type": "code",
   "execution_count": null,
   "id": "c9dd9141-6111-4bf3-ae07-f80f9f96c0b5",
   "metadata": {},
   "outputs": [],
   "source": [
    "# # save selected_features\n",
    "# features = sfs.get_support()\n",
    "# with open('selected_features.npy', 'wb') as f:\n",
    "#     np.save(f, features, allow_pickle=True)"
   ]
  },
  {
   "cell_type": "code",
   "execution_count": 20,
   "id": "6461e1db-6057-43ba-a318-167ea7557657",
   "metadata": {},
   "outputs": [],
   "source": [
    "with open('selected_features.npy', 'rb') as f:\n",
    "    features = np.load(f)"
   ]
  },
  {
   "cell_type": "code",
   "execution_count": 48,
   "id": "0990d42c-8e8b-4a05-9436-182555e4bfa6",
   "metadata": {},
   "outputs": [
    {
     "data": {
      "text/plain": [
       "array(['common_word_ratio_min', 'fuzz_ratio', 'fuzz_token_sort_ratio',\n",
       "       'bow_jd_1', 'bow_jd_2', 'bow_jd_3', 'bow_jd_4', 'bow_jd_5',\n",
       "       'bow_jd_6', 'bow_jd_7', 'bow_jd_8', 'bow_jd_9', 'bow_jd_10',\n",
       "       'bow_jd_11', 'bow_jd_12', 'bow_jd_13', 'bow_jd_14', 'bow_jd_15',\n",
       "       'bow_jd_16', 'bow_jd_17', 'bow_jd_18', 'bow_jd_19', 'bow_jd_20',\n",
       "       'bow_jd_21', 'bow_jd_22', 'bow_jd_23', 'bow_jd_24', 'bow_jd_25',\n",
       "       'bow_jd_26', 'bow_jd_27', 'bow_jd_28', 'bow_jd_29', 'bow_jd_30',\n",
       "       'bow_jd_31', 'bow_jd_32', 'bow_jd_33', 'bow_jd_34', 'bow_jd_35',\n",
       "       'bow_jd_36', 'bow_jd_37', 'bow_jd_38', 'bow_jd_39', 'bow_jd_40',\n",
       "       'bow_jd_41', 'bow_jd_42', 'bow_jd_43', 'bow_jd_44', 'bow_resume_8',\n",
       "       'bow_resume_16', 'bow_resume_33', 'bow_resume_54', 'bow_resume_55',\n",
       "       'bow_resume_69', 'bow_resume_77', 'bow_resume_83', 'bow_resume_85',\n",
       "       'bow_resume_106', 'bow_resume_107', 'bow_resume_108',\n",
       "       'bow_resume_136', 'bow_resume_148', 'bow_resume_150',\n",
       "       'bow_resume_156', 'bow_resume_185', 'bow_resume_195',\n",
       "       'bow_resume_219', 'bow_resume_247', 'bow_resume_248',\n",
       "       'bow_resume_249', 'bow_resume_252', 'bow_resume_287',\n",
       "       'bow_resume_293', 'bow_resume_314', 'bow_resume_339',\n",
       "       'bow_resume_364', 'bow_resume_366', 'bow_resume_369',\n",
       "       'bow_resume_392', 'bow_resume_398', 'bow_resume_405',\n",
       "       'bow_resume_418', 'bow_resume_468', 'bow_resume_481',\n",
       "       'bow_resume_491', 'bow_resume_494', 'bow_resume_500',\n",
       "       'bow_resume_517', 'bow_resume_518', 'bow_resume_533',\n",
       "       'bow_resume_539', 'bow_resume_557', 'bow_resume_572',\n",
       "       'bow_resume_576', 'bow_resume_609', 'bow_resume_644',\n",
       "       'bow_resume_651', 'bow_resume_653', 'bow_resume_654',\n",
       "       'bow_resume_691', 'bow_resume_700'], dtype='<U21')"
      ]
     },
     "execution_count": 48,
     "metadata": {},
     "output_type": "execute_result"
    }
   ],
   "source": [
    "features"
   ]
  },
  {
   "cell_type": "code",
   "execution_count": 21,
   "id": "29436af2-f21a-4900-be4e-c176a0badebd",
   "metadata": {},
   "outputs": [],
   "source": [
    "X_bow = X_bow[features]"
   ]
  },
  {
   "cell_type": "markdown",
   "id": "9d99f0dd-078b-40cd-a85e-cec7ea3c940f",
   "metadata": {},
   "source": [
    "<br><b style=\"color:#ff6600\"><u>Summary</u></b><br>\n",
    "For BoW, I had used minimum document frequency of 2, but the models were overfitting so I chosed min_df = 4. Which improved the result little bit but not much.\n",
    "<br><br>\n",
    "I checked the data points which showed higher errors and compared different resumes.\n",
    "<br><br>\n",
    "I also tried the linear regression model multiple times and checked the feature importance. It showed some traces of collinearity.\n",
    "<br><br>\n",
    "These collinearity or multi-collinearity could be because we do have short and long form of some skills and degrees. And also because we have unigram, bigram and trigram.\n",
    "<br><br>\n",
    "So I did forward feature selection with SequentialFeatureSelector to select 500 features. After that when I fitted a linear regression. And I found less than 100 weight were non zero. \n",
    "<br><br>\n",
    "So again did forward feature selection to selection only top 100 features. So now we have reached from 1444 features to 100 features, that means we have only 6.93% of the original features.\n",
    "<br><br>\n",
    "When we view the selected features we see that we have some of the extracted features. Also we have more number of features or words from resume than the jd. That's because we have only one jd for the whole dataset."
   ]
  },
  {
   "cell_type": "markdown",
   "id": "b5b5f9fd-44b2-4065-bebc-7e5772807dc9",
   "metadata": {
    "tags": []
   },
   "source": [
    "## Train Test split"
   ]
  },
  {
   "cell_type": "code",
   "execution_count": 22,
   "id": "5d6e2142-63ed-44aa-8338-72267b991763",
   "metadata": {},
   "outputs": [],
   "source": [
    "X_train_bow, X_test_bow, y_train_bow, y_test_bow = train_test_split(X_bow, y_bow, test_size=0.30, random_state=1)"
   ]
  },
  {
   "cell_type": "code",
   "execution_count": 23,
   "id": "1a610289-9e14-48cd-b1fb-c58e0766ba5f",
   "metadata": {},
   "outputs": [],
   "source": [
    "# get train and test indices\n",
    "train_indices = X_train_bow.index\n",
    "test_indices = X_test_bow.index"
   ]
  },
  {
   "cell_type": "markdown",
   "id": "517771d0-091a-491d-993c-eacc65806f73",
   "metadata": {},
   "source": [
    "<br><b style=\"color:#ff6600\"><u>Summary</u></b><br>\n",
    "Now again I have done train test split with the same random state. So the both the data will contain the same data point as earlier."
   ]
  },
  {
   "cell_type": "markdown",
   "id": "4ff1ccbc-27db-4038-b3ff-ceaf46e80601",
   "metadata": {},
   "source": [
    "## Preprocessing"
   ]
  },
  {
   "cell_type": "code",
   "execution_count": 24,
   "id": "632d82bf-5f2f-47b0-8a96-23115cd519fd",
   "metadata": {},
   "outputs": [],
   "source": [
    "# mean centering, variance scaling\n",
    "scaler = StandardScaler()"
   ]
  },
  {
   "cell_type": "code",
   "execution_count": 25,
   "id": "33bdee4c-844e-4166-bce3-c4f868c6bd7f",
   "metadata": {},
   "outputs": [
    {
     "data": {
      "text/plain": [
       "StandardScaler()"
      ]
     },
     "execution_count": 25,
     "metadata": {},
     "output_type": "execute_result"
    }
   ],
   "source": [
    "# getting mean and variance\n",
    "scaler.fit(X_train_bow)"
   ]
  },
  {
   "cell_type": "code",
   "execution_count": 26,
   "id": "e3e3c661-d4c0-471d-822d-778ffdfa9447",
   "metadata": {},
   "outputs": [],
   "source": [
    "# standardizing train data\n",
    "X_train_bow = scaler.transform(X_train_bow)"
   ]
  },
  {
   "cell_type": "code",
   "execution_count": 27,
   "id": "52dc01aa-4534-495c-a9d5-d3cbdc060815",
   "metadata": {},
   "outputs": [],
   "source": [
    "# standardizing test data\n",
    "X_test_bow = scaler.transform(X_test_bow)"
   ]
  },
  {
   "cell_type": "code",
   "execution_count": 66,
   "id": "930949e9-980d-46b2-93a7-641849a460de",
   "metadata": {},
   "outputs": [],
   "source": [
    "# # save all the data\n",
    "# with open('X_train_bow.npy', 'wb') as f:\n",
    "#     np.save(f, X_train_bow, allow_pickle=True)\n",
    "# with open('X_test_bow.npy', 'wb') as f:\n",
    "#     np.save(f, X_test_bow, allow_pickle=True)\n",
    "# with open('y_train_bow.npy', 'wb') as f:\n",
    "#     np.save(f, y_train_bow, allow_pickle=True)\n",
    "# with open('y_test_bow.npy', 'wb') as f:\n",
    "#     np.save(f, y_test_bow, allow_pickle=True)"
   ]
  },
  {
   "cell_type": "markdown",
   "id": "29a14f43-1c18-4635-be50-d49367535924",
   "metadata": {},
   "source": [
    "<br><b style=\"color:#ff6600\"><u>Summary</u></b><br>\n",
    "I have done the mean centering and variance scaling. And also I have saved the data points."
   ]
  },
  {
   "cell_type": "markdown",
   "id": "980c6db9-6a52-4f02-b736-cb765d476dbf",
   "metadata": {
    "tags": []
   },
   "source": [
    "## Modeling"
   ]
  },
  {
   "cell_type": "markdown",
   "id": "99cca667-4287-4d2e-82b8-0f8a854b69f3",
   "metadata": {},
   "source": [
    "### Linear Regression"
   ]
  },
  {
   "cell_type": "code",
   "execution_count": 40,
   "id": "cd684a7c-cbf2-491b-a48a-1428aa26429d",
   "metadata": {},
   "outputs": [],
   "source": [
    "def objective(space):\n",
    "    '''objective function for hyper param tuning'''\n",
    "    # 3 fold cross validation\n",
    "    kf = KFold(n_splits=3)\n",
    "    mselosses = []\n",
    "    # k fold cross validation\n",
    "    for train_index, cv_index in kf.split(X_train_bow):\n",
    "        # split input data\n",
    "        X_train, X_cv = X_train_bow[train_index], X_train_bow[cv_index]\n",
    "        # split output data\n",
    "        y_train, y_cv = y_train_bow[train_index], y_train_bow[cv_index]\n",
    "        # create Linear Regression model with l2 regularizer\n",
    "        model = Ridge(alpha = space['alpha'], max_iter=3000)\n",
    "        # train the model\n",
    "        model.fit(X_train, y_train)\n",
    "        cv_pred = model.predict(X_cv)\n",
    "        tempmseloss = mse(y_cv, cv_pred)\n",
    "        mselosses.append(tempmseloss)\n",
    "        \n",
    "    # calculate mse\n",
    "    mseloss = sum(mselosses)/len(mselosses)\n",
    "    # return params\n",
    "    return {'loss':mseloss, 'status': STATUS_OK, 'params': space }"
   ]
  },
  {
   "cell_type": "code",
   "execution_count": null,
   "id": "d860351c-7282-4616-b933-b1de27e5ca2a",
   "metadata": {},
   "outputs": [],
   "source": [
    "# search space for hyper parameter tuning\n",
    "space = {\n",
    "    # uniform distribution between 0.001 and 1000\n",
    "    \"alpha\": hp.quniform(\"alpha\", 0.001, 1000, 0.001)\n",
    "}"
   ]
  },
  {
   "cell_type": "code",
   "execution_count": 62,
   "id": "3f3758a3-2dfc-41dd-bc76-2e71dedc9fc7",
   "metadata": {},
   "outputs": [
    {
     "name": "stdout",
     "output_type": "stream",
     "text": [
      "100%|████████| 300/300 [00:09<00:00, 31.70trial/s, best loss: 73.53628002861929]\n"
     ]
    }
   ],
   "source": [
    "# create trials\n",
    "trials = Trials()\n",
    "# minimise the objective function with max 300 trials\n",
    "best_param = fmin(fn=objective,\n",
    "            space=space,\n",
    "            algo=tpe.suggest,\n",
    "            max_evals=300,\n",
    "            trials=trials)"
   ]
  },
  {
   "cell_type": "code",
   "execution_count": 63,
   "id": "02b3c6aa-4909-4fea-b66b-aa523c8a6199",
   "metadata": {},
   "outputs": [
    {
     "name": "stdout",
     "output_type": "stream",
     "text": [
      "Best Param :  {'alpha': 1.659}\n"
     ]
    }
   ],
   "source": [
    "print(\"Best Param : \", best_param)"
   ]
  },
  {
   "cell_type": "code",
   "execution_count": 41,
   "id": "8cb896c2-0ef8-4998-b5f3-bccb481e7c26",
   "metadata": {},
   "outputs": [
    {
     "data": {
      "text/plain": [
       "Ridge(alpha=1.659, max_iter=3000)"
      ]
     },
     "execution_count": 41,
     "metadata": {},
     "output_type": "execute_result"
    }
   ],
   "source": [
    "# create l2 linear regerssion model\n",
    "lr_model = Ridge(alpha = 1.659, max_iter=3000)\n",
    "# fit model on train data\n",
    "lr_model.fit(X_train_bow, y_train_bow)"
   ]
  },
  {
   "cell_type": "code",
   "execution_count": 42,
   "id": "977094d4-c054-4473-9c4b-1b843fce1b93",
   "metadata": {},
   "outputs": [
    {
     "name": "stdout",
     "output_type": "stream",
     "text": [
      "\n",
      " ========== Train Errors ========== \n",
      "\n",
      "MSE on train data => 1.9843832341166183\n",
      "R-squared on train data => 0.9924322751508743\n"
     ]
    },
    {
     "data": {
      "image/png": "[encoded data removed]",
      "text/plain": [
       "<Figure size 432x288 with 1 Axes>"
      ]
     },
     "metadata": {
      "needs_background": "light"
     },
     "output_type": "display_data"
    },
    {
     "name": "stdout",
     "output_type": "stream",
     "text": [
      "\n",
      " ========== Test Errors ========== \n",
      "\n",
      "MSE on test data => 52.13855568706237\n",
      "R-squared on test data => 0.7784466410249087\n"
     ]
    },
    {
     "data": {
      "image/png": "[encoded data removed]",
      "text/plain": [
       "<Figure size 432x288 with 1 Axes>"
      ]
     },
     "metadata": {
      "needs_background": "light"
     },
     "output_type": "display_data"
    }
   ],
   "source": [
    "test_errors = showErrors(lr_model, X_train_bow, y_train_bow, X_test_bow, y_test_bow)"
   ]
  },
  {
   "cell_type": "code",
   "execution_count": 67,
   "id": "0e18f6e2-b034-44ad-9ed8-ab81c59c1e21",
   "metadata": {},
   "outputs": [
    {
     "data": {
      "image/png": "[encoded data removed]",
      "text/plain": [
       "<Figure size 864x432 with 1 Axes>"
      ]
     },
     "metadata": {
      "needs_background": "light"
     },
     "output_type": "display_data"
    }
   ],
   "source": [
    "# regularisation params\n",
    "alphas = [1e-5, 1e-4, 1e-3, 1e-2, 1e-1, 1e0, 1e1, 1e2, 1e3, 1e4, 1e5, 1e6]\n",
    "\n",
    "train_mse = []\n",
    "cv_mse = []\n",
    "# calculate train and cv loss for each alpha\n",
    "for i in alphas:\n",
    "    kf = KFold(n_splits=3)\n",
    "    trainloss = 0\n",
    "    cvloss = 0\n",
    "    # k fold cross validation\n",
    "    count = 0\n",
    "    for train_index, cv_index in kf.split(X_train_bow):\n",
    "        count += 1\n",
    "        # split input data\n",
    "        X_train, X_cv = X_train_bow[train_index], X_train_bow[cv_index]\n",
    "        # split output data\n",
    "        y_train, y_cv = y_train_bow[train_index], y_train_bow[cv_index]\n",
    "        # create Linear Regression model with l2 regularizer\n",
    "        model = Ridge(alpha = i, max_iter=3000)\n",
    "        # train the model\n",
    "        model.fit(X_train, y_train)\n",
    "        trainloss += mse(y_train, model.predict(X_train))\n",
    "        cvloss += mse(y_cv, model.predict(X_cv))\n",
    "    \n",
    "    train_mse.append(trainloss/count)\n",
    "    cv_mse.append(cvloss/count)\n",
    "\n",
    "# create x axis values\n",
    "x_axis = list(range(len(alphas)))\n",
    "# set fig size\n",
    "plt.figure(figsize=(12, 6))\n",
    "# title for the plot\n",
    "plt.title('Train and CV loss for different alphas')\n",
    "# plot a line plot for train mse\n",
    "plt.plot(train_mse, 'o-', color='green', label='Train')\n",
    "# plot a line plot for cv mse\n",
    "plt.plot(cv_mse, 'o-', color='blue', label='CV')\n",
    "# change x ticks\n",
    "plt.xticks(ticks=x_axis, labels=alphas)\n",
    "plt.xlabel('alpha')\n",
    "plt.ylabel('loss')\n",
    "plt.legend()\n",
    "plt.show()"
   ]
  },
  {
   "cell_type": "code",
   "execution_count": 68,
   "id": "3427bd4b-b338-4e3a-86d3-27a49855296a",
   "metadata": {},
   "outputs": [
    {
     "name": "stdout",
     "output_type": "stream",
     "text": [
      "common_word_ratio_min-------------- >  4.688\n",
      "BoW: experienced------------------- >  -4.684\n",
      "BoW: logistic---------------------- >  -4.285\n",
      "BoW: various----------------------- >  3.99\n",
      "fuzz_token_sort_ratio-------------- >  3.723\n",
      "BoW: beng bachelor engineering----- >  -3.5\n",
      "BoW: gathering--------------------- >  -3.387\n",
      "BoW: logistic regression----------- >  -3.242\n",
      "BoW: ai---------------------------- >  2.725\n",
      "BoW: power bi---------------------- >  -2.574\n",
      "BoW: tuning------------------------ >  -2.447\n",
      "BoW: scientist--------------------- >  -2.248\n",
      "BoW: panda matplotlib-------------- >  2.236\n",
      "BoW: data visualization------------ >  2.229\n",
      "BoW: recommender system------------ >  -2.203\n",
      "BoW: html-------------------------- >  -2.123\n",
      "BoW: developer--------------------- >  2.035\n",
      "BoW: bsc bachelor science---------- >  -1.902\n",
      "BoW: opportunity------------------- >  1.56\n",
      "BoW: 2019 project------------------ >  -1.238\n"
     ]
    }
   ],
   "source": [
    "getKFeatures(20, lr_model)"
   ]
  },
  {
   "cell_type": "code",
   "execution_count": 69,
   "id": "9fa61059-2a3d-41d3-b5d3-e86cbcd8654f",
   "metadata": {},
   "outputs": [
    {
     "name": "stdout",
     "output_type": "stream",
     "text": [
      "bow_jd_32-------------------------- >  0.0\n",
      "bow_jd_23-------------------------- >  0.0\n",
      "bow_jd_24-------------------------- >  0.0\n",
      "bow_jd_25-------------------------- >  0.0\n",
      "bow_jd_26-------------------------- >  0.0\n"
     ]
    }
   ],
   "source": [
    "getKFeatures(5, lr_model, reverse=True)"
   ]
  },
  {
   "cell_type": "markdown",
   "id": "45da11a4-fe6f-4b74-9e51-9c43c6c2565d",
   "metadata": {
    "tags": []
   },
   "source": [
    "### KNN Regression"
   ]
  },
  {
   "cell_type": "code",
   "execution_count": 79,
   "id": "3f865a92-ee4f-4044-9a03-df3372fea1ce",
   "metadata": {},
   "outputs": [],
   "source": [
    "def objective(space):\n",
    "    '''objective function for hyper param tuning'''\n",
    "    # 3 fold cross validation\n",
    "    kf = KFold(n_splits=3)\n",
    "    mselosses = []\n",
    "    # k fold cross validation\n",
    "    for train_index, cv_index in kf.split(X_train_bow):\n",
    "        # split input data\n",
    "        X_train, X_cv = X_train_bow[train_index], X_train_bow[cv_index]\n",
    "        # split output data\n",
    "        y_train, y_cv = y_train_bow[train_index], y_train_bow[cv_index]\n",
    "        # create KNN Regression model\n",
    "        model = KNeighborsRegressor(n_neighbors=space['n_neighbors'], metric=space['metric'])\n",
    "        # train the model\n",
    "        model.fit(X_train, y_train)\n",
    "        cv_pred = model.predict(X_cv)\n",
    "        tempmseloss = mse(y_cv, cv_pred)\n",
    "        mselosses.append(tempmseloss)\n",
    "        \n",
    "    # calculate mse\n",
    "    mseloss = sum(mselosses)/len(mselosses)\n",
    "    # return params\n",
    "    return {'loss':mseloss, 'status': STATUS_OK, 'params': space }"
   ]
  },
  {
   "cell_type": "code",
   "execution_count": 80,
   "id": "ce913666-b934-43c0-92bb-602b961358b5",
   "metadata": {},
   "outputs": [],
   "source": [
    "# search space for hyper parameter tuning\n",
    "space = {\n",
    "    \"n_neighbors\": hp.choice(\"n_neighbors\", [3, 5, 7]),\n",
    "    \"metric\": hp.choice(\"metric\", ['euclidean', 'cosine'])\n",
    "}"
   ]
  },
  {
   "cell_type": "code",
   "execution_count": 74,
   "id": "9ab83af4-ad03-4500-b1e3-4f6474f241a2",
   "metadata": {},
   "outputs": [
    {
     "name": "stdout",
     "output_type": "stream",
     "text": [
      "100%|███████| 300/300 [00:01<00:00, 203.79trial/s, best loss: 184.7906720764496]\n"
     ]
    }
   ],
   "source": [
    "# create trials\n",
    "trials = Trials()\n",
    "# minimise the objective function with max 300 trials\n",
    "best_param = fmin(fn=objective,\n",
    "            space=space,\n",
    "            algo=tpe.suggest,\n",
    "            max_evals=300,\n",
    "            trials=trials)"
   ]
  },
  {
   "cell_type": "code",
   "execution_count": 75,
   "id": "290114be-9d7e-440b-85f3-dd5a91077780",
   "metadata": {},
   "outputs": [
    {
     "name": "stdout",
     "output_type": "stream",
     "text": [
      "{'metric': 1, 'n_neighbors': 2}\n"
     ]
    }
   ],
   "source": [
    "print(best_param)"
   ]
  },
  {
   "cell_type": "code",
   "execution_count": 76,
   "id": "06b780e5-9a55-494b-8762-61097872af9a",
   "metadata": {},
   "outputs": [],
   "source": [
    "knn_model = KNeighborsRegressor(n_neighbors=7, metric='cosine')"
   ]
  },
  {
   "cell_type": "code",
   "execution_count": 77,
   "id": "6112dfd0-11bf-4a36-9a81-bca48dade2f9",
   "metadata": {},
   "outputs": [
    {
     "data": {
      "text/plain": [
       "KNeighborsRegressor(metric='cosine', n_neighbors=7)"
      ]
     },
     "execution_count": 77,
     "metadata": {},
     "output_type": "execute_result"
    }
   ],
   "source": [
    "knn_model.fit(X_train_bow, y_train_bow)"
   ]
  },
  {
   "cell_type": "code",
   "execution_count": 78,
   "id": "2e6e32cf-7127-490b-9f5d-cf46426ffe32",
   "metadata": {},
   "outputs": [
    {
     "name": "stdout",
     "output_type": "stream",
     "text": [
      "\n",
      " ========== Train Errors ========== \n",
      "\n",
      "MSE on train data => 130.74267460317458\n",
      "R-squared on train data => 0.5013944028427257\n"
     ]
    },
    {
     "data": {
      "image/png": "[encoded data removed]",
      "text/plain": [
       "<Figure size 432x288 with 1 Axes>"
      ]
     },
     "metadata": {
      "needs_background": "light"
     },
     "output_type": "display_data"
    },
    {
     "name": "stdout",
     "output_type": "stream",
     "text": [
      "\n",
      " ========== Test Errors ========== \n",
      "\n",
      "MSE on test data => 113.76603983371128\n",
      "R-squared on test data => 0.5165717973904831\n"
     ]
    },
    {
     "data": {
      "image/png": "[encoded data removed]",
      "text/plain": [
       "<Figure size 432x288 with 1 Axes>"
      ]
     },
     "metadata": {
      "needs_background": "light"
     },
     "output_type": "display_data"
    }
   ],
   "source": [
    "test_errors = showErrors(knn_model, X_train_bow, y_train_bow, X_test_bow, y_test_bow)"
   ]
  },
  {
   "cell_type": "markdown",
   "id": "bcaec349-a25e-47a4-8b56-d1a4a3408c0b",
   "metadata": {
    "tags": []
   },
   "source": [
    "### Decision Tree Regressor"
   ]
  },
  {
   "cell_type": "code",
   "execution_count": 81,
   "id": "8928e1c0-253e-4887-ba52-4dacb66d73f1",
   "metadata": {},
   "outputs": [],
   "source": [
    "def objective(space):\n",
    "    '''objective function for hyper param tuning'''\n",
    "    # 3 fold cross validation\n",
    "    kf = KFold(n_splits=3)\n",
    "    mselosses = []\n",
    "    # k fold cross validation\n",
    "    for train_index, cv_index in kf.split(X_train_bow):\n",
    "        # split input data\n",
    "        X_train, X_cv = X_train_bow[train_index], X_train_bow[cv_index]\n",
    "        # split output data\n",
    "        y_train, y_cv = y_train_bow[train_index], y_train_bow[cv_index]\n",
    "        # create Decision Tree Regressor\n",
    "        model = DecisionTreeRegressor(max_depth=space['max_depth'], min_samples_split=space['min_samples_split'])\n",
    "        # train the model\n",
    "        model.fit(X_train, y_train)\n",
    "        cv_pred = model.predict(X_cv)\n",
    "        tempmseloss = mse(y_cv, cv_pred)\n",
    "        mselosses.append(tempmseloss)\n",
    "        \n",
    "    # calculate mse\n",
    "    mseloss = sum(mselosses)/len(mselosses)\n",
    "    # return params\n",
    "    return {'loss':mseloss, 'status': STATUS_OK, 'params': space }"
   ]
  },
  {
   "cell_type": "code",
   "execution_count": 82,
   "id": "46e3b584-0c39-4f7c-9b0a-d3fb5aa0d697",
   "metadata": {},
   "outputs": [],
   "source": [
    "# search space for hyper parameter tuning\n",
    "space = {\n",
    "    \"max_depth\": hp.choice(\"max_depth\", [3, 5, 7, 10, 15, 20, None]),\n",
    "    \"min_samples_split\": hp.choice(\"min_samples_split\", [2, 3, 5, 7])\n",
    "}"
   ]
  },
  {
   "cell_type": "code",
   "execution_count": 83,
   "id": "f2fd4f48-e7d3-4366-adfb-e66277387e42",
   "metadata": {},
   "outputs": [
    {
     "name": "stdout",
     "output_type": "stream",
     "text": [
      "100%|██████| 300/300 [00:01<00:00, 229.87trial/s, best loss: 290.10704201052795]\n"
     ]
    }
   ],
   "source": [
    "# create trials\n",
    "trials = Trials()\n",
    "# minimise the objective function with max 300 trials\n",
    "best_param = fmin(fn=objective,\n",
    "            space=space,\n",
    "            algo=tpe.suggest,\n",
    "            max_evals=300,\n",
    "            trials=trials)"
   ]
  },
  {
   "cell_type": "code",
   "execution_count": 84,
   "id": "07421416-474a-4b32-9649-c0b7427f3fa1",
   "metadata": {},
   "outputs": [
    {
     "data": {
      "text/plain": [
       "{'max_depth': 1, 'min_samples_split': 0}"
      ]
     },
     "execution_count": 84,
     "metadata": {},
     "output_type": "execute_result"
    }
   ],
   "source": [
    "best_param"
   ]
  },
  {
   "cell_type": "code",
   "execution_count": 85,
   "id": "a51892c7-a596-420a-8d35-f730b92a103d",
   "metadata": {},
   "outputs": [],
   "source": [
    "dt_model = DecisionTreeRegressor(max_depth=5, min_samples_split=2)"
   ]
  },
  {
   "cell_type": "code",
   "execution_count": 86,
   "id": "e4d72206-2f18-4d1e-92eb-da0baa5d3b81",
   "metadata": {},
   "outputs": [
    {
     "data": {
      "text/plain": [
       "DecisionTreeRegressor(max_depth=5)"
      ]
     },
     "execution_count": 86,
     "metadata": {},
     "output_type": "execute_result"
    }
   ],
   "source": [
    "dt_model.fit(X_train_bow, y_train_bow)"
   ]
  },
  {
   "cell_type": "code",
   "execution_count": 87,
   "id": "b13cb9cb-b0e6-46fb-9350-96d0d3ce5415",
   "metadata": {},
   "outputs": [
    {
     "name": "stdout",
     "output_type": "stream",
     "text": [
      "\n",
      " ========== Train Errors ========== \n",
      "\n",
      "MSE on train data => 21.960237271352984\n",
      "R-squared on train data => 0.9162515433340193\n"
     ]
    },
    {
     "data": {
      "image/png": "[encoded data removed]",
      "text/plain": [
       "<Figure size 432x288 with 1 Axes>"
      ]
     },
     "metadata": {
      "needs_background": "light"
     },
     "output_type": "display_data"
    },
    {
     "name": "stdout",
     "output_type": "stream",
     "text": [
      "\n",
      " ========== Test Errors ========== \n",
      "\n",
      "MSE on test data => 164.57625432804232\n",
      "R-squared on test data => 0.3006629839774322\n"
     ]
    },
    {
     "data": {
      "image/png": "[encoded data removed]",
      "text/plain": [
       "<Figure size 432x288 with 1 Axes>"
      ]
     },
     "metadata": {
      "needs_background": "light"
     },
     "output_type": "display_data"
    }
   ],
   "source": [
    "test_errors = showErrors(dt_model, X_train_bow, y_train_bow, X_test_bow, y_test_bow)"
   ]
  },
  {
   "cell_type": "markdown",
   "id": "662bde76-525d-467e-b20f-c1d4e5604b2f",
   "metadata": {},
   "source": [
    "### Support Vector Regression (RBF Kernel)"
   ]
  },
  {
   "cell_type": "code",
   "execution_count": 88,
   "id": "7d8813f3-3b82-481d-98b4-88066d2a2250",
   "metadata": {},
   "outputs": [],
   "source": [
    "def objective(space):\n",
    "    '''objective function for hyper param tuning'''\n",
    "    # 3 fold cross validation\n",
    "    kf = KFold(n_splits=3)\n",
    "    mselosses = []\n",
    "    # k fold cross validation\n",
    "    for train_index, cv_index in kf.split(X_train_bow):\n",
    "        # split input data\n",
    "        X_train, X_cv = X_train_bow[train_index], X_train_bow[cv_index]\n",
    "        # split output data\n",
    "        y_train, y_cv = y_train_bow[train_index], y_train_bow[cv_index]\n",
    "        # create SVR RBF\n",
    "        model = SVR(C = space['c'])\n",
    "        # train the model\n",
    "        model.fit(X_train, y_train)\n",
    "        cv_pred = model.predict(X_cv)\n",
    "        tempmseloss = mse(y_cv, cv_pred)\n",
    "        mselosses.append(tempmseloss)\n",
    "        \n",
    "    # calculate mse\n",
    "    mseloss = sum(mselosses)/len(mselosses)\n",
    "    # return params\n",
    "    return {'loss':mseloss, 'status': STATUS_OK, 'params': space }"
   ]
  },
  {
   "cell_type": "code",
   "execution_count": 89,
   "id": "3af07106-53cc-43ab-a544-6758634a73a5",
   "metadata": {},
   "outputs": [],
   "source": [
    "# search space for hyper parameter tuning\n",
    "space = {\n",
    "    # uniform distribution between 0.001 and 1000\n",
    "    \"c\": hp.quniform(\"c\", 0.001, 1000, 0.001)\n",
    "}"
   ]
  },
  {
   "cell_type": "code",
   "execution_count": 90,
   "id": "78b34c16-280a-4f6e-ac35-78a4b1853432",
   "metadata": {},
   "outputs": [
    {
     "name": "stdout",
     "output_type": "stream",
     "text": [
      "100%|██████| 300/300 [00:02<00:00, 115.34trial/s, best loss: 145.75406757580532]\n"
     ]
    }
   ],
   "source": [
    "# create trials\n",
    "trials = Trials()\n",
    "# minimise the objective function with max 300 trials\n",
    "best_param = fmin(fn=objective,\n",
    "            space=space,\n",
    "            algo=tpe.suggest,\n",
    "            max_evals=300,\n",
    "            trials=trials)"
   ]
  },
  {
   "cell_type": "code",
   "execution_count": 91,
   "id": "f5f5d59b-0e65-4a11-89e2-99d954f5eb7d",
   "metadata": {},
   "outputs": [
    {
     "name": "stdout",
     "output_type": "stream",
     "text": [
      "Best Param :  {'c': 253.341}\n"
     ]
    }
   ],
   "source": [
    "print(\"Best Param : \", best_param)"
   ]
  },
  {
   "cell_type": "code",
   "execution_count": 92,
   "id": "bd7e2e9e-d4a6-4201-a43f-cf6076892dca",
   "metadata": {},
   "outputs": [],
   "source": [
    "svr_model_rbf = SVR(C = 253.341)"
   ]
  },
  {
   "cell_type": "code",
   "execution_count": 93,
   "id": "a85682e4-7822-4cd3-bc50-7eb0a6db3b43",
   "metadata": {},
   "outputs": [
    {
     "data": {
      "text/plain": [
       "SVR(C=253.341)"
      ]
     },
     "execution_count": 93,
     "metadata": {},
     "output_type": "execute_result"
    }
   ],
   "source": [
    "svr_model_rbf.fit(X_train_bow, y_train_bow)"
   ]
  },
  {
   "cell_type": "code",
   "execution_count": 94,
   "id": "ca0d08ee-1a6a-4b8d-b51c-9b5a2aafe034",
   "metadata": {},
   "outputs": [
    {
     "name": "stdout",
     "output_type": "stream",
     "text": [
      "\n",
      " ========== Train Errors ========== \n",
      "\n",
      "MSE on train data => 0.00998284437264078\n",
      "R-squared on train data => 0.9999619290174776\n"
     ]
    },
    {
     "data": {
      "image/png": "[encoded data removed]",
      "text/plain": [
       "<Figure size 432x288 with 1 Axes>"
      ]
     },
     "metadata": {
      "needs_background": "light"
     },
     "output_type": "display_data"
    },
    {
     "name": "stdout",
     "output_type": "stream",
     "text": [
      "\n",
      " ========== Test Errors ========== \n",
      "\n",
      "MSE on test data => 90.8420722191653\n",
      "R-squared on test data => 0.6139830501402239\n"
     ]
    },
    {
     "data": {
      "image/png": "[encoded data removed]",
      "text/plain": [
       "<Figure size 432x288 with 1 Axes>"
      ]
     },
     "metadata": {
      "needs_background": "light"
     },
     "output_type": "display_data"
    }
   ],
   "source": [
    "test_errors = showErrors(svr_model_rbf, X_train_bow, y_train_bow, X_test_bow, y_test_bow)"
   ]
  },
  {
   "cell_type": "markdown",
   "id": "b5066b97-194e-4a5a-8827-5b00c357700b",
   "metadata": {},
   "source": [
    "### Support Vector Regression (Linear Kernel)"
   ]
  },
  {
   "cell_type": "code",
   "execution_count": 95,
   "id": "e1385b2a-dd1c-4fc9-be73-db1727954acf",
   "metadata": {},
   "outputs": [],
   "source": [
    "def objective(space):\n",
    "    '''objective function for hyper param tuning'''\n",
    "    # 3 fold cross validation\n",
    "    kf = KFold(n_splits=3)\n",
    "    mselosses = []\n",
    "    # k fold cross validation\n",
    "    for train_index, cv_index in kf.split(X_train_bow):\n",
    "        # split input data\n",
    "        X_train, X_cv = X_train_bow[train_index], X_train_bow[cv_index]\n",
    "        # split output data\n",
    "        y_train, y_cv = y_train_bow[train_index], y_train_bow[cv_index]\n",
    "        # create SVR RBF\n",
    "        model = SVR(kernel = 'linear', C = space['c'])\n",
    "        # train the model\n",
    "        model.fit(X_train, y_train)\n",
    "        cv_pred = model.predict(X_cv)\n",
    "        tempmseloss = mse(y_cv, cv_pred)\n",
    "        mselosses.append(tempmseloss)\n",
    "        \n",
    "    # calculate mse\n",
    "    mseloss = sum(mselosses)/len(mselosses)\n",
    "    # return params\n",
    "    return {'loss':mseloss, 'status': STATUS_OK, 'params': space }"
   ]
  },
  {
   "cell_type": "code",
   "execution_count": 96,
   "id": "eca9adf0-1acb-4959-9056-eff777899959",
   "metadata": {},
   "outputs": [],
   "source": [
    "# search space for hyper parameter tuning\n",
    "space = {\n",
    "    # uniform distribution between 0.001 and 1000\n",
    "    \"c\": hp.quniform(\"c\", 0.001, 1000, 0.001)\n",
    "}"
   ]
  },
  {
   "cell_type": "code",
   "execution_count": 97,
   "id": "98ef76c9-4ea6-4f6b-b536-fac3a79b233a",
   "metadata": {},
   "outputs": [
    {
     "name": "stdout",
     "output_type": "stream",
     "text": [
      "100%|████████| 300/300 [00:05<00:00, 57.70trial/s, best loss: 77.23483636457564]\n"
     ]
    }
   ],
   "source": [
    "# create trials\n",
    "trials = Trials()\n",
    "# minimise the objective function with max 300 trials\n",
    "best_param = fmin(fn=objective,\n",
    "            space=space,\n",
    "            algo=tpe.suggest,\n",
    "            max_evals=300,\n",
    "            trials=trials)"
   ]
  },
  {
   "cell_type": "code",
   "execution_count": 98,
   "id": "ff6fd65c-49e9-4889-92c4-a0998129d6a6",
   "metadata": {},
   "outputs": [
    {
     "name": "stdout",
     "output_type": "stream",
     "text": [
      "Best Param :  {'c': 1.429}\n"
     ]
    }
   ],
   "source": [
    "print(\"Best Param : \", best_param)"
   ]
  },
  {
   "cell_type": "code",
   "execution_count": 67,
   "id": "9dc4cfaa-cb27-47b2-8693-3e041a692313",
   "metadata": {},
   "outputs": [],
   "source": [
    "svr_model_linear = SVR(kernel = 'linear', C = 1.429)"
   ]
  },
  {
   "cell_type": "code",
   "execution_count": 68,
   "id": "491970ea-2a2f-4040-bf11-49fa3e3d9fbd",
   "metadata": {},
   "outputs": [
    {
     "data": {
      "text/plain": [
       "SVR(C=1.429, kernel='linear')"
      ]
     },
     "execution_count": 68,
     "metadata": {},
     "output_type": "execute_result"
    }
   ],
   "source": [
    "svr_model_linear.fit(X_train_bow, y_train_bow)"
   ]
  },
  {
   "cell_type": "code",
   "execution_count": 101,
   "id": "6504f360-35b2-4efc-a9f0-7890c7cb692d",
   "metadata": {},
   "outputs": [
    {
     "name": "stdout",
     "output_type": "stream",
     "text": [
      "\n",
      " ========== Train Errors ========== \n",
      "\n",
      "MSE on train data => 3.077142289477013\n",
      "R-squared on train data => 0.9882648846412284\n"
     ]
    },
    {
     "data": {
      "image/png": "[encoded data removed]",
      "text/plain": [
       "<Figure size 432x288 with 1 Axes>"
      ]
     },
     "metadata": {
      "needs_background": "light"
     },
     "output_type": "display_data"
    },
    {
     "name": "stdout",
     "output_type": "stream",
     "text": [
      "\n",
      " ========== Test Errors ========== \n",
      "\n",
      "MSE on test data => 49.52578241043394\n",
      "R-squared on test data => 0.7895491483354636\n"
     ]
    },
    {
     "data": {
      "image/png": "[encoded data removed]",
      "text/plain": [
       "<Figure size 432x288 with 1 Axes>"
      ]
     },
     "metadata": {
      "needs_background": "light"
     },
     "output_type": "display_data"
    }
   ],
   "source": [
    "test_errors = showErrors(svr_model_linear, X_train_bow, y_train_bow, X_test_bow, y_test_bow)"
   ]
  },
  {
   "cell_type": "markdown",
   "id": "07f64d02-050a-42de-b9b4-739a617a8b50",
   "metadata": {
    "tags": []
   },
   "source": [
    "### Random Forest Regressor"
   ]
  },
  {
   "cell_type": "code",
   "execution_count": 105,
   "id": "2c7c8f5c-d13d-426c-a22a-58f2503c1e1c",
   "metadata": {},
   "outputs": [],
   "source": [
    "def objective(space):\n",
    "    '''objective function for hyper param tuning'''\n",
    "    # 3 fold cross validation\n",
    "    kf = KFold(n_splits=3)\n",
    "    mselosses = []\n",
    "    # k fold cross validation\n",
    "    for train_index, cv_index in kf.split(X_train_bow):\n",
    "        # split input data\n",
    "        X_train, X_cv = X_train_bow[train_index], X_train_bow[cv_index]\n",
    "        # split output data\n",
    "        y_train, y_cv = y_train_bow[train_index], y_train_bow[cv_index]\n",
    "        # create Random Forest Regressor\n",
    "        model = RandomForestRegressor(n_estimators = space['n_estimators'], \n",
    "                                      min_samples_split = space['min_samples_split'], \n",
    "                                      max_depth = space['max_depth'])\n",
    "        # train the model\n",
    "        model.fit(X_train, y_train)\n",
    "        cv_pred = model.predict(X_cv)\n",
    "        tempmseloss = mse(y_cv, cv_pred)\n",
    "        mselosses.append(tempmseloss)\n",
    "        \n",
    "    # calculate mse\n",
    "    mseloss = sum(mselosses)/len(mselosses)\n",
    "    # return params\n",
    "    return {'loss':mseloss, 'status': STATUS_OK, 'params': space }"
   ]
  },
  {
   "cell_type": "code",
   "execution_count": 106,
   "id": "6c2cd281-312f-48ab-8ea1-2f9e2e83e902",
   "metadata": {},
   "outputs": [],
   "source": [
    "# search space for hyper parameter tuning\n",
    "space = {\n",
    "    \"n_estimators\": hp.choice(\"n_estimators\", [50, 70, 100, 150]),\n",
    "    \"min_samples_split\": hp.choice(\"min_samples_split\", [2, 3, 5]),\n",
    "    \"max_depth\": hp.choice(\"max_depth\", [10, 15, 20])\n",
    "}"
   ]
  },
  {
   "cell_type": "code",
   "execution_count": 109,
   "id": "1e9fdfb3-1861-4670-81c3-6f92715c5a73",
   "metadata": {},
   "outputs": [
    {
     "name": "stdout",
     "output_type": "stream",
     "text": [
      "100%|████████| 300/300 [01:16<00:00,  3.92trial/s, best loss: 163.4638490864683]\n"
     ]
    }
   ],
   "source": [
    "# create trials\n",
    "trials = Trials()\n",
    "# minimise the objective function with max 300 trials\n",
    "best_param = fmin(fn=objective,\n",
    "            space=space,\n",
    "            algo=tpe.suggest,\n",
    "            max_evals=300,\n",
    "            trials=trials)"
   ]
  },
  {
   "cell_type": "code",
   "execution_count": 110,
   "id": "c45b15e8-cb54-4666-a236-0f10d2d76027",
   "metadata": {},
   "outputs": [
    {
     "name": "stdout",
     "output_type": "stream",
     "text": [
      "Best Param :  {'max_depth': 1, 'min_samples_split': 2, 'n_estimators': 0}\n"
     ]
    }
   ],
   "source": [
    "print(\"Best Param : \", best_param)"
   ]
  },
  {
   "cell_type": "code",
   "execution_count": 111,
   "id": "54362db2-741d-431e-8b2f-21d962d8a62a",
   "metadata": {},
   "outputs": [],
   "source": [
    "rf_model = RandomForestRegressor(n_estimators = 50, min_samples_split = 5, max_depth = 15)"
   ]
  },
  {
   "cell_type": "code",
   "execution_count": 112,
   "id": "fbaf6b37-05d3-4951-8d8a-7bbe6f19c01d",
   "metadata": {},
   "outputs": [
    {
     "data": {
      "text/plain": [
       "RandomForestRegressor(max_depth=15, min_samples_split=5, n_estimators=50)"
      ]
     },
     "execution_count": 112,
     "metadata": {},
     "output_type": "execute_result"
    }
   ],
   "source": [
    "rf_model.fit(X_train_bow, y_train_bow)"
   ]
  },
  {
   "cell_type": "code",
   "execution_count": 113,
   "id": "3abff33f-09c9-4a0e-bc2e-8fe5b747b203",
   "metadata": {},
   "outputs": [
    {
     "name": "stdout",
     "output_type": "stream",
     "text": [
      "\n",
      " ========== Train Errors ========== \n",
      "\n",
      "MSE on train data => 27.042129756126\n",
      "R-squared on train data => 0.8968710308521537\n"
     ]
    },
    {
     "data": {
      "image/png": "[encoded data removed]",
      "text/plain": [
       "<Figure size 432x288 with 1 Axes>"
      ]
     },
     "metadata": {
      "needs_background": "light"
     },
     "output_type": "display_data"
    },
    {
     "name": "stdout",
     "output_type": "stream",
     "text": [
      "\n",
      " ========== Test Errors ========== \n",
      "\n",
      "MSE on test data => 125.08201545559932\n",
      "R-squared on test data => 0.468486606382178\n"
     ]
    },
    {
     "data": {
      "image/png": "[encoded data removed]",
      "text/plain": [
       "<Figure size 432x288 with 1 Axes>"
      ]
     },
     "metadata": {
      "needs_background": "light"
     },
     "output_type": "display_data"
    }
   ],
   "source": [
    "test_errors = showErrors(rf_model, X_train_bow, y_train_bow, X_test_bow, y_test_bow)"
   ]
  },
  {
   "cell_type": "markdown",
   "id": "21e778ef-b6f1-4590-888b-8d0dd1f57af6",
   "metadata": {
    "tags": []
   },
   "source": [
    "### XGBoost Regressor"
   ]
  },
  {
   "cell_type": "code",
   "execution_count": 114,
   "id": "50052256-cec3-4480-adef-f7f895dbaf3c",
   "metadata": {},
   "outputs": [],
   "source": [
    "def objective(space):\n",
    "    '''objective function for hyper param tuning'''\n",
    "    # 3 fold cross validation\n",
    "    kf = KFold(n_splits=3)\n",
    "    mselosses = []\n",
    "    # k fold cross validation\n",
    "    for train_index, cv_index in kf.split(X_train_bow):\n",
    "        # split input data\n",
    "        X_train, X_cv = X_train_bow[train_index], X_train_bow[cv_index]\n",
    "        # split output data\n",
    "        y_train, y_cv = y_train_bow[train_index], y_train_bow[cv_index]\n",
    "        # XGBoost Regressor\n",
    "        model = xgb.XGBRegressor(\n",
    "                    objective = \"reg:squarederror\",\n",
    "                    booster = \"gbtree\",\n",
    "                    tree_method = \"hist\",\n",
    "                    grow_policy = \"lossguide\",\n",
    "                    subsample = .9,\n",
    "                    colsample_bytree = .8,\n",
    "                    n_estimators = space['n_estimators'], \n",
    "                    max_depth = space['max_depth'],\n",
    "                    learning_rate = space['learning_rate'],\n",
    "                    reg_lambda = space['reg_lambda'],\n",
    "                )\n",
    "        # train the model\n",
    "        model.fit(X_train, y_train)\n",
    "        cv_pred = model.predict(X_cv)\n",
    "        tempmseloss = mse(y_cv, cv_pred)\n",
    "        mselosses.append(tempmseloss)\n",
    "        \n",
    "    # calculate mse\n",
    "    mseloss = sum(mselosses)/len(mselosses)\n",
    "    # return params\n",
    "    return {'loss':mseloss, 'status': STATUS_OK, 'params': space }"
   ]
  },
  {
   "cell_type": "code",
   "execution_count": null,
   "id": "749fb3d2-86ed-4ba0-824a-2abf405c3604",
   "metadata": {},
   "outputs": [],
   "source": [
    "# search space for hyper parameter tuning\n",
    "space = {\n",
    "    'n_estimators' : hp.choice('n_estimators', [50, 70, 100, 150]),\n",
    "    'max_depth' : hp.choice('max_depth', [2, 3, 5, 7]),\n",
    "    \"learning_rate\": hp.quniform(\"learning_rate\", 0.01, 1, 0.01),\n",
    "    \"reg_lambda\": hp.quniform(\"reg_lambda\", 0.001, 1000, 0.001)\n",
    "}"
   ]
  },
  {
   "cell_type": "code",
   "execution_count": 116,
   "id": "b3d1887b-9874-4f3f-9e9a-270107ebe392",
   "metadata": {},
   "outputs": [
    {
     "name": "stdout",
     "output_type": "stream",
     "text": [
      "100%|███████| 300/300 [00:37<00:00,  7.93trial/s, best loss: 136.94184965500452]\n"
     ]
    }
   ],
   "source": [
    "# create trials\n",
    "trials = Trials()\n",
    "# minimise the objective function with max 300 trials\n",
    "best_param = fmin(fn=objective,\n",
    "            space=space,\n",
    "            algo=tpe.suggest,\n",
    "            max_evals=300,\n",
    "            trials=trials)"
   ]
  },
  {
   "cell_type": "code",
   "execution_count": 117,
   "id": "2382f232-40f4-4bcc-8fb6-a5645cc5a9af",
   "metadata": {},
   "outputs": [
    {
     "name": "stdout",
     "output_type": "stream",
     "text": [
      "Best Param :  {'learning_rate': 0.7000000000000001, 'max_depth': 0, 'n_estimators': 3, 'reg_lambda': 38.924}\n"
     ]
    }
   ],
   "source": [
    "print(\"Best Param : \", best_param)"
   ]
  },
  {
   "cell_type": "code",
   "execution_count": 118,
   "id": "9aad22c7-7577-4e3d-8356-4c4bfa2909bf",
   "metadata": {},
   "outputs": [],
   "source": [
    "xgb_model = xgb.XGBRegressor(\n",
    "                    objective = \"reg:squarederror\",\n",
    "                    booster = \"gbtree\",\n",
    "                    tree_method = \"hist\",\n",
    "                    grow_policy = \"lossguide\",\n",
    "                    subsample = .8,\n",
    "                    colsample_bytree = .5,\n",
    "                    n_estimators = 150, \n",
    "                    max_depth = 2,\n",
    "                    learning_rate = 0.7,\n",
    "                    reg_lambda = 38.924\n",
    "                )"
   ]
  },
  {
   "cell_type": "code",
   "execution_count": 119,
   "id": "cf95cde2-7879-4be2-8886-d3e96258ffbd",
   "metadata": {},
   "outputs": [
    {
     "data": {
      "text/plain": [
       "XGBRegressor(base_score=0.5, booster='gbtree', colsample_bylevel=1,\n",
       "             colsample_bynode=1, colsample_bytree=0.5, gamma=0, gpu_id=-1,\n",
       "             grow_policy='lossguide', importance_type='gain',\n",
       "             interaction_constraints='', learning_rate=0.7, max_delta_step=0,\n",
       "             max_depth=2, min_child_weight=1, missing=nan,\n",
       "             monotone_constraints='()', n_estimators=150, n_jobs=8,\n",
       "             num_parallel_tree=1, random_state=0, reg_alpha=0,\n",
       "             reg_lambda=38.924, scale_pos_weight=1, subsample=0.8,\n",
       "             tree_method='hist', validate_parameters=1, verbosity=None)"
      ]
     },
     "execution_count": 119,
     "metadata": {},
     "output_type": "execute_result"
    }
   ],
   "source": [
    "xgb_model.fit(X_train_bow, y_train_bow)"
   ]
  },
  {
   "cell_type": "code",
   "execution_count": 120,
   "id": "7a2c110a-1ed2-426f-8393-6203b2b6e611",
   "metadata": {},
   "outputs": [
    {
     "name": "stdout",
     "output_type": "stream",
     "text": [
      "\n",
      " ========== Train Errors ========== \n",
      "\n",
      "MSE on train data => 3.2299128168696014\n",
      "R-squared on train data => 0.9876822727261073\n"
     ]
    },
    {
     "data": {
      "image/png": "[encoded data removed]",
      "text/plain": [
       "<Figure size 432x288 with 1 Axes>"
      ]
     },
     "metadata": {
      "needs_background": "light"
     },
     "output_type": "display_data"
    },
    {
     "name": "stdout",
     "output_type": "stream",
     "text": [
      "\n",
      " ========== Test Errors ========== \n",
      "\n",
      "MSE on test data => 133.65954221642866\n",
      "R-squared on test data => 0.4320379583420092\n"
     ]
    },
    {
     "data": {
      "image/png": "[encoded data removed]",
      "text/plain": [
       "<Figure size 432x288 with 1 Axes>"
      ]
     },
     "metadata": {
      "needs_background": "light"
     },
     "output_type": "display_data"
    }
   ],
   "source": [
    "test_errors = showErrors(xgb_model, X_train_bow, y_train_bow, X_test_bow, y_test_bow)"
   ]
  },
  {
   "cell_type": "markdown",
   "id": "7a3e1461-abb8-49af-adf8-771d066f5955",
   "metadata": {},
   "source": [
    "<br><b style=\"color:#ff6600\"><u>Summary</u></b><br>\n",
    "Now again I have done hyper-param tuning for L2 Linear Regerssion. \n",
    "<ul>\n",
    "<li> The best alpha is 1.659. </li>\n",
    "<li> The train mse and r-squared are 1.9844 and 0.9924 respectively. </li>\n",
    "<li> The test mse and r-squared are 52.1386 and 0.7784 respectively. </li>\n",
    "</ul>\n",
    "For KNN Regerssion,\n",
    "<ul>\n",
    "<li> The best params are n_neighbors=7 and metric='cosine' </li>\n",
    "<li> The train mse and r-squared are 130.7427 and 0.5014 respectively. </li>\n",
    "<li> The test mse and r-squared are 113.766 and 0.5166 respectively. </li>\n",
    "</ul>\n",
    "For Decision Tree Regressor,\n",
    "<ul>\n",
    "<li> The best params are max_depth=5, min_samples_split=2 </li>\n",
    "<li> The train mse and r-squared are 21.9602 and 0.9163 respectively. </li>\n",
    "<li> The test mse and r-squared are 164.5762 and 0.3006 respectively. </li>\n",
    "</ul>\n",
    "For Support Vector Regression (RBF Kernel),\n",
    "<ul>\n",
    "<li> The best param is C = 253.341 </li>\n",
    "<li> The train mse and r-squared are 0.01 and 1 respectively. </li>\n",
    "<li> The test mse and r-squared are 90.842 and 0.614 respectively. </li>\n",
    "</ul>\n",
    "For Support Vector Regression (Linear Kernel),\n",
    "<ul>\n",
    "<li> The best param is C = 1.429 </li>\n",
    "<li> The train mse and r-squared are 3.0771 and 0.9883 respectively. </li>\n",
    "<li> The test mse and r-squared are 49.5258 and 0.7895 respectively. </li>\n",
    "</ul>\n",
    "For Random Forest Regressor,\n",
    "<ul><li> The best params are n_estimators = 50, min_samples_split = 5, max_depth = 15 </li>\n",
    "<li> The train mse and r-squared are 27.0421 and 0.8969 respectively. </li>\n",
    "<li> The test mse and r-squared are 125.082 and 0.4685 respectively. </li>\n",
    "</ul>\n",
    "For XGBoost Regressor,\n",
    "<ul><li> The best params are n_estimators = 150, max_depth = 2,learning_rate = 0.7, reg_lambda = 38.924 </li>\n",
    "<li> The train mse and r-squared are 3.2299 and 0.9877 respectively. </li>\n",
    "<li> The test mse and r-squared are 133.6595 and 0.432 respectively. </li>\n",
    "</ul>\n",
    "<b>Here we can see that the best model is Linear kernel based SVR followed by the Linear regression with l2 regularizer.</b>"
   ]
  },
  {
   "cell_type": "markdown",
   "id": "af17e36a-4c5d-4f53-a04d-e2c46cd6610a",
   "metadata": {},
   "source": [
    "# Models with AverageW2V features"
   ]
  },
  {
   "cell_type": "code",
   "execution_count": 29,
   "id": "ebd4b6dc-e759-4eb9-9b75-5dc7903514fd",
   "metadata": {},
   "outputs": [],
   "source": [
    "csvData = pd.read_csv('dataset/data.csv')"
   ]
  },
  {
   "cell_type": "code",
   "execution_count": 30,
   "id": "2f0a4424-5068-4654-b3aa-27c266d415b7",
   "metadata": {},
   "outputs": [],
   "source": [
    "# load data_feature\n",
    "data_feature = pd.read_csv('data_feature2.csv')"
   ]
  },
  {
   "cell_type": "code",
   "execution_count": 31,
   "id": "143c797f-6025-4842-8ccc-9e4568da5e1f",
   "metadata": {},
   "outputs": [
    {
     "data": {
      "text/html": [
       "<div>\n",
       "<style scoped>\n",
       "    .dataframe tbody tr th:only-of-type {\n",
       "        vertical-align: middle;\n",
       "    }\n",
       "\n",
       "    .dataframe tbody tr th {\n",
       "        vertical-align: top;\n",
       "    }\n",
       "\n",
       "    .dataframe thead th {\n",
       "        text-align: right;\n",
       "    }\n",
       "</style>\n",
       "<table border=\"1\" class=\"dataframe\">\n",
       "  <thead>\n",
       "    <tr style=\"text-align: right;\">\n",
       "      <th></th>\n",
       "      <th>job_description</th>\n",
       "      <th>processed_resume</th>\n",
       "      <th>match_percentage</th>\n",
       "      <th>resume_word_num</th>\n",
       "      <th>total_unique_word_num</th>\n",
       "      <th>common_word_num</th>\n",
       "      <th>common_word_ratio_min</th>\n",
       "      <th>fuzz_ratio</th>\n",
       "      <th>fuzz_partial_ratio</th>\n",
       "      <th>fuzz_token_set_ratio</th>\n",
       "      <th>fuzz_token_sort_ratio</th>\n",
       "      <th>is_fresher</th>\n",
       "      <th>from_reputed_college</th>\n",
       "      <th>cosine_similarity</th>\n",
       "      <th>euclidean_distance</th>\n",
       "    </tr>\n",
       "  </thead>\n",
       "  <tbody>\n",
       "    <tr>\n",
       "      <th>0</th>\n",
       "      <td>machine learning engineering 13585abc knowledg...</td>\n",
       "      <td>liam andrew fresher executive work experience ...</td>\n",
       "      <td>13.60</td>\n",
       "      <td>87</td>\n",
       "      <td>192</td>\n",
       "      <td>13</td>\n",
       "      <td>0.180556</td>\n",
       "      <td>86</td>\n",
       "      <td>45</td>\n",
       "      <td>52</td>\n",
       "      <td>50</td>\n",
       "      <td>1</td>\n",
       "      <td>1</td>\n",
       "      <td>0.896201</td>\n",
       "      <td>0.430370</td>\n",
       "    </tr>\n",
       "    <tr>\n",
       "      <th>1</th>\n",
       "      <td>machine learning engineering 13585abc knowledg...</td>\n",
       "      <td>ellie mackey fresher intern executive profile ...</td>\n",
       "      <td>36.63</td>\n",
       "      <td>84</td>\n",
       "      <td>180</td>\n",
       "      <td>27</td>\n",
       "      <td>0.364865</td>\n",
       "      <td>86</td>\n",
       "      <td>47</td>\n",
       "      <td>57</td>\n",
       "      <td>52</td>\n",
       "      <td>1</td>\n",
       "      <td>0</td>\n",
       "      <td>0.900257</td>\n",
       "      <td>0.417824</td>\n",
       "    </tr>\n",
       "  </tbody>\n",
       "</table>\n",
       "</div>"
      ],
      "text/plain": [
       "                                     job_description  \\\n",
       "0  machine learning engineering 13585abc knowledg...   \n",
       "1  machine learning engineering 13585abc knowledg...   \n",
       "\n",
       "                                    processed_resume  match_percentage  \\\n",
       "0  liam andrew fresher executive work experience ...             13.60   \n",
       "1  ellie mackey fresher intern executive profile ...             36.63   \n",
       "\n",
       "   resume_word_num  total_unique_word_num  common_word_num  \\\n",
       "0               87                    192               13   \n",
       "1               84                    180               27   \n",
       "\n",
       "   common_word_ratio_min  fuzz_ratio  fuzz_partial_ratio  \\\n",
       "0               0.180556          86                  45   \n",
       "1               0.364865          86                  47   \n",
       "\n",
       "   fuzz_token_set_ratio  fuzz_token_sort_ratio  is_fresher  \\\n",
       "0                    52                     50           1   \n",
       "1                    57                     52           1   \n",
       "\n",
       "   from_reputed_college  cosine_similarity  euclidean_distance  \n",
       "0                     1           0.896201            0.430370  \n",
       "1                     0           0.900257            0.417824  "
      ]
     },
     "execution_count": 31,
     "metadata": {},
     "output_type": "execute_result"
    }
   ],
   "source": [
    "# verify data\n",
    "data_feature.head(2)"
   ]
  },
  {
   "cell_type": "code",
   "execution_count": 32,
   "id": "fc7360e4-ac87-46f1-84e8-27d7ab3e9a00",
   "metadata": {},
   "outputs": [],
   "source": [
    "# load w2v_resume\n",
    "with open('w2v_resume.npy', 'rb') as f:\n",
    "    w2v_resume = np.load(f, allow_pickle=True)"
   ]
  },
  {
   "cell_type": "code",
   "execution_count": 33,
   "id": "f5cd2096-1ab6-494c-9950-cbdf11de8fcc",
   "metadata": {},
   "outputs": [],
   "source": [
    "# load w2v_jd\n",
    "with open('w2v_jd.npy', 'rb') as f:\n",
    "    w2v_jd = np.load(f, allow_pickle=True)"
   ]
  },
  {
   "cell_type": "code",
   "execution_count": 34,
   "id": "633e59e0-db7c-43e0-b454-84c0f702d8f3",
   "metadata": {},
   "outputs": [],
   "source": [
    "# create output variable\n",
    "y_w2v = data_feature.match_percentage"
   ]
  },
  {
   "cell_type": "code",
   "execution_count": 35,
   "id": "8a92b07b-6008-4a72-852b-c5c951ff9624",
   "metadata": {},
   "outputs": [],
   "source": [
    "# create input variables from extracted features\n",
    "X_w2v_1 = data_feature.drop(columns=['job_description', 'processed_resume', 'match_percentage'])"
   ]
  },
  {
   "cell_type": "code",
   "execution_count": 36,
   "id": "eddcc9f3-576b-410f-8f7d-e599a3c2811a",
   "metadata": {},
   "outputs": [
    {
     "data": {
      "text/html": [
       "<div>\n",
       "<style scoped>\n",
       "    .dataframe tbody tr th:only-of-type {\n",
       "        vertical-align: middle;\n",
       "    }\n",
       "\n",
       "    .dataframe tbody tr th {\n",
       "        vertical-align: top;\n",
       "    }\n",
       "\n",
       "    .dataframe thead th {\n",
       "        text-align: right;\n",
       "    }\n",
       "</style>\n",
       "<table border=\"1\" class=\"dataframe\">\n",
       "  <thead>\n",
       "    <tr style=\"text-align: right;\">\n",
       "      <th></th>\n",
       "      <th>resume_word_num</th>\n",
       "      <th>total_unique_word_num</th>\n",
       "      <th>common_word_num</th>\n",
       "      <th>common_word_ratio_min</th>\n",
       "      <th>fuzz_ratio</th>\n",
       "      <th>fuzz_partial_ratio</th>\n",
       "      <th>fuzz_token_set_ratio</th>\n",
       "      <th>fuzz_token_sort_ratio</th>\n",
       "      <th>is_fresher</th>\n",
       "      <th>from_reputed_college</th>\n",
       "      <th>cosine_similarity</th>\n",
       "      <th>euclidean_distance</th>\n",
       "    </tr>\n",
       "  </thead>\n",
       "  <tbody>\n",
       "    <tr>\n",
       "      <th>0</th>\n",
       "      <td>87</td>\n",
       "      <td>192</td>\n",
       "      <td>13</td>\n",
       "      <td>0.180556</td>\n",
       "      <td>86</td>\n",
       "      <td>45</td>\n",
       "      <td>52</td>\n",
       "      <td>50</td>\n",
       "      <td>1</td>\n",
       "      <td>1</td>\n",
       "      <td>0.896201</td>\n",
       "      <td>0.430370</td>\n",
       "    </tr>\n",
       "    <tr>\n",
       "      <th>1</th>\n",
       "      <td>84</td>\n",
       "      <td>180</td>\n",
       "      <td>27</td>\n",
       "      <td>0.364865</td>\n",
       "      <td>86</td>\n",
       "      <td>47</td>\n",
       "      <td>57</td>\n",
       "      <td>52</td>\n",
       "      <td>1</td>\n",
       "      <td>0</td>\n",
       "      <td>0.900257</td>\n",
       "      <td>0.417824</td>\n",
       "    </tr>\n",
       "    <tr>\n",
       "      <th>2</th>\n",
       "      <td>93</td>\n",
       "      <td>184</td>\n",
       "      <td>18</td>\n",
       "      <td>0.260870</td>\n",
       "      <td>86</td>\n",
       "      <td>45</td>\n",
       "      <td>50</td>\n",
       "      <td>49</td>\n",
       "      <td>1</td>\n",
       "      <td>0</td>\n",
       "      <td>0.890447</td>\n",
       "      <td>0.443868</td>\n",
       "    </tr>\n",
       "  </tbody>\n",
       "</table>\n",
       "</div>"
      ],
      "text/plain": [
       "   resume_word_num  total_unique_word_num  common_word_num  \\\n",
       "0               87                    192               13   \n",
       "1               84                    180               27   \n",
       "2               93                    184               18   \n",
       "\n",
       "   common_word_ratio_min  fuzz_ratio  fuzz_partial_ratio  \\\n",
       "0               0.180556          86                  45   \n",
       "1               0.364865          86                  47   \n",
       "2               0.260870          86                  45   \n",
       "\n",
       "   fuzz_token_set_ratio  fuzz_token_sort_ratio  is_fresher  \\\n",
       "0                    52                     50           1   \n",
       "1                    57                     52           1   \n",
       "2                    50                     49           1   \n",
       "\n",
       "   from_reputed_college  cosine_similarity  euclidean_distance  \n",
       "0                     1           0.896201            0.430370  \n",
       "1                     0           0.900257            0.417824  \n",
       "2                     0           0.890447            0.443868  "
      ]
     },
     "execution_count": 36,
     "metadata": {},
     "output_type": "execute_result"
    }
   ],
   "source": [
    "X_w2v_1.head(3)"
   ]
  },
  {
   "cell_type": "code",
   "execution_count": 37,
   "id": "b0076e25-f044-4bd2-b890-ebf09fe891b3",
   "metadata": {},
   "outputs": [],
   "source": [
    "# create input variables from bow of job description\n",
    "X_w2v_2 = pd.DataFrame(w2v_jd, columns=['w2v_jd_'+str(i) for i in range(1, w2v_jd.shape[1]+1)])"
   ]
  },
  {
   "cell_type": "code",
   "execution_count": 38,
   "id": "8de28f16-cd10-4828-9e60-fb01eb38c56e",
   "metadata": {},
   "outputs": [
    {
     "data": {
      "text/html": [
       "<div>\n",
       "<style scoped>\n",
       "    .dataframe tbody tr th:only-of-type {\n",
       "        vertical-align: middle;\n",
       "    }\n",
       "\n",
       "    .dataframe tbody tr th {\n",
       "        vertical-align: top;\n",
       "    }\n",
       "\n",
       "    .dataframe thead th {\n",
       "        text-align: right;\n",
       "    }\n",
       "</style>\n",
       "<table border=\"1\" class=\"dataframe\">\n",
       "  <thead>\n",
       "    <tr style=\"text-align: right;\">\n",
       "      <th></th>\n",
       "      <th>w2v_jd_1</th>\n",
       "      <th>w2v_jd_2</th>\n",
       "      <th>w2v_jd_3</th>\n",
       "      <th>w2v_jd_4</th>\n",
       "      <th>w2v_jd_5</th>\n",
       "      <th>w2v_jd_6</th>\n",
       "      <th>w2v_jd_7</th>\n",
       "      <th>w2v_jd_8</th>\n",
       "      <th>w2v_jd_9</th>\n",
       "      <th>w2v_jd_10</th>\n",
       "      <th>...</th>\n",
       "      <th>w2v_jd_291</th>\n",
       "      <th>w2v_jd_292</th>\n",
       "      <th>w2v_jd_293</th>\n",
       "      <th>w2v_jd_294</th>\n",
       "      <th>w2v_jd_295</th>\n",
       "      <th>w2v_jd_296</th>\n",
       "      <th>w2v_jd_297</th>\n",
       "      <th>w2v_jd_298</th>\n",
       "      <th>w2v_jd_299</th>\n",
       "      <th>w2v_jd_300</th>\n",
       "    </tr>\n",
       "  </thead>\n",
       "  <tbody>\n",
       "    <tr>\n",
       "      <th>0</th>\n",
       "      <td>0.006335</td>\n",
       "      <td>0.015374</td>\n",
       "      <td>0.018297</td>\n",
       "      <td>0.079522</td>\n",
       "      <td>-0.043794</td>\n",
       "      <td>0.038008</td>\n",
       "      <td>0.057309</td>\n",
       "      <td>-0.096545</td>\n",
       "      <td>0.061698</td>\n",
       "      <td>0.032799</td>\n",
       "      <td>...</td>\n",
       "      <td>-0.123924</td>\n",
       "      <td>0.051403</td>\n",
       "      <td>-0.083477</td>\n",
       "      <td>0.014774</td>\n",
       "      <td>-0.022493</td>\n",
       "      <td>0.004105</td>\n",
       "      <td>0.037251</td>\n",
       "      <td>-0.031369</td>\n",
       "      <td>-0.014646</td>\n",
       "      <td>0.023314</td>\n",
       "    </tr>\n",
       "    <tr>\n",
       "      <th>1</th>\n",
       "      <td>0.006335</td>\n",
       "      <td>0.015374</td>\n",
       "      <td>0.018297</td>\n",
       "      <td>0.079522</td>\n",
       "      <td>-0.043794</td>\n",
       "      <td>0.038008</td>\n",
       "      <td>0.057309</td>\n",
       "      <td>-0.096545</td>\n",
       "      <td>0.061698</td>\n",
       "      <td>0.032799</td>\n",
       "      <td>...</td>\n",
       "      <td>-0.123924</td>\n",
       "      <td>0.051403</td>\n",
       "      <td>-0.083477</td>\n",
       "      <td>0.014774</td>\n",
       "      <td>-0.022493</td>\n",
       "      <td>0.004105</td>\n",
       "      <td>0.037251</td>\n",
       "      <td>-0.031369</td>\n",
       "      <td>-0.014646</td>\n",
       "      <td>0.023314</td>\n",
       "    </tr>\n",
       "    <tr>\n",
       "      <th>2</th>\n",
       "      <td>0.006335</td>\n",
       "      <td>0.015374</td>\n",
       "      <td>0.018297</td>\n",
       "      <td>0.079522</td>\n",
       "      <td>-0.043794</td>\n",
       "      <td>0.038008</td>\n",
       "      <td>0.057309</td>\n",
       "      <td>-0.096545</td>\n",
       "      <td>0.061698</td>\n",
       "      <td>0.032799</td>\n",
       "      <td>...</td>\n",
       "      <td>-0.123924</td>\n",
       "      <td>0.051403</td>\n",
       "      <td>-0.083477</td>\n",
       "      <td>0.014774</td>\n",
       "      <td>-0.022493</td>\n",
       "      <td>0.004105</td>\n",
       "      <td>0.037251</td>\n",
       "      <td>-0.031369</td>\n",
       "      <td>-0.014646</td>\n",
       "      <td>0.023314</td>\n",
       "    </tr>\n",
       "  </tbody>\n",
       "</table>\n",
       "<p>3 rows × 300 columns</p>\n",
       "</div>"
      ],
      "text/plain": [
       "   w2v_jd_1  w2v_jd_2  w2v_jd_3  w2v_jd_4  w2v_jd_5  w2v_jd_6  w2v_jd_7  \\\n",
       "0  0.006335  0.015374  0.018297  0.079522 -0.043794  0.038008  0.057309   \n",
       "1  0.006335  0.015374  0.018297  0.079522 -0.043794  0.038008  0.057309   \n",
       "2  0.006335  0.015374  0.018297  0.079522 -0.043794  0.038008  0.057309   \n",
       "\n",
       "   w2v_jd_8  w2v_jd_9  w2v_jd_10  ...  w2v_jd_291  w2v_jd_292  w2v_jd_293  \\\n",
       "0 -0.096545  0.061698   0.032799  ...   -0.123924    0.051403   -0.083477   \n",
       "1 -0.096545  0.061698   0.032799  ...   -0.123924    0.051403   -0.083477   \n",
       "2 -0.096545  0.061698   0.032799  ...   -0.123924    0.051403   -0.083477   \n",
       "\n",
       "   w2v_jd_294  w2v_jd_295  w2v_jd_296  w2v_jd_297  w2v_jd_298  w2v_jd_299  \\\n",
       "0    0.014774   -0.022493    0.004105    0.037251   -0.031369   -0.014646   \n",
       "1    0.014774   -0.022493    0.004105    0.037251   -0.031369   -0.014646   \n",
       "2    0.014774   -0.022493    0.004105    0.037251   -0.031369   -0.014646   \n",
       "\n",
       "   w2v_jd_300  \n",
       "0    0.023314  \n",
       "1    0.023314  \n",
       "2    0.023314  \n",
       "\n",
       "[3 rows x 300 columns]"
      ]
     },
     "execution_count": 38,
     "metadata": {},
     "output_type": "execute_result"
    }
   ],
   "source": [
    "X_w2v_2.head(3)"
   ]
  },
  {
   "cell_type": "code",
   "execution_count": 39,
   "id": "658e54d6-d288-416f-b98c-a2b11f8bd8ba",
   "metadata": {},
   "outputs": [],
   "source": [
    "# create input variables from bow of resumes\n",
    "X_w2v_3 = pd.DataFrame(w2v_resume, columns=['w2v_resume_'+str(i) for i in range(1, w2v_resume.shape[1]+1)])"
   ]
  },
  {
   "cell_type": "code",
   "execution_count": 40,
   "id": "98b37d8e-a5ad-430b-8816-7738399aded4",
   "metadata": {},
   "outputs": [
    {
     "data": {
      "text/html": [
       "<div>\n",
       "<style scoped>\n",
       "    .dataframe tbody tr th:only-of-type {\n",
       "        vertical-align: middle;\n",
       "    }\n",
       "\n",
       "    .dataframe tbody tr th {\n",
       "        vertical-align: top;\n",
       "    }\n",
       "\n",
       "    .dataframe thead th {\n",
       "        text-align: right;\n",
       "    }\n",
       "</style>\n",
       "<table border=\"1\" class=\"dataframe\">\n",
       "  <thead>\n",
       "    <tr style=\"text-align: right;\">\n",
       "      <th></th>\n",
       "      <th>w2v_resume_1</th>\n",
       "      <th>w2v_resume_2</th>\n",
       "      <th>w2v_resume_3</th>\n",
       "      <th>w2v_resume_4</th>\n",
       "      <th>w2v_resume_5</th>\n",
       "      <th>w2v_resume_6</th>\n",
       "      <th>w2v_resume_7</th>\n",
       "      <th>w2v_resume_8</th>\n",
       "      <th>w2v_resume_9</th>\n",
       "      <th>w2v_resume_10</th>\n",
       "      <th>...</th>\n",
       "      <th>w2v_resume_291</th>\n",
       "      <th>w2v_resume_292</th>\n",
       "      <th>w2v_resume_293</th>\n",
       "      <th>w2v_resume_294</th>\n",
       "      <th>w2v_resume_295</th>\n",
       "      <th>w2v_resume_296</th>\n",
       "      <th>w2v_resume_297</th>\n",
       "      <th>w2v_resume_298</th>\n",
       "      <th>w2v_resume_299</th>\n",
       "      <th>w2v_resume_300</th>\n",
       "    </tr>\n",
       "  </thead>\n",
       "  <tbody>\n",
       "    <tr>\n",
       "      <th>0</th>\n",
       "      <td>0.006755</td>\n",
       "      <td>-0.012968</td>\n",
       "      <td>0.000473</td>\n",
       "      <td>0.071339</td>\n",
       "      <td>-0.044992</td>\n",
       "      <td>0.038680</td>\n",
       "      <td>0.015418</td>\n",
       "      <td>-0.091917</td>\n",
       "      <td>0.044148</td>\n",
       "      <td>0.022059</td>\n",
       "      <td>...</td>\n",
       "      <td>-0.093632</td>\n",
       "      <td>0.078467</td>\n",
       "      <td>-0.082520</td>\n",
       "      <td>0.043662</td>\n",
       "      <td>-0.071912</td>\n",
       "      <td>-0.024356</td>\n",
       "      <td>0.025531</td>\n",
       "      <td>-0.037547</td>\n",
       "      <td>-0.004469</td>\n",
       "      <td>0.020108</td>\n",
       "    </tr>\n",
       "    <tr>\n",
       "      <th>1</th>\n",
       "      <td>0.013918</td>\n",
       "      <td>0.009207</td>\n",
       "      <td>-0.007583</td>\n",
       "      <td>0.055042</td>\n",
       "      <td>-0.037466</td>\n",
       "      <td>0.039507</td>\n",
       "      <td>0.052094</td>\n",
       "      <td>-0.067925</td>\n",
       "      <td>0.014280</td>\n",
       "      <td>0.003542</td>\n",
       "      <td>...</td>\n",
       "      <td>-0.123900</td>\n",
       "      <td>0.046592</td>\n",
       "      <td>-0.104040</td>\n",
       "      <td>-0.003736</td>\n",
       "      <td>-0.028183</td>\n",
       "      <td>-0.040095</td>\n",
       "      <td>0.053966</td>\n",
       "      <td>-0.031487</td>\n",
       "      <td>-0.012002</td>\n",
       "      <td>0.038397</td>\n",
       "    </tr>\n",
       "    <tr>\n",
       "      <th>2</th>\n",
       "      <td>-0.036020</td>\n",
       "      <td>0.019367</td>\n",
       "      <td>0.021208</td>\n",
       "      <td>0.048960</td>\n",
       "      <td>-0.024904</td>\n",
       "      <td>0.051158</td>\n",
       "      <td>0.046907</td>\n",
       "      <td>-0.063099</td>\n",
       "      <td>0.029806</td>\n",
       "      <td>-0.010489</td>\n",
       "      <td>...</td>\n",
       "      <td>-0.113115</td>\n",
       "      <td>0.018916</td>\n",
       "      <td>-0.068564</td>\n",
       "      <td>0.032169</td>\n",
       "      <td>-0.051364</td>\n",
       "      <td>-0.022383</td>\n",
       "      <td>0.029400</td>\n",
       "      <td>-0.058286</td>\n",
       "      <td>0.013220</td>\n",
       "      <td>0.029417</td>\n",
       "    </tr>\n",
       "  </tbody>\n",
       "</table>\n",
       "<p>3 rows × 300 columns</p>\n",
       "</div>"
      ],
      "text/plain": [
       "   w2v_resume_1  w2v_resume_2  w2v_resume_3  w2v_resume_4  w2v_resume_5  \\\n",
       "0      0.006755     -0.012968      0.000473      0.071339     -0.044992   \n",
       "1      0.013918      0.009207     -0.007583      0.055042     -0.037466   \n",
       "2     -0.036020      0.019367      0.021208      0.048960     -0.024904   \n",
       "\n",
       "   w2v_resume_6  w2v_resume_7  w2v_resume_8  w2v_resume_9  w2v_resume_10  ...  \\\n",
       "0      0.038680      0.015418     -0.091917      0.044148       0.022059  ...   \n",
       "1      0.039507      0.052094     -0.067925      0.014280       0.003542  ...   \n",
       "2      0.051158      0.046907     -0.063099      0.029806      -0.010489  ...   \n",
       "\n",
       "   w2v_resume_291  w2v_resume_292  w2v_resume_293  w2v_resume_294  \\\n",
       "0       -0.093632        0.078467       -0.082520        0.043662   \n",
       "1       -0.123900        0.046592       -0.104040       -0.003736   \n",
       "2       -0.113115        0.018916       -0.068564        0.032169   \n",
       "\n",
       "   w2v_resume_295  w2v_resume_296  w2v_resume_297  w2v_resume_298  \\\n",
       "0       -0.071912       -0.024356        0.025531       -0.037547   \n",
       "1       -0.028183       -0.040095        0.053966       -0.031487   \n",
       "2       -0.051364       -0.022383        0.029400       -0.058286   \n",
       "\n",
       "   w2v_resume_299  w2v_resume_300  \n",
       "0       -0.004469        0.020108  \n",
       "1       -0.012002        0.038397  \n",
       "2        0.013220        0.029417  \n",
       "\n",
       "[3 rows x 300 columns]"
      ]
     },
     "execution_count": 40,
     "metadata": {},
     "output_type": "execute_result"
    }
   ],
   "source": [
    "X_w2v_3.head(3)"
   ]
  },
  {
   "cell_type": "code",
   "execution_count": 41,
   "id": "868e0aa1-dc07-4f85-9129-0991d7996933",
   "metadata": {},
   "outputs": [],
   "source": [
    "# concat all three to create the original input\n",
    "X_w2v = pd.concat([X_w2v_1, X_w2v_2, X_w2v_3], axis=1)"
   ]
  },
  {
   "cell_type": "code",
   "execution_count": 42,
   "id": "b663ff4b-816c-4690-9e13-08a82dd02cfa",
   "metadata": {},
   "outputs": [
    {
     "name": "stdout",
     "output_type": "stream",
     "text": [
      "(90, 612)\n"
     ]
    }
   ],
   "source": [
    "print(X_w2v.shape)"
   ]
  },
  {
   "cell_type": "code",
   "execution_count": 43,
   "id": "6fb57715-bf80-4d31-8402-97db80d8d3d9",
   "metadata": {},
   "outputs": [
    {
     "data": {
      "text/html": [
       "<div>\n",
       "<style scoped>\n",
       "    .dataframe tbody tr th:only-of-type {\n",
       "        vertical-align: middle;\n",
       "    }\n",
       "\n",
       "    .dataframe tbody tr th {\n",
       "        vertical-align: top;\n",
       "    }\n",
       "\n",
       "    .dataframe thead th {\n",
       "        text-align: right;\n",
       "    }\n",
       "</style>\n",
       "<table border=\"1\" class=\"dataframe\">\n",
       "  <thead>\n",
       "    <tr style=\"text-align: right;\">\n",
       "      <th></th>\n",
       "      <th>resume_word_num</th>\n",
       "      <th>total_unique_word_num</th>\n",
       "      <th>common_word_num</th>\n",
       "      <th>common_word_ratio_min</th>\n",
       "      <th>fuzz_ratio</th>\n",
       "      <th>fuzz_partial_ratio</th>\n",
       "      <th>fuzz_token_set_ratio</th>\n",
       "      <th>fuzz_token_sort_ratio</th>\n",
       "      <th>is_fresher</th>\n",
       "      <th>from_reputed_college</th>\n",
       "      <th>...</th>\n",
       "      <th>w2v_resume_291</th>\n",
       "      <th>w2v_resume_292</th>\n",
       "      <th>w2v_resume_293</th>\n",
       "      <th>w2v_resume_294</th>\n",
       "      <th>w2v_resume_295</th>\n",
       "      <th>w2v_resume_296</th>\n",
       "      <th>w2v_resume_297</th>\n",
       "      <th>w2v_resume_298</th>\n",
       "      <th>w2v_resume_299</th>\n",
       "      <th>w2v_resume_300</th>\n",
       "    </tr>\n",
       "  </thead>\n",
       "  <tbody>\n",
       "    <tr>\n",
       "      <th>0</th>\n",
       "      <td>87</td>\n",
       "      <td>192</td>\n",
       "      <td>13</td>\n",
       "      <td>0.180556</td>\n",
       "      <td>86</td>\n",
       "      <td>45</td>\n",
       "      <td>52</td>\n",
       "      <td>50</td>\n",
       "      <td>1</td>\n",
       "      <td>1</td>\n",
       "      <td>...</td>\n",
       "      <td>-0.093632</td>\n",
       "      <td>0.078467</td>\n",
       "      <td>-0.082520</td>\n",
       "      <td>0.043662</td>\n",
       "      <td>-0.071912</td>\n",
       "      <td>-0.024356</td>\n",
       "      <td>0.025531</td>\n",
       "      <td>-0.037547</td>\n",
       "      <td>-0.004469</td>\n",
       "      <td>0.020108</td>\n",
       "    </tr>\n",
       "    <tr>\n",
       "      <th>1</th>\n",
       "      <td>84</td>\n",
       "      <td>180</td>\n",
       "      <td>27</td>\n",
       "      <td>0.364865</td>\n",
       "      <td>86</td>\n",
       "      <td>47</td>\n",
       "      <td>57</td>\n",
       "      <td>52</td>\n",
       "      <td>1</td>\n",
       "      <td>0</td>\n",
       "      <td>...</td>\n",
       "      <td>-0.123900</td>\n",
       "      <td>0.046592</td>\n",
       "      <td>-0.104040</td>\n",
       "      <td>-0.003736</td>\n",
       "      <td>-0.028183</td>\n",
       "      <td>-0.040095</td>\n",
       "      <td>0.053966</td>\n",
       "      <td>-0.031487</td>\n",
       "      <td>-0.012002</td>\n",
       "      <td>0.038397</td>\n",
       "    </tr>\n",
       "    <tr>\n",
       "      <th>2</th>\n",
       "      <td>93</td>\n",
       "      <td>184</td>\n",
       "      <td>18</td>\n",
       "      <td>0.260870</td>\n",
       "      <td>86</td>\n",
       "      <td>45</td>\n",
       "      <td>50</td>\n",
       "      <td>49</td>\n",
       "      <td>1</td>\n",
       "      <td>0</td>\n",
       "      <td>...</td>\n",
       "      <td>-0.113115</td>\n",
       "      <td>0.018916</td>\n",
       "      <td>-0.068564</td>\n",
       "      <td>0.032169</td>\n",
       "      <td>-0.051364</td>\n",
       "      <td>-0.022383</td>\n",
       "      <td>0.029400</td>\n",
       "      <td>-0.058286</td>\n",
       "      <td>0.013220</td>\n",
       "      <td>0.029417</td>\n",
       "    </tr>\n",
       "  </tbody>\n",
       "</table>\n",
       "<p>3 rows × 612 columns</p>\n",
       "</div>"
      ],
      "text/plain": [
       "   resume_word_num  total_unique_word_num  common_word_num  \\\n",
       "0               87                    192               13   \n",
       "1               84                    180               27   \n",
       "2               93                    184               18   \n",
       "\n",
       "   common_word_ratio_min  fuzz_ratio  fuzz_partial_ratio  \\\n",
       "0               0.180556          86                  45   \n",
       "1               0.364865          86                  47   \n",
       "2               0.260870          86                  45   \n",
       "\n",
       "   fuzz_token_set_ratio  fuzz_token_sort_ratio  is_fresher  \\\n",
       "0                    52                     50           1   \n",
       "1                    57                     52           1   \n",
       "2                    50                     49           1   \n",
       "\n",
       "   from_reputed_college  ...  w2v_resume_291  w2v_resume_292  w2v_resume_293  \\\n",
       "0                     1  ...       -0.093632        0.078467       -0.082520   \n",
       "1                     0  ...       -0.123900        0.046592       -0.104040   \n",
       "2                     0  ...       -0.113115        0.018916       -0.068564   \n",
       "\n",
       "   w2v_resume_294  w2v_resume_295  w2v_resume_296  w2v_resume_297  \\\n",
       "0        0.043662       -0.071912       -0.024356        0.025531   \n",
       "1       -0.003736       -0.028183       -0.040095        0.053966   \n",
       "2        0.032169       -0.051364       -0.022383        0.029400   \n",
       "\n",
       "   w2v_resume_298  w2v_resume_299  w2v_resume_300  \n",
       "0       -0.037547       -0.004469        0.020108  \n",
       "1       -0.031487       -0.012002        0.038397  \n",
       "2       -0.058286        0.013220        0.029417  \n",
       "\n",
       "[3 rows x 612 columns]"
      ]
     },
     "execution_count": 43,
     "metadata": {},
     "output_type": "execute_result"
    }
   ],
   "source": [
    "X_w2v.head(3)"
   ]
  },
  {
   "cell_type": "markdown",
   "id": "e88e6942-7c0c-44ca-baca-0beadd86fae5",
   "metadata": {},
   "source": [
    "<br><b style=\"color:#ff6600\"><u>Summary</u></b><br>\n",
    "* I have created the input and output data by combining extracted features and average word2vec representations of resumes and job descriptions.\n",
    "* We have 90 data points.\n",
    "* We have 612 features."
   ]
  },
  {
   "cell_type": "markdown",
   "id": "d57f3f21-1438-4401-9c08-a3ef41494a4f",
   "metadata": {
    "tags": []
   },
   "source": [
    "## Train Test split"
   ]
  },
  {
   "cell_type": "code",
   "execution_count": 44,
   "id": "37e11efd-96ac-4a54-a6b0-08faa193b747",
   "metadata": {
    "tags": []
   },
   "outputs": [],
   "source": [
    "y_w2v = y_w2v.to_numpy()\n",
    "X_train_w2v, X_test_w2v, y_train_w2v, y_test_w2v = train_test_split(X_w2v, y_w2v, test_size=0.30, random_state=1)"
   ]
  },
  {
   "cell_type": "code",
   "execution_count": 19,
   "id": "9bd834d8-6b8d-4cc2-9d56-c34f9d02c86b",
   "metadata": {},
   "outputs": [],
   "source": [
    "# get train and test indices\n",
    "train_indices = X_train_w2v.index\n",
    "test_indices = X_test_w2v.index"
   ]
  },
  {
   "cell_type": "markdown",
   "id": "9d50c2c1-c2b6-4a1f-91b7-72ebed6c564f",
   "metadata": {},
   "source": [
    "<br><b style=\"color:#ff6600\"><u>Summary</u></b><br>\n",
    "Again we have done train test split just like before. Since we have used the same random state. The data points will be same as before in train and test splits."
   ]
  },
  {
   "cell_type": "markdown",
   "id": "0ef150e0-08d7-45ba-bae2-89eaf8f3e1b5",
   "metadata": {},
   "source": [
    "## Preprocessing"
   ]
  },
  {
   "cell_type": "code",
   "execution_count": 21,
   "id": "33f1a387-fce9-4d3f-bb26-cf14eb595a16",
   "metadata": {},
   "outputs": [],
   "source": [
    "# mean centering, variance scaling\n",
    "scaler = StandardScaler()"
   ]
  },
  {
   "cell_type": "code",
   "execution_count": 22,
   "id": "e9113a4a-dd71-4103-b45e-8f20da7794e6",
   "metadata": {},
   "outputs": [
    {
     "data": {
      "text/plain": [
       "StandardScaler()"
      ]
     },
     "execution_count": 22,
     "metadata": {},
     "output_type": "execute_result"
    }
   ],
   "source": [
    "# getting mean and variance\n",
    "scaler.fit(X_train_w2v)"
   ]
  },
  {
   "cell_type": "code",
   "execution_count": 23,
   "id": "0491d0f6-eb6f-4666-a012-95304533941c",
   "metadata": {},
   "outputs": [],
   "source": [
    "# standardizing train data\n",
    "X_train_w2v = scaler.transform(X_train_w2v)"
   ]
  },
  {
   "cell_type": "code",
   "execution_count": 24,
   "id": "951d2acc-7ecb-41d7-b704-4e12aa314170",
   "metadata": {
    "tags": []
   },
   "outputs": [],
   "source": [
    "# standardizing test data\n",
    "X_test_w2v = scaler.transform(X_test_w2v)"
   ]
  },
  {
   "cell_type": "markdown",
   "id": "04f811f5-a8ef-4c7d-923f-e36c8e1ab04c",
   "metadata": {},
   "source": [
    "<br><b style=\"color:#ff6600\"><u>Summary</u></b><br>\n",
    "Again I have done column standardization with mean centering and variance scaling."
   ]
  },
  {
   "cell_type": "markdown",
   "id": "acb47c54-9d3a-480c-8224-70a05fae907a",
   "metadata": {},
   "source": [
    "## Modeling (Basic)"
   ]
  },
  {
   "cell_type": "markdown",
   "id": "02be2205-6762-4787-a9e3-d3e3f907aee6",
   "metadata": {},
   "source": [
    "### Linear Regression"
   ]
  },
  {
   "cell_type": "code",
   "execution_count": 25,
   "id": "14d223fd-5f78-4892-b010-af2f1d00fe49",
   "metadata": {},
   "outputs": [],
   "source": [
    "def objective(space):\n",
    "    '''objective function for hyper param tuning'''\n",
    "    # 3 fold cross validation\n",
    "    kf = KFold(n_splits=3)\n",
    "    mselosses = []\n",
    "    # k fold cross validation\n",
    "    for train_index, cv_index in kf.split(X_train_w2v):\n",
    "        # split input data\n",
    "        X_train, X_cv = X_train_w2v[train_index], X_train_w2v[cv_index]\n",
    "        # split output data\n",
    "        y_train, y_cv = y_train_w2v[train_index], y_train_w2v[cv_index]\n",
    "        # create Linear Regression model with l2 regularizer\n",
    "        model = Ridge(alpha = space['alpha'], max_iter=3000)\n",
    "        # train the model\n",
    "        model.fit(X_train, y_train)\n",
    "        cv_pred = model.predict(X_cv)\n",
    "        tempmseloss = mse(y_cv, cv_pred)\n",
    "        mselosses.append(tempmseloss)\n",
    "        \n",
    "    # calculate mse\n",
    "    mseloss = sum(mselosses)/len(mselosses)\n",
    "    # return params\n",
    "    return {'loss':mseloss, 'status': STATUS_OK, 'params': space }"
   ]
  },
  {
   "cell_type": "code",
   "execution_count": 26,
   "id": "cb7d9d18-c0e3-4b19-b4db-59235f4c0562",
   "metadata": {},
   "outputs": [],
   "source": [
    "# search space for hyper parameter tuning\n",
    "space = {\n",
    "    # uniform distribution between 0.001 and 1000\n",
    "    \"alpha\": hp.quniform(\"alpha\", 0.001, 1000, 0.001)\n",
    "}"
   ]
  },
  {
   "cell_type": "code",
   "execution_count": 27,
   "id": "f92914ad-99cd-47ff-aba9-59d4cede3b52",
   "metadata": {},
   "outputs": [
    {
     "name": "stdout",
     "output_type": "stream",
     "text": [
      "100%|███████| 300/300 [00:12<00:00, 24.38trial/s, best loss: 159.04115884772614]\n"
     ]
    }
   ],
   "source": [
    "# create trials\n",
    "trials = Trials()\n",
    "# minimise the objective function with max 300 trials\n",
    "best_param = fmin(fn=objective,\n",
    "            space=space,\n",
    "            algo=tpe.suggest,\n",
    "            max_evals=300,\n",
    "            trials=trials)"
   ]
  },
  {
   "cell_type": "code",
   "execution_count": 28,
   "id": "738a9f0e-5d25-4a42-9b23-d9d273fa894a",
   "metadata": {},
   "outputs": [
    {
     "name": "stdout",
     "output_type": "stream",
     "text": [
      "Best Param :  {'alpha': 88.674}\n"
     ]
    }
   ],
   "source": [
    "print(\"Best Param : \", best_param)"
   ]
  },
  {
   "cell_type": "code",
   "execution_count": 29,
   "id": "25889111-5d22-4f93-aac9-9152f10fec4a",
   "metadata": {},
   "outputs": [
    {
     "data": {
      "text/plain": [
       "Ridge(alpha=88.674, max_iter=3000)"
      ]
     },
     "execution_count": 29,
     "metadata": {},
     "output_type": "execute_result"
    }
   ],
   "source": [
    "# create l2 linear regerssion model\n",
    "lr_model_t = Ridge(alpha = 88.674, max_iter=3000)\n",
    "# fit model on train data\n",
    "lr_model_t.fit(X_train_w2v, y_train_w2v)"
   ]
  },
  {
   "cell_type": "code",
   "execution_count": 32,
   "id": "253694bf-eaaf-4216-9761-37453f2764e1",
   "metadata": {},
   "outputs": [
    {
     "name": "stdout",
     "output_type": "stream",
     "text": [
      "\n",
      " ========== Train Errors ========== \n",
      "\n",
      "MSE on train data => 17.155410058768833\n",
      "R-squared on train data => 0.9345754283917438\n"
     ]
    },
    {
     "data": {
      "image/png": "[encoded data removed]",
      "text/plain": [
       "<Figure size 432x288 with 1 Axes>"
      ]
     },
     "metadata": {
      "needs_background": "light"
     },
     "output_type": "display_data"
    },
    {
     "name": "stdout",
     "output_type": "stream",
     "text": [
      "\n",
      " ========== Test Errors ========== \n",
      "\n",
      "MSE on test data => 111.87132188386224\n",
      "R-squared on test data => 0.5246230585074767\n"
     ]
    },
    {
     "data": {
      "image/png": "[encoded data removed]",
      "text/plain": [
       "<Figure size 432x288 with 1 Axes>"
      ]
     },
     "metadata": {
      "needs_background": "light"
     },
     "output_type": "display_data"
    }
   ],
   "source": [
    "test_errors = showErrors(lr_model_t, X_train_w2v, y_train_w2v, X_test_w2v, y_test_w2v)"
   ]
  },
  {
   "cell_type": "markdown",
   "id": "4d4a2fc8-5d73-4758-9576-e2af5f585624",
   "metadata": {
    "tags": []
   },
   "source": [
    "### KNN Regression"
   ]
  },
  {
   "cell_type": "code",
   "execution_count": 33,
   "id": "f4a92b69-5c87-497a-9a54-d77df16783c9",
   "metadata": {},
   "outputs": [],
   "source": [
    "def objective(space):\n",
    "    '''objective function for hyper param tuning'''\n",
    "    # 3 fold cross validation\n",
    "    kf = KFold(n_splits=3)\n",
    "    mselosses = []\n",
    "    # k fold cross validation\n",
    "    for train_index, cv_index in kf.split(X_train_w2v):\n",
    "        # split input data\n",
    "        X_train, X_cv = X_train_w2v[train_index], X_train_w2v[cv_index]\n",
    "        # split output data\n",
    "        y_train, y_cv = y_train_w2v[train_index], y_train_w2v[cv_index]\n",
    "        # create KNeighborsRegressor\n",
    "        model = KNeighborsRegressor(n_neighbors=space['n_neighbors'], metric=space['metric'])\n",
    "        # train the model\n",
    "        model.fit(X_train, y_train)\n",
    "        cv_pred = model.predict(X_cv)\n",
    "        tempmseloss = mse(y_cv, cv_pred)\n",
    "        mselosses.append(tempmseloss)\n",
    "        \n",
    "    # calculate mse\n",
    "    mseloss = sum(mselosses)/len(mselosses)\n",
    "    # return params\n",
    "    return {'loss':mseloss, 'status': STATUS_OK, 'params': space }"
   ]
  },
  {
   "cell_type": "code",
   "execution_count": 34,
   "id": "a3f9b396-2107-48af-a59e-ca5c2e1374fc",
   "metadata": {},
   "outputs": [],
   "source": [
    "# search space for hyper parameter tuning\n",
    "space = {\n",
    "    \"n_neighbors\": hp.choice(\"n_neighbors\", [3, 5, 7]),\n",
    "    \"metric\": hp.choice(\"metric\", ['euclidean', 'cosine'])\n",
    "}"
   ]
  },
  {
   "cell_type": "code",
   "execution_count": 36,
   "id": "c6dd5207-aa43-4452-a17e-8639a08de3af",
   "metadata": {},
   "outputs": [
    {
     "name": "stdout",
     "output_type": "stream",
     "text": [
      "100%|███████| 300/300 [00:05<00:00, 59.49trial/s, best loss: 237.48912037576932]\n"
     ]
    }
   ],
   "source": [
    "# create trials\n",
    "trials = Trials()\n",
    "# minimise the objective function with max 300 trials\n",
    "best_param = fmin(fn=objective,\n",
    "            space=space,\n",
    "            algo=tpe.suggest,\n",
    "            max_evals=300,\n",
    "            trials=trials)"
   ]
  },
  {
   "cell_type": "code",
   "execution_count": 37,
   "id": "17063f3d-77be-43c9-89f6-a11e3d4e57a8",
   "metadata": {},
   "outputs": [
    {
     "name": "stdout",
     "output_type": "stream",
     "text": [
      "{'metric': 1, 'n_neighbors': 2}\n"
     ]
    }
   ],
   "source": [
    "print(best_param)"
   ]
  },
  {
   "cell_type": "code",
   "execution_count": 38,
   "id": "440c2145-069e-46ef-aaf2-0a46174366f0",
   "metadata": {},
   "outputs": [],
   "source": [
    "knn_model = KNeighborsRegressor(n_neighbors=7, metric='cosine')"
   ]
  },
  {
   "cell_type": "code",
   "execution_count": 39,
   "id": "c928a24b-c87c-4ca7-9cfb-b44a01afde32",
   "metadata": {},
   "outputs": [
    {
     "data": {
      "text/plain": [
       "KNeighborsRegressor(metric='cosine', n_neighbors=7)"
      ]
     },
     "execution_count": 39,
     "metadata": {},
     "output_type": "execute_result"
    }
   ],
   "source": [
    "knn_model.fit(X_train_w2v, y_train_w2v)"
   ]
  },
  {
   "cell_type": "code",
   "execution_count": 40,
   "id": "0ff12bd6-d52a-414f-92bf-c311615c7ab2",
   "metadata": {},
   "outputs": [
    {
     "name": "stdout",
     "output_type": "stream",
     "text": [
      "\n",
      " ========== Train Errors ========== \n",
      "\n",
      "MSE on train data => 155.1368555879494\n",
      "R-squared on train data => 0.408363759145148\n"
     ]
    },
    {
     "data": {
      "image/png": "[encoded data removed]",
      "text/plain": [
       "<Figure size 432x288 with 1 Axes>"
      ]
     },
     "metadata": {
      "needs_background": "light"
     },
     "output_type": "display_data"
    },
    {
     "name": "stdout",
     "output_type": "stream",
     "text": [
      "\n",
      " ========== Test Errors ========== \n",
      "\n",
      "MSE on test data => 100.86156780045354\n",
      "R-squared on test data => 0.5714070164926074\n"
     ]
    },
    {
     "data": {
      "image/png": "[encoded data removed]",
      "text/plain": [
       "<Figure size 432x288 with 1 Axes>"
      ]
     },
     "metadata": {
      "needs_background": "light"
     },
     "output_type": "display_data"
    }
   ],
   "source": [
    "test_errors = showErrors(knn_model, X_train_w2v, y_train_w2v, X_test_w2v, y_test_w2v)"
   ]
  },
  {
   "cell_type": "markdown",
   "id": "c724e62d-18fd-4a11-8946-939b2a896cf9",
   "metadata": {},
   "source": [
    "<br><b style=\"color:#ff6600\"><u>Summary</u></b><br>\n",
    "I have used Linear Regression with l2 regularizer and KNN Regression for initial ananlysis.\n",
    "<br>\n",
    "After hyper parameter tuning for Linear Regression, I found the best alpha=88.674.<br>\n",
    "And train and test mse are 17.155 and 111.87 respectively.\n",
    "<br><br>\n",
    "For KNN Regression the best hyper parameters are n_neighbors=7 and metric='cosine.<br>\n",
    "And train and test mse are 155.137 and 100.862 respectively.\n",
    "<br><br>\n",
    "We can see the results are not very promising. "
   ]
  },
  {
   "cell_type": "markdown",
   "id": "7ec33f9b-2c0c-453e-accd-bc2369707b26",
   "metadata": {},
   "source": [
    "## Error Analysis"
   ]
  },
  {
   "cell_type": "code",
   "execution_count": 313,
   "id": "5ffa46ae-cb39-4432-80af-863f884f323e",
   "metadata": {},
   "outputs": [
    {
     "data": {
      "text/plain": [
       "SequentialFeatureSelector(cv=3, estimator=Ridge(alpha=88.197, max_iter=3000),\n",
       "                          n_features_to_select=200)"
      ]
     },
     "execution_count": 313,
     "metadata": {},
     "output_type": "execute_result"
    }
   ],
   "source": [
    "# feature_selector = Ridge(alpha = 88.197, max_iter=3000)\n",
    "# sfs = SequentialFeatureSelector(feature_selector, n_features_to_select=200, direction='forward', cv=3)\n",
    "# sfs.fit(StandardScaler().fit_transform(X_w2v), y_w2v)"
   ]
  },
  {
   "cell_type": "code",
   "execution_count": 319,
   "id": "e2bdd6fb-7e77-486d-be8a-3e2349dac1a8",
   "metadata": {},
   "outputs": [],
   "source": [
    "#features = X_w2v.columns[sfs.get_support()]"
   ]
  },
  {
   "cell_type": "code",
   "execution_count": 320,
   "id": "2cc38fcf-e743-4dbc-8597-f18b0bf102a0",
   "metadata": {},
   "outputs": [],
   "source": [
    "# # save selected_features\n",
    "# with open('selected_features2.npy', 'wb') as f:\n",
    "#     np.save(f, features, allow_pickle=True)"
   ]
  },
  {
   "cell_type": "code",
   "execution_count": 45,
   "id": "165ba527-4027-477c-beba-dcd8a1a1c057",
   "metadata": {},
   "outputs": [],
   "source": [
    "# load selected_features\n",
    "with open('selected_features2.npy', 'rb') as f:\n",
    "    features = np.load(f, allow_pickle=True)"
   ]
  },
  {
   "cell_type": "code",
   "execution_count": 46,
   "id": "be0ee3a3-73a4-455b-a43d-786fa0307fed",
   "metadata": {},
   "outputs": [],
   "source": [
    "X_w2v = X_w2v[features]"
   ]
  },
  {
   "cell_type": "markdown",
   "id": "3f7e59d3-7be5-415c-b46c-c93889ecfa13",
   "metadata": {},
   "source": [
    "<br><b style=\"color:#ff6600\"><u>Summary</u></b><br>\n",
    "From the previous exprecience and from the fact that we have only one jd, I had a hunch that we can get better results after doing forward feature selection.<br><br>\n",
    "I used the linear regression for forward feature selection and selected 200 features out of 613 features."
   ]
  },
  {
   "cell_type": "markdown",
   "id": "d9374914-c6ea-420f-a816-e7a6f841246a",
   "metadata": {
    "tags": []
   },
   "source": [
    "## Train Test split"
   ]
  },
  {
   "cell_type": "code",
   "execution_count": 47,
   "id": "461a0db9-6826-4871-8e31-b48cb269356d",
   "metadata": {
    "tags": []
   },
   "outputs": [],
   "source": [
    "X_train_w2v, X_test_w2v, y_train_w2v, y_test_w2v = train_test_split(X_w2v, y_w2v, test_size=0.30, random_state=1)"
   ]
  },
  {
   "cell_type": "code",
   "execution_count": 48,
   "id": "494373db-62a2-4629-94ed-9f7371e03a11",
   "metadata": {},
   "outputs": [],
   "source": [
    "# get train and test indices\n",
    "train_indices = X_train_w2v.index\n",
    "test_indices = X_test_w2v.index"
   ]
  },
  {
   "cell_type": "markdown",
   "id": "9c77456b-dc63-4545-9b56-3fa1f543195a",
   "metadata": {},
   "source": [
    "<br><b style=\"color:#ff6600\"><u>Summary</u></b><br>\n",
    "Just like before we have done train test split."
   ]
  },
  {
   "cell_type": "markdown",
   "id": "30dae072-fa00-4234-ab0b-0b72497d45ff",
   "metadata": {},
   "source": [
    "## Preprocessing"
   ]
  },
  {
   "cell_type": "code",
   "execution_count": 49,
   "id": "595f1f92-0179-4eea-85fc-6d6b2f0c682f",
   "metadata": {},
   "outputs": [],
   "source": [
    "# mean centering, variance scaling\n",
    "scaler = StandardScaler()"
   ]
  },
  {
   "cell_type": "code",
   "execution_count": 50,
   "id": "d582b3dd-c989-479a-a1b3-784a30511fe0",
   "metadata": {},
   "outputs": [
    {
     "data": {
      "text/plain": [
       "StandardScaler()"
      ]
     },
     "execution_count": 50,
     "metadata": {},
     "output_type": "execute_result"
    }
   ],
   "source": [
    "# getting mean and variance\n",
    "scaler.fit(X_train_w2v)"
   ]
  },
  {
   "cell_type": "code",
   "execution_count": 51,
   "id": "3a93af88-9925-46d2-aaec-76a4a04d641e",
   "metadata": {},
   "outputs": [],
   "source": [
    "# standardizing train data\n",
    "X_train_w2v = scaler.transform(X_train_w2v)"
   ]
  },
  {
   "cell_type": "code",
   "execution_count": 52,
   "id": "e2db8629-b317-4523-996d-75553a68c1d1",
   "metadata": {
    "tags": []
   },
   "outputs": [],
   "source": [
    "# standardizing test data\n",
    "X_test_w2v = scaler.transform(X_test_w2v)"
   ]
  },
  {
   "cell_type": "code",
   "execution_count": 53,
   "id": "c26b3be1-7390-48b0-aa11-99316d2da153",
   "metadata": {},
   "outputs": [],
   "source": [
    "# # save all the data\n",
    "# with open('X_train_w2v.npy', 'wb') as f:\n",
    "#     np.save(f, X_train_w2v, allow_pickle=True)\n",
    "# with open('X_test_w2v.npy', 'wb') as f:\n",
    "#     np.save(f, X_test_w2v, allow_pickle=True)\n",
    "# with open('y_train_w2v.npy', 'wb') as f:\n",
    "#     np.save(f, y_train_w2v, allow_pickle=True)\n",
    "# with open('y_test_w2v.npy', 'wb') as f:\n",
    "#     np.save(f, y_test_w2v, allow_pickle=True)"
   ]
  },
  {
   "cell_type": "markdown",
   "id": "519d18cf-b801-404e-8246-adb3a49459b7",
   "metadata": {},
   "source": [
    "<br><b style=\"color:#ff6600\"><u>Summary</u></b><br>\n",
    "Again we have preprocessed the data to have mean of 0 and variance of 1. And save them in file."
   ]
  },
  {
   "cell_type": "markdown",
   "id": "4fbaa86d-f27c-4d0f-929e-992c87f457f3",
   "metadata": {},
   "source": [
    "## Modeling"
   ]
  },
  {
   "cell_type": "markdown",
   "id": "64b35e4d-31ea-4d5e-bc11-a73a762d93af",
   "metadata": {},
   "source": [
    "### Linear Regression"
   ]
  },
  {
   "cell_type": "code",
   "execution_count": 51,
   "id": "6a7a3e35-ae53-417b-8cb6-95b80bd229e7",
   "metadata": {},
   "outputs": [],
   "source": [
    "def objective(space):\n",
    "    '''objective function for hyper param tuning'''\n",
    "    # 3 fold cross validation\n",
    "    kf = KFold(n_splits=3)\n",
    "    mselosses = []\n",
    "    # k fold cross validation\n",
    "    for train_index, cv_index in kf.split(X_train_w2v):\n",
    "        # split input data\n",
    "        X_train, X_cv = X_train_w2v[train_index], X_train_w2v[cv_index]\n",
    "        # split output data\n",
    "        y_train, y_cv = y_train_w2v[train_index], y_train_w2v[cv_index]\n",
    "        # create Linear Regression model with l2 regularizer\n",
    "        model = Ridge(alpha = space['alpha'], max_iter=3000)\n",
    "        # train the model\n",
    "        model.fit(X_train, y_train)\n",
    "        cv_pred = model.predict(X_cv)\n",
    "        tempmseloss = mse(y_cv, cv_pred)\n",
    "        mselosses.append(tempmseloss)\n",
    "        \n",
    "    # calculate mse\n",
    "    mseloss = sum(mselosses)/len(mselosses)\n",
    "    # return params\n",
    "    return {'loss':mseloss, 'status': STATUS_OK, 'params': space }"
   ]
  },
  {
   "cell_type": "code",
   "execution_count": 52,
   "id": "347ea548-6488-44d3-940b-4e16f8330995",
   "metadata": {},
   "outputs": [],
   "source": [
    "# search space for hyper parameter tuning\n",
    "space = {\n",
    "    # uniform distribution between 0.001 and 1000\n",
    "    \"alpha\": hp.quniform(\"alpha\", 0.001, 1000, 0.001)\n",
    "}"
   ]
  },
  {
   "cell_type": "code",
   "execution_count": 53,
   "id": "c9bb0b5a-b8b9-48df-9479-f3acefc71437",
   "metadata": {},
   "outputs": [
    {
     "name": "stdout",
     "output_type": "stream",
     "text": [
      "100%|████████| 300/300 [00:08<00:00, 35.40trial/s, best loss: 69.81675289805044]\n"
     ]
    }
   ],
   "source": [
    "# create trials\n",
    "trials = Trials()\n",
    "# minimise the objective function with max 300 trials\n",
    "best_param = fmin(fn=objective,\n",
    "            space=space,\n",
    "            algo=tpe.suggest,\n",
    "            max_evals=300,\n",
    "            trials=trials)"
   ]
  },
  {
   "cell_type": "code",
   "execution_count": 54,
   "id": "dca18aed-fbcf-4ee8-b46d-d13ef91700b8",
   "metadata": {},
   "outputs": [
    {
     "name": "stdout",
     "output_type": "stream",
     "text": [
      "Best Param :  {'alpha': 8.287}\n"
     ]
    }
   ],
   "source": [
    "print(\"Best Param : \", best_param)"
   ]
  },
  {
   "cell_type": "code",
   "execution_count": 127,
   "id": "f94ea59b-a58d-4fbf-a06a-bfe2c186316c",
   "metadata": {},
   "outputs": [
    {
     "data": {
      "text/plain": [
       "Ridge(alpha=8.287, max_iter=3000)"
      ]
     },
     "execution_count": 127,
     "metadata": {},
     "output_type": "execute_result"
    }
   ],
   "source": [
    "# create l2 linear regerssion model\n",
    "lr_model_2 = Ridge(alpha = 8.287, max_iter=3000)\n",
    "# fit model on train data\n",
    "lr_model_2.fit(X_train_w2v, y_train_w2v)"
   ]
  },
  {
   "cell_type": "code",
   "execution_count": 56,
   "id": "0d1ce5a3-a938-4bcf-bd00-6fc14b0a1881",
   "metadata": {},
   "outputs": [
    {
     "name": "stdout",
     "output_type": "stream",
     "text": [
      "\n",
      " ========== Train Errors ========== \n",
      "\n",
      "MSE on train data => 4.4046196942558\n",
      "R-squared on train data => 0.9832023626595461\n"
     ]
    },
    {
     "data": {
      "image/png": "[encoded data removed]",
      "text/plain": [
       "<Figure size 432x288 with 1 Axes>"
      ]
     },
     "metadata": {
      "needs_background": "light"
     },
     "output_type": "display_data"
    },
    {
     "name": "stdout",
     "output_type": "stream",
     "text": [
      "\n",
      " ========== Test Errors ========== \n",
      "\n",
      "MSE on test data => 59.500106890237085\n",
      "R-squared on test data => 0.7471650611108108\n"
     ]
    },
    {
     "data": {
      "image/png": "[encoded data removed]",
      "text/plain": [
       "<Figure size 432x288 with 1 Axes>"
      ]
     },
     "metadata": {
      "needs_background": "light"
     },
     "output_type": "display_data"
    }
   ],
   "source": [
    "test_errors = showErrors(lr_model_2, X_train_w2v, y_train_w2v, X_test_w2v, y_test_w2v)"
   ]
  },
  {
   "cell_type": "markdown",
   "id": "c6eda31d-1302-40c1-a6f5-3f185644edeb",
   "metadata": {
    "tags": []
   },
   "source": [
    "### KNN Regression"
   ]
  },
  {
   "cell_type": "code",
   "execution_count": 57,
   "id": "beb522a0-b739-4516-9be2-708427ae939a",
   "metadata": {},
   "outputs": [],
   "source": [
    "def objective(space):\n",
    "    '''objective function for hyper param tuning'''\n",
    "    # 3 fold cross validation\n",
    "    kf = KFold(n_splits=3)\n",
    "    mselosses = []\n",
    "    # k fold cross validation\n",
    "    for train_index, cv_index in kf.split(X_train_w2v):\n",
    "        # split input data\n",
    "        X_train, X_cv = X_train_w2v[train_index], X_train_w2v[cv_index]\n",
    "        # split output data\n",
    "        y_train, y_cv = y_train_w2v[train_index], y_train_w2v[cv_index]\n",
    "        # create Linear Regression model with l2 regularizer\n",
    "        model = KNeighborsRegressor(n_neighbors=space['n_neighbors'], metric=space['metric'])\n",
    "        # train the model\n",
    "        model.fit(X_train, y_train)\n",
    "        cv_pred = model.predict(X_cv)\n",
    "        tempmseloss = mse(y_cv, cv_pred)\n",
    "        mselosses.append(tempmseloss)\n",
    "        \n",
    "    # calculate mse\n",
    "    mseloss = sum(mselosses)/len(mselosses)\n",
    "    # return params\n",
    "    return {'loss':mseloss, 'status': STATUS_OK, 'params': space }"
   ]
  },
  {
   "cell_type": "code",
   "execution_count": 58,
   "id": "f84e8bec-2801-425e-877c-95cabea26d50",
   "metadata": {},
   "outputs": [],
   "source": [
    "# search space for hyper parameter tuning\n",
    "space = {\n",
    "    \"n_neighbors\": hp.choice(\"n_neighbors\", [3, 5, 7]),\n",
    "    \"metric\": hp.choice(\"metric\", ['euclidean', 'cosine'])\n",
    "}"
   ]
  },
  {
   "cell_type": "code",
   "execution_count": 59,
   "id": "a2acc6fa-b821-4428-a7b3-e660edf3d63c",
   "metadata": {},
   "outputs": [
    {
     "name": "stdout",
     "output_type": "stream",
     "text": [
      "100%|██████| 300/300 [00:01<00:00, 199.70trial/s, best loss: 187.48430638160025]\n"
     ]
    }
   ],
   "source": [
    "# create trials\n",
    "trials = Trials()\n",
    "# minimise the objective function with max 300 trials\n",
    "best_param = fmin(fn=objective,\n",
    "            space=space,\n",
    "            algo=tpe.suggest,\n",
    "            max_evals=300,\n",
    "            trials=trials)"
   ]
  },
  {
   "cell_type": "code",
   "execution_count": 60,
   "id": "18c6a145-5ce7-44a3-b42e-bbf4a29372c4",
   "metadata": {},
   "outputs": [
    {
     "name": "stdout",
     "output_type": "stream",
     "text": [
      "{'metric': 1, 'n_neighbors': 2}\n"
     ]
    }
   ],
   "source": [
    "print(best_param)"
   ]
  },
  {
   "cell_type": "code",
   "execution_count": 61,
   "id": "ed2e1807-2bd1-4def-8070-d50b4d5163d2",
   "metadata": {},
   "outputs": [],
   "source": [
    "knn_model_2 = KNeighborsRegressor(n_neighbors=7, metric='cosine')"
   ]
  },
  {
   "cell_type": "code",
   "execution_count": 62,
   "id": "09bbead9-1465-47ac-8090-50f942a491c1",
   "metadata": {},
   "outputs": [
    {
     "data": {
      "text/plain": [
       "KNeighborsRegressor(metric='cosine', n_neighbors=7)"
      ]
     },
     "execution_count": 62,
     "metadata": {},
     "output_type": "execute_result"
    }
   ],
   "source": [
    "knn_model_2.fit(X_train_w2v, y_train_w2v)"
   ]
  },
  {
   "cell_type": "code",
   "execution_count": 63,
   "id": "ac025c2a-90c7-4d4f-aaeb-38ae5d05e074",
   "metadata": {},
   "outputs": [
    {
     "name": "stdout",
     "output_type": "stream",
     "text": [
      "\n",
      " ========== Train Errors ========== \n",
      "\n",
      "MSE on train data => 105.31223598963398\n",
      "R-squared on train data => 0.5983769609046665\n"
     ]
    },
    {
     "data": {
      "image/png": "[encoded data removed]",
      "text/plain": [
       "<Figure size 432x288 with 1 Axes>"
      ]
     },
     "metadata": {
      "needs_background": "light"
     },
     "output_type": "display_data"
    },
    {
     "name": "stdout",
     "output_type": "stream",
     "text": [
      "\n",
      " ========== Test Errors ========== \n",
      "\n",
      "MSE on test data => 83.38489425547998\n",
      "R-squared on test data => 0.6456709786713835\n"
     ]
    },
    {
     "data": {
      "image/png": "[encoded data removed]",
      "text/plain": [
       "<Figure size 432x288 with 1 Axes>"
      ]
     },
     "metadata": {
      "needs_background": "light"
     },
     "output_type": "display_data"
    }
   ],
   "source": [
    "test_errors = showErrors(knn_model_2, X_train_w2v, y_train_w2v, X_test_w2v, y_test_w2v)"
   ]
  },
  {
   "cell_type": "markdown",
   "id": "a31f4a52-4085-4cda-8513-3602434ef138",
   "metadata": {
    "tags": []
   },
   "source": [
    "### Decision Tree Regressor"
   ]
  },
  {
   "cell_type": "code",
   "execution_count": 64,
   "id": "f3c11e85-c45d-400f-ad97-980247f9903d",
   "metadata": {},
   "outputs": [],
   "source": [
    "def objective(space):\n",
    "    '''objective function for hyper param tuning'''\n",
    "    # 3 fold cross validation\n",
    "    kf = KFold(n_splits=3)\n",
    "    mselosses = []\n",
    "    # k fold cross validation\n",
    "    for train_index, cv_index in kf.split(X_train_w2v):\n",
    "        # split input data\n",
    "        X_train, X_cv = X_train_w2v[train_index], X_train_w2v[cv_index]\n",
    "        # split output data\n",
    "        y_train, y_cv = y_train_w2v[train_index], y_train_w2v[cv_index]\n",
    "        # create DecisionTreeRegressor\n",
    "        model = DecisionTreeRegressor(max_depth=space['max_depth'], min_samples_split=space['min_samples_split'])\n",
    "        # train the model\n",
    "        model.fit(X_train, y_train)\n",
    "        cv_pred = model.predict(X_cv)\n",
    "        tempmseloss = mse(y_cv, cv_pred)\n",
    "        mselosses.append(tempmseloss)\n",
    "        \n",
    "    # calculate mse\n",
    "    mseloss = sum(mselosses)/len(mselosses)\n",
    "    # return params\n",
    "    return {'loss':mseloss, 'status': STATUS_OK, 'params': space }"
   ]
  },
  {
   "cell_type": "code",
   "execution_count": 68,
   "id": "7d81c671-f143-429c-a79e-9a6214d42099",
   "metadata": {},
   "outputs": [],
   "source": [
    "# search space for hyper parameter tuning\n",
    "space = {\n",
    "    \"max_depth\": hp.choice(\"max_depth\", [5, 7, 10, 15, 20, None]),\n",
    "    \"min_samples_split\": hp.choice(\"min_samples_split\", [2, 3, 5, 7])\n",
    "}"
   ]
  },
  {
   "cell_type": "code",
   "execution_count": 71,
   "id": "47c60618-65f2-41b8-98dd-e2f77ef41ad1",
   "metadata": {},
   "outputs": [
    {
     "name": "stdout",
     "output_type": "stream",
     "text": [
      "100%|███████| 300/300 [00:01<00:00, 158.19trial/s, best loss: 196.2500785714286]\n"
     ]
    }
   ],
   "source": [
    "# create trials\n",
    "trials = Trials()\n",
    "# minimise the objective function with max 300 trials\n",
    "best_param = fmin(fn=objective,\n",
    "            space=space,\n",
    "            algo=tpe.suggest,\n",
    "            max_evals=300,\n",
    "            trials=trials)"
   ]
  },
  {
   "cell_type": "code",
   "execution_count": 72,
   "id": "729e801a-1685-4597-9100-7ff01e882f77",
   "metadata": {},
   "outputs": [
    {
     "data": {
      "text/plain": [
       "{'max_depth': 2, 'min_samples_split': 2}"
      ]
     },
     "execution_count": 72,
     "metadata": {},
     "output_type": "execute_result"
    }
   ],
   "source": [
    "best_param"
   ]
  },
  {
   "cell_type": "code",
   "execution_count": 73,
   "id": "af05439c-7160-4820-88c2-7dbd9d3080c8",
   "metadata": {},
   "outputs": [],
   "source": [
    "dt_model_2 = DecisionTreeRegressor(max_depth=10, min_samples_split=5)"
   ]
  },
  {
   "cell_type": "code",
   "execution_count": 74,
   "id": "89eed2a0-bb52-460f-b3d7-08d65417274f",
   "metadata": {},
   "outputs": [
    {
     "data": {
      "text/plain": [
       "DecisionTreeRegressor(max_depth=10, min_samples_split=5)"
      ]
     },
     "execution_count": 74,
     "metadata": {},
     "output_type": "execute_result"
    }
   ],
   "source": [
    "dt_model_2.fit(X_train_w2v, y_train_w2v)"
   ]
  },
  {
   "cell_type": "code",
   "execution_count": 75,
   "id": "117bd2e4-d2c9-456a-bc13-1c9cddbedb79",
   "metadata": {},
   "outputs": [
    {
     "name": "stdout",
     "output_type": "stream",
     "text": [
      "\n",
      " ========== Train Errors ========== \n",
      "\n",
      "MSE on train data => 2.467142195767195\n",
      "R-squared on train data => 0.9905912058818893\n"
     ]
    },
    {
     "data": {
      "image/png": "[encoded data removed]",
      "text/plain": [
       "<Figure size 432x288 with 1 Axes>"
      ]
     },
     "metadata": {
      "needs_background": "light"
     },
     "output_type": "display_data"
    },
    {
     "name": "stdout",
     "output_type": "stream",
     "text": [
      "\n",
      " ========== Test Errors ========== \n",
      "\n",
      "MSE on test data => 389.3863184156379\n",
      "R-squared on test data => -0.6546267085287898\n"
     ]
    },
    {
     "data": {
      "image/png": "[encoded data removed]",
      "text/plain": [
       "<Figure size 432x288 with 1 Axes>"
      ]
     },
     "metadata": {
      "needs_background": "light"
     },
     "output_type": "display_data"
    }
   ],
   "source": [
    "test_errors = showErrors(dt_model_2, X_train_w2v, y_train_w2v, X_test_w2v, y_test_w2v)"
   ]
  },
  {
   "cell_type": "markdown",
   "id": "ca036bdf-43e7-4678-a6eb-aa51fba8aa4b",
   "metadata": {},
   "source": [
    "### Support Vector Regression (RBF Kernel)"
   ]
  },
  {
   "cell_type": "code",
   "execution_count": 76,
   "id": "48635eec-8d2e-4490-96f8-dc88d86a46cf",
   "metadata": {},
   "outputs": [],
   "source": [
    "def objective(space):\n",
    "    '''objective function for hyper param tuning'''\n",
    "    # 3 fold cross validation\n",
    "    kf = KFold(n_splits=3)\n",
    "    mselosses = []\n",
    "    # k fold cross validation\n",
    "    for train_index, cv_index in kf.split(X_train_w2v):\n",
    "        # split input data\n",
    "        X_train, X_cv = X_train_w2v[train_index], X_train_w2v[cv_index]\n",
    "        # split output data\n",
    "        y_train, y_cv = y_train_w2v[train_index], y_train_w2v[cv_index]\n",
    "        # create SVR RBF\n",
    "        model = SVR(C = space['c'])\n",
    "        # train the model\n",
    "        model.fit(X_train, y_train)\n",
    "        cv_pred = model.predict(X_cv)\n",
    "        tempmseloss = mse(y_cv, cv_pred)\n",
    "        mselosses.append(tempmseloss)\n",
    "        \n",
    "    # calculate mse\n",
    "    mseloss = sum(mselosses)/len(mselosses)\n",
    "    # return params\n",
    "    return {'loss':mseloss, 'status': STATUS_OK, 'params': space }"
   ]
  },
  {
   "cell_type": "code",
   "execution_count": 77,
   "id": "cb28ea84-5a33-4774-8f73-4a3b520c699b",
   "metadata": {},
   "outputs": [],
   "source": [
    "# search space for hyper parameter tuning\n",
    "space = {\n",
    "    # uniform distribution between 0.001 and 1000\n",
    "    \"c\": hp.quniform(\"c\", 0.001, 1000, 0.001)\n",
    "}"
   ]
  },
  {
   "cell_type": "code",
   "execution_count": 95,
   "id": "e0777733-77ba-4d30-8a75-063c10374ed7",
   "metadata": {},
   "outputs": [
    {
     "name": "stdout",
     "output_type": "stream",
     "text": [
      "100%|███████| 300/300 [00:02<00:00, 127.68trial/s, best loss: 86.75737114500494]\n"
     ]
    }
   ],
   "source": [
    "# create trials\n",
    "trials = Trials()\n",
    "# minimise the objective function with max 300 trials\n",
    "best_param = fmin(fn=objective,\n",
    "            space=space,\n",
    "            algo=tpe.suggest,\n",
    "            max_evals=300,\n",
    "            trials=trials)"
   ]
  },
  {
   "cell_type": "code",
   "execution_count": 96,
   "id": "acc779a8-14d0-4595-8629-6b49e63b34d5",
   "metadata": {},
   "outputs": [
    {
     "name": "stdout",
     "output_type": "stream",
     "text": [
      "Best Param :  {'c': 399.718}\n"
     ]
    }
   ],
   "source": [
    "print(\"Best Param : \", best_param)"
   ]
  },
  {
   "cell_type": "code",
   "execution_count": 125,
   "id": "a315d0b3-39c1-4c51-9599-056da3d2420d",
   "metadata": {},
   "outputs": [],
   "source": [
    "svr_model_rbf_2 = SVR(C = 399.718)"
   ]
  },
  {
   "cell_type": "code",
   "execution_count": 126,
   "id": "43601447-6380-4a45-a12e-7af139a9312f",
   "metadata": {},
   "outputs": [
    {
     "data": {
      "text/plain": [
       "SVR(C=399.718)"
      ]
     },
     "execution_count": 126,
     "metadata": {},
     "output_type": "execute_result"
    }
   ],
   "source": [
    "svr_model_rbf_2.fit(X_train_w2v, y_train_w2v)"
   ]
  },
  {
   "cell_type": "code",
   "execution_count": 99,
   "id": "ffd37876-745b-44a9-8310-37aeecb47de2",
   "metadata": {},
   "outputs": [
    {
     "name": "stdout",
     "output_type": "stream",
     "text": [
      "\n",
      " ========== Train Errors ========== \n",
      "\n",
      "MSE on train data => 0.010016108705929871\n",
      "R-squared on train data => 0.9999618021592592\n"
     ]
    },
    {
     "data": {
      "image/png": "[encoded data removed]",
      "text/plain": [
       "<Figure size 432x288 with 1 Axes>"
      ]
     },
     "metadata": {
      "needs_background": "light"
     },
     "output_type": "display_data"
    },
    {
     "name": "stdout",
     "output_type": "stream",
     "text": [
      "\n",
      " ========== Test Errors ========== \n",
      "\n",
      "MSE on test data => 53.84727230466907\n",
      "R-squared on test data => 0.7711857589161\n"
     ]
    },
    {
     "data": {
      "image/png": "[encoded data removed]",
      "text/plain": [
       "<Figure size 432x288 with 1 Axes>"
      ]
     },
     "metadata": {
      "needs_background": "light"
     },
     "output_type": "display_data"
    }
   ],
   "source": [
    "test_errors = showErrors(svr_model_rbf_2, X_train_w2v, y_train_w2v, X_test_w2v, y_test_w2v)"
   ]
  },
  {
   "cell_type": "markdown",
   "id": "8484b632-53cd-4949-a07d-c73ec5fe6f0e",
   "metadata": {},
   "source": [
    "### Support Vector Regression (Linear Kernel)"
   ]
  },
  {
   "cell_type": "code",
   "execution_count": 100,
   "id": "acfaa342-336a-49ce-8bb6-3bc1b81b502a",
   "metadata": {},
   "outputs": [],
   "source": [
    "def objective(space):\n",
    "    '''objective function for hyper param tuning'''\n",
    "    # 3 fold cross validation\n",
    "    kf = KFold(n_splits=3)\n",
    "    mselosses = []\n",
    "    # k fold cross validation\n",
    "    for train_index, cv_index in kf.split(X_train_w2v):\n",
    "        # split input data\n",
    "        X_train, X_cv = X_train_w2v[train_index], X_train_w2v[cv_index]\n",
    "        # split output data\n",
    "        y_train, y_cv = y_train_w2v[train_index], y_train_w2v[cv_index]\n",
    "        # create SVR Linear\n",
    "        model = SVR(kernel = 'linear', C = space['c'])\n",
    "        # train the model\n",
    "        model.fit(X_train, y_train)\n",
    "        cv_pred = model.predict(X_cv)\n",
    "        tempmseloss = mse(y_cv, cv_pred)\n",
    "        mselosses.append(tempmseloss)\n",
    "        \n",
    "    # calculate mse\n",
    "    mseloss = sum(mselosses)/len(mselosses)\n",
    "    # return params\n",
    "    return {'loss':mseloss, 'status': STATUS_OK, 'params': space }"
   ]
  },
  {
   "cell_type": "code",
   "execution_count": 101,
   "id": "33ff2887-4322-4965-9f46-5ee49ba3f480",
   "metadata": {},
   "outputs": [],
   "source": [
    "# search space for hyper parameter tuning\n",
    "space = {\n",
    "    # uniform distribution between 0.001 and 1000\n",
    "    \"c\": hp.quniform(\"c\", 0.001, 1000, 0.001)\n",
    "}"
   ]
  },
  {
   "cell_type": "code",
   "execution_count": 113,
   "id": "6ea55d5a-95b2-4d0b-aa3f-24ee93d32822",
   "metadata": {},
   "outputs": [
    {
     "name": "stdout",
     "output_type": "stream",
     "text": [
      "100%|███████| 300/300 [00:02<00:00, 111.46trial/s, best loss: 79.85641518783567]\n"
     ]
    }
   ],
   "source": [
    "# create trials\n",
    "trials = Trials()\n",
    "# minimise the objective function with max 300 trials\n",
    "best_param = fmin(fn=objective,\n",
    "            space=space,\n",
    "            algo=tpe.suggest,\n",
    "            max_evals=300,\n",
    "            trials=trials)"
   ]
  },
  {
   "cell_type": "code",
   "execution_count": 114,
   "id": "93b28c7e-6dc4-47ea-be17-d1b9533ad886",
   "metadata": {},
   "outputs": [
    {
     "name": "stdout",
     "output_type": "stream",
     "text": [
      "Best Param :  {'c': 385.101}\n"
     ]
    }
   ],
   "source": [
    "print(\"Best Param : \", best_param)"
   ]
  },
  {
   "cell_type": "code",
   "execution_count": 115,
   "id": "030f611e-8f3c-4f1f-aa67-ddedbe247a1f",
   "metadata": {},
   "outputs": [],
   "source": [
    "svr_model_linear_2 = SVR(kernel = 'linear', C = 385.101)"
   ]
  },
  {
   "cell_type": "code",
   "execution_count": 116,
   "id": "5822b8c8-dfc2-4aa1-b350-a625c8f5f384",
   "metadata": {},
   "outputs": [
    {
     "data": {
      "text/plain": [
       "SVR(C=385.101, kernel='linear')"
      ]
     },
     "execution_count": 116,
     "metadata": {},
     "output_type": "execute_result"
    }
   ],
   "source": [
    "svr_model_linear_2.fit(X_train_w2v, y_train_w2v)"
   ]
  },
  {
   "cell_type": "code",
   "execution_count": 117,
   "id": "6bbf1fa6-fc2a-4078-86bf-344c680d481a",
   "metadata": {},
   "outputs": [
    {
     "name": "stdout",
     "output_type": "stream",
     "text": [
      "\n",
      " ========== Train Errors ========== \n",
      "\n",
      "MSE on train data => 0.010019179585428466\n",
      "R-squared on train data => 0.9999617904480279\n"
     ]
    },
    {
     "data": {
      "image/png": "[encoded data removed]",
      "text/plain": [
       "<Figure size 432x288 with 1 Axes>"
      ]
     },
     "metadata": {
      "needs_background": "light"
     },
     "output_type": "display_data"
    },
    {
     "name": "stdout",
     "output_type": "stream",
     "text": [
      "\n",
      " ========== Test Errors ========== \n",
      "\n",
      "MSE on test data => 109.32267988255897\n",
      "R-squared on test data => 0.5354530515667945\n"
     ]
    },
    {
     "data": {
      "image/png": "[encoded data removed]",
      "text/plain": [
       "<Figure size 432x288 with 1 Axes>"
      ]
     },
     "metadata": {
      "needs_background": "light"
     },
     "output_type": "display_data"
    }
   ],
   "source": [
    "test_errors = showErrors(svr_model_linear_2, X_train_w2v, y_train_w2v, X_test_w2v, y_test_w2v)"
   ]
  },
  {
   "cell_type": "markdown",
   "id": "cd922e61-d5e3-4de3-b686-bcc45b37d21a",
   "metadata": {
    "tags": []
   },
   "source": [
    "### Random Forest Regressor"
   ]
  },
  {
   "cell_type": "code",
   "execution_count": 118,
   "id": "b2064533-a7ce-4599-b2fd-c942bf4e3d07",
   "metadata": {},
   "outputs": [],
   "source": [
    "def objective(space):\n",
    "    '''objective function for hyper param tuning'''\n",
    "    # 3 fold cross validation\n",
    "    kf = KFold(n_splits=3)\n",
    "    mselosses = []\n",
    "    # k fold cross validation\n",
    "    for train_index, cv_index in kf.split(X_train_w2v):\n",
    "        # split input data\n",
    "        X_train, X_cv = X_train_w2v[train_index], X_train_w2v[cv_index]\n",
    "        # split output data\n",
    "        y_train, y_cv = y_train_w2v[train_index], y_train_w2v[cv_index]\n",
    "        # create RandomForestRegressor\n",
    "        model = RandomForestRegressor(n_estimators = space['n_estimators'], \n",
    "                                      min_samples_split = space['min_samples_split'], \n",
    "                                      max_depth = space['max_depth'])\n",
    "        # train the model\n",
    "        model.fit(X_train, y_train)\n",
    "        cv_pred = model.predict(X_cv)\n",
    "        tempmseloss = mse(y_cv, cv_pred)\n",
    "        mselosses.append(tempmseloss)\n",
    "        \n",
    "    # calculate mse\n",
    "    mseloss = sum(mselosses)/len(mselosses)\n",
    "    # return params\n",
    "    return {'loss':mseloss, 'status': STATUS_OK, 'params': space }"
   ]
  },
  {
   "cell_type": "code",
   "execution_count": 119,
   "id": "7ef36203-3ffd-4693-8d76-bc5513058800",
   "metadata": {},
   "outputs": [],
   "source": [
    "# search space for hyper parameter tuning\n",
    "space = {\n",
    "    \"n_estimators\": hp.choice(\"n_estimators\", [50, 70, 100, 150]),\n",
    "    \"min_samples_split\": hp.choice(\"min_samples_split\", [2, 3, 5]),\n",
    "    \"max_depth\": hp.choice(\"max_depth\", [10, 15, 20])\n",
    "}"
   ]
  },
  {
   "cell_type": "code",
   "execution_count": 120,
   "id": "cbbc68f9-ec7a-4f8e-9ba6-1dbd8502b819",
   "metadata": {},
   "outputs": [
    {
     "name": "stdout",
     "output_type": "stream",
     "text": [
      "100%|███████| 300/300 [01:38<00:00,  3.03trial/s, best loss: 147.53673871752096]\n"
     ]
    }
   ],
   "source": [
    "# create trials\n",
    "trials = Trials()\n",
    "# minimise the objective function with max 300 trials\n",
    "best_param = fmin(fn=objective,\n",
    "            space=space,\n",
    "            algo=tpe.suggest,\n",
    "            max_evals=300,\n",
    "            trials=trials)"
   ]
  },
  {
   "cell_type": "code",
   "execution_count": 121,
   "id": "9e4635fa-48b0-4ef7-923d-56f083f5f5bb",
   "metadata": {},
   "outputs": [
    {
     "name": "stdout",
     "output_type": "stream",
     "text": [
      "Best Param :  {'max_depth': 2, 'min_samples_split': 2, 'n_estimators': 0}\n"
     ]
    }
   ],
   "source": [
    "print(\"Best Param : \", best_param)"
   ]
  },
  {
   "cell_type": "code",
   "execution_count": 122,
   "id": "652998f3-6b98-43aa-bfd4-79c459225649",
   "metadata": {},
   "outputs": [],
   "source": [
    "rf_model_2 = RandomForestRegressor(n_estimators = 50, min_samples_split = 5, max_depth = 20)"
   ]
  },
  {
   "cell_type": "code",
   "execution_count": 123,
   "id": "02a73794-4827-455a-b77d-5c3b5bc8da96",
   "metadata": {},
   "outputs": [
    {
     "data": {
      "text/plain": [
       "RandomForestRegressor(max_depth=20, min_samples_split=5, n_estimators=50)"
      ]
     },
     "execution_count": 123,
     "metadata": {},
     "output_type": "execute_result"
    }
   ],
   "source": [
    "rf_model_2.fit(X_train_w2v, y_train_w2v)"
   ]
  },
  {
   "cell_type": "code",
   "execution_count": 124,
   "id": "5261e8f1-d719-4fa0-9fd1-8757881f6173",
   "metadata": {},
   "outputs": [
    {
     "name": "stdout",
     "output_type": "stream",
     "text": [
      "\n",
      " ========== Train Errors ========== \n",
      "\n",
      "MSE on train data => 26.476714642231244\n",
      "R-squared on train data => 0.8990273209950692\n"
     ]
    },
    {
     "data": {
      "image/png": "[encoded data removed]",
      "text/plain": [
       "<Figure size 432x288 with 1 Axes>"
      ]
     },
     "metadata": {
      "needs_background": "light"
     },
     "output_type": "display_data"
    },
    {
     "name": "stdout",
     "output_type": "stream",
     "text": [
      "\n",
      " ========== Test Errors ========== \n",
      "\n",
      "MSE on test data => 113.13200407589028\n",
      "R-squared on test data => 0.5192660176273972\n"
     ]
    },
    {
     "data": {
      "image/png": "[encoded data removed]",
      "text/plain": [
       "<Figure size 432x288 with 1 Axes>"
      ]
     },
     "metadata": {
      "needs_background": "light"
     },
     "output_type": "display_data"
    }
   ],
   "source": [
    "test_errors = showErrors(rf_model_2, X_train_w2v, y_train_w2v, X_test_w2v, y_test_w2v)"
   ]
  },
  {
   "cell_type": "markdown",
   "id": "78a90439-fd79-4092-b52a-4952cf21c5cb",
   "metadata": {
    "tags": []
   },
   "source": [
    "### XGBoost Regressor"
   ]
  },
  {
   "cell_type": "code",
   "execution_count": 125,
   "id": "459703c5-7222-4125-8f45-db1993f04187",
   "metadata": {},
   "outputs": [],
   "source": [
    "def objective(space):\n",
    "    '''objective function for hyper param tuning'''\n",
    "    # 3 fold cross validation\n",
    "    kf = KFold(n_splits=3)\n",
    "    mselosses = []\n",
    "    # k fold cross validation\n",
    "    for train_index, cv_index in kf.split(X_train_w2v):\n",
    "        # split input data\n",
    "        X_train, X_cv = X_train_w2v[train_index], X_train_w2v[cv_index]\n",
    "        # split output data\n",
    "        y_train, y_cv = y_train_w2v[train_index], y_train_w2v[cv_index]\n",
    "        # create XGBoost Regressor\n",
    "        model = xgb.XGBRegressor(\n",
    "                    objective = \"reg:squarederror\",\n",
    "                    # eval_metric = \"mse\",\n",
    "                    booster = \"gbtree\",\n",
    "                    tree_method = \"hist\",\n",
    "                    grow_policy = \"lossguide\",\n",
    "                    subsample = .8,\n",
    "                    colsample_bytree = .5,\n",
    "                    n_estimators = space['n_estimators'], \n",
    "                    max_depth = space['max_depth'],\n",
    "                    learning_rate = space['learning_rate'],\n",
    "                    reg_lambda = space['reg_lambda'],\n",
    "                )\n",
    "        # train the model\n",
    "        model.fit(X_train, y_train)\n",
    "        cv_pred = model.predict(X_cv)\n",
    "        tempmseloss = mse(y_cv, cv_pred)\n",
    "        mselosses.append(tempmseloss)\n",
    "        \n",
    "    # calculate mse\n",
    "    mseloss = sum(mselosses)/len(mselosses)\n",
    "    # return params\n",
    "    return {'loss':mseloss, 'status': STATUS_OK, 'params': space }"
   ]
  },
  {
   "cell_type": "code",
   "execution_count": 126,
   "id": "36325b57-d9bb-4e11-b701-e24305c73d27",
   "metadata": {},
   "outputs": [],
   "source": [
    "# search space for hyper parameter tuning\n",
    "space = {\n",
    "    'n_estimators' : hp.choice('n_estimators', [50, 70, 100, 150]),\n",
    "    'max_depth' : hp.choice('max_depth', [2, 3, 5, 7]),\n",
    "    \"learning_rate\": hp.quniform(\"learning_rate\", 0.01, 1, 0.01),\n",
    "    \"reg_lambda\": hp.quniform(\"reg_lambda\", 0.001, 1000, 0.001)\n",
    "}"
   ]
  },
  {
   "cell_type": "code",
   "execution_count": 127,
   "id": "8feb4994-ff62-4df6-a1b8-313db71abd40",
   "metadata": {},
   "outputs": [
    {
     "name": "stdout",
     "output_type": "stream",
     "text": [
      "100%|███████| 300/300 [01:08<00:00,  4.36trial/s, best loss: 164.24896933089926]\n"
     ]
    }
   ],
   "source": [
    "# create trials\n",
    "trials = Trials()\n",
    "# minimise the objective function with max 300 trials\n",
    "best_param = fmin(fn=objective,\n",
    "            space=space,\n",
    "            algo=tpe.suggest,\n",
    "            max_evals=300,\n",
    "            trials=trials)"
   ]
  },
  {
   "cell_type": "code",
   "execution_count": 128,
   "id": "9cba36aa-04f3-43a0-a440-93b8a5623fb2",
   "metadata": {},
   "outputs": [
    {
     "name": "stdout",
     "output_type": "stream",
     "text": [
      "Best Param :  {'learning_rate': 0.04, 'max_depth': 0, 'n_estimators': 2, 'reg_lambda': 0.22}\n"
     ]
    }
   ],
   "source": [
    "print(\"Best Param : \", best_param)"
   ]
  },
  {
   "cell_type": "code",
   "execution_count": 129,
   "id": "81f18ff4-bb72-4bd8-8c08-3c0503f163d5",
   "metadata": {},
   "outputs": [],
   "source": [
    "xgb_model = xgb.XGBRegressor(\n",
    "                    objective = \"reg:squarederror\",\n",
    "                    booster = \"gbtree\",\n",
    "                    tree_method = \"hist\",\n",
    "                    grow_policy = \"lossguide\",\n",
    "                    subsample = .8,\n",
    "                    colsample_bytree = .5,\n",
    "                    n_estimators = 100, \n",
    "                    max_depth = 2,\n",
    "                    learning_rate = 0.04,\n",
    "                    reg_lambda = 0.22\n",
    "                )"
   ]
  },
  {
   "cell_type": "code",
   "execution_count": 130,
   "id": "6bb41d6f-1d31-45d4-b131-046995193927",
   "metadata": {},
   "outputs": [
    {
     "data": {
      "text/plain": [
       "XGBRegressor(base_score=0.5, booster='gbtree', colsample_bylevel=1,\n",
       "             colsample_bynode=1, colsample_bytree=0.5, gamma=0, gpu_id=-1,\n",
       "             grow_policy='lossguide', importance_type='gain',\n",
       "             interaction_constraints='', learning_rate=0.04, max_delta_step=0,\n",
       "             max_depth=2, min_child_weight=1, missing=nan,\n",
       "             monotone_constraints='()', n_estimators=100, n_jobs=8,\n",
       "             num_parallel_tree=1, random_state=0, reg_alpha=0, reg_lambda=0.22,\n",
       "             scale_pos_weight=1, subsample=0.8, tree_method='hist',\n",
       "             validate_parameters=1, verbosity=None)"
      ]
     },
     "execution_count": 130,
     "metadata": {},
     "output_type": "execute_result"
    }
   ],
   "source": [
    "xgb_model.fit(X_train_w2v, y_train_w2v)"
   ]
  },
  {
   "cell_type": "code",
   "execution_count": 131,
   "id": "90db2d02-7bde-453a-ba42-6efbea7b669b",
   "metadata": {},
   "outputs": [
    {
     "name": "stdout",
     "output_type": "stream",
     "text": [
      "\n",
      " ========== Train Errors ========== \n",
      "\n",
      "MSE on train data => 9.347684281530256\n",
      "R-squared on train data => 0.9643512899106862\n"
     ]
    },
    {
     "data": {
      "image/png": "[encoded data removed]",
      "text/plain": [
       "<Figure size 432x288 with 1 Axes>"
      ]
     },
     "metadata": {
      "needs_background": "light"
     },
     "output_type": "display_data"
    },
    {
     "name": "stdout",
     "output_type": "stream",
     "text": [
      "\n",
      " ========== Test Errors ========== \n",
      "\n",
      "MSE on test data => 109.52429491726474\n",
      "R-squared on test data => 0.5345963249549748\n"
     ]
    },
    {
     "data": {
      "image/png": "[encoded data removed]",
      "text/plain": [
       "<Figure size 432x288 with 1 Axes>"
      ]
     },
     "metadata": {
      "needs_background": "light"
     },
     "output_type": "display_data"
    }
   ],
   "source": [
    "test_errors = showErrors(xgb_model, X_train_w2v, y_train_w2v, X_test_w2v, y_test_w2v)"
   ]
  },
  {
   "cell_type": "markdown",
   "id": "bcd3703c-0da9-497f-bcf0-9ede844401ee",
   "metadata": {},
   "source": [
    "<br><b style=\"color:#ff6600\"><u>Summary</u></b><br>\n",
    "For L2 Linear Regerssion. \n",
    "<ul>\n",
    "<li> The best alpha is 8.287. </li>\n",
    "<li> The train mse and r-squared are 4.4046 and 0.9832 respectively. </li>\n",
    "<li> The test mse and r-squared are 59.5001 and 0.7472 respectively. </li>\n",
    "</ul>\n",
    "For KNN Regerssion,\n",
    "<ul>\n",
    "<li> The best params are n_neighbors=7, metric='cosine' </li>\n",
    "<li> The train mse and r-squared are 105.3122 and 0.5984 respectively. </li>\n",
    "<li> The test mse and r-squared are 83.3849 and 0.6457 respectively. </li>\n",
    "</ul>\n",
    "For Decision Tree Regressor,\n",
    "<ul>\n",
    "<li> The best params are max_depth=10, min_samples_split=5 </li>\n",
    "<li> The train mse and r-squared are 2.4671 and 0.9906 respectively. </li>\n",
    "<li> The test mse and r-squared are 389.3863 and -0.6546 respectively. </li>\n",
    "</ul>\n",
    "For Support Vector Regression (RBF Kernel),\n",
    "<ul>\n",
    "<li> The best param is C = 399.718 </li>\n",
    "<li> The train mse and r-squared are 0.01 and 1 respectively. </li>\n",
    "<li> The test mse and r-squared are 53.8473 and 0.7712 respectively. </li>\n",
    "</ul>\n",
    "For Support Vector Regression (Linear Kernel),\n",
    "<ul>\n",
    "<li> The best param is C = 385.101 </li>\n",
    "<li> The train mse and r-squared are 0.01 and 1 respectively. </li>\n",
    "<li> The test mse and r-squared are 109.3227 and 0.5355 respectively. </li>\n",
    "</ul>\n",
    "For Random Forest Regressor,\n",
    "<ul><li> The best params are n_estimators = 50, min_samples_split = 5, max_depth = 20 </li>\n",
    "<li> The train mse and r-squared are 26.4767 and 0.899 respectively. </li>\n",
    "<li> The test mse and r-squared are 113.132 and 0.5193 respectively. </li>\n",
    "</ul>\n",
    "For XGBoost Regressor,\n",
    "<ul><li> The best params are n_estimators = 100, max_depth = 2,learning_rate = 0.04, reg_lambda = 0.22 </li>\n",
    "<li> The train mse and r-squared are 9.3477 and 0.9644 respectively. </li>\n",
    "<li> The test mse and r-squared are 109.5243 and 0.5346 respectively. </li>\n",
    "</ul>\n",
    "The RBF kernel based SVR have the lowest mse for test data. But when we compare train and test mse for it then it is clear that the model is overfitting a lot.\n",
    "<br>\n",
    "<b>The Linear regression will be the best choice among these models. Since it has lower mse and also it is not overfitting that much.</b>"
   ]
  },
  {
   "cell_type": "markdown",
   "id": "6955cab8-f6e4-42a1-8d84-0566193ee8e4",
   "metadata": {},
   "source": [
    "# Performances"
   ]
  },
  {
   "cell_type": "code",
   "execution_count": 153,
   "id": "d7c17918-7b77-4a41-9d65-0e3351b95ad8",
   "metadata": {},
   "outputs": [
    {
     "name": "stdout",
     "output_type": "stream",
     "text": [
      "Performance of models based on BoW features\n",
      "+-------------------------------------------+----------+-----------+\n",
      "| Model                                     | MSE      | R-squared |\n",
      "+-------------------------------------------+----------+-----------+\n",
      "| Support Vector Regression (Linear Kernel) | 49.5258  | 0.7895    |\n",
      "| Linear Regression (L2 Regularizer)        | 52.1386  | 0.7784    |\n",
      "| Support Vector Regression (RBF Kernel)    | 90.842   | 0.614     |\n",
      "| KNN Regression                            | 113.766  | 0.5166    |\n",
      "| Random Forest Regressor                   | 125.082  | 0.4685    |\n",
      "| XGBoost Regressor                         | 133.6595 | 0.432     |\n",
      "| Decision Tree Regressor                   | 164.5762 | 0.3006    |\n",
      "+-------------------------------------------+----------+-----------+\n"
     ]
    }
   ],
   "source": [
    "bowModelsTable = PrettyTable([\"Model\", \"MSE\", \"R-squared\"], align='l')\n",
    "bowModelsTable.add_row([\"Support Vector Regression (Linear Kernel)\", \"49.5258\", \"0.7895\"])\n",
    "bowModelsTable.add_row([\"Linear Regression (L2 Regularizer)\", \"52.1386\", \"0.7784\"])\n",
    "bowModelsTable.add_row([\"Support Vector Regression (RBF Kernel)\", \"90.842\", \"0.614\"])\n",
    "bowModelsTable.add_row([\"KNN Regression\", \"113.766\", \"0.5166\"])\n",
    "bowModelsTable.add_row([\"Random Forest Regressor\", \"125.082\", \"0.4685\"])\n",
    "bowModelsTable.add_row([\"XGBoost Regressor\", \"133.6595\", \"0.432\"])\n",
    "bowModelsTable.add_row([\"Decision Tree Regressor\", \"164.5762\", \"0.3006\"])\n",
    "print('Performance of models based on BoW features')\n",
    "print(bowModelsTable)"
   ]
  },
  {
   "cell_type": "code",
   "execution_count": 154,
   "id": "6b913eb7-418a-4e8d-bdd8-54544dd308b4",
   "metadata": {},
   "outputs": [
    {
     "name": "stdout",
     "output_type": "stream",
     "text": [
      "Performance of models based on average word2vec features\n",
      "+-------------------------------------------+----------+-----------+\n",
      "| Model                                     | MSE      | R-squared |\n",
      "+-------------------------------------------+----------+-----------+\n",
      "| Support Vector Regression (RBF Kernel)    | 53.8473  | 0.7712    |\n",
      "| Linear Regression (L2 Regularizer)        | 59.5001  | 0.7472    |\n",
      "| KNN Regression                            | 83.3849  | 0.6457    |\n",
      "| Support Vector Regression (Linear Kernel) | 109.3227 | 0.5355    |\n",
      "| XGBoost Regressor                         | 109.524  | 0.5346    |\n",
      "| Random Forest Regressor                   | 113.132  | 0.5193    |\n",
      "| Decision Tree Regressor                   | 389.3863 | -0.6546   |\n",
      "+-------------------------------------------+----------+-----------+\n"
     ]
    }
   ],
   "source": [
    "w2vModelsTable = PrettyTable([\"Model\", \"MSE\", \"R-squared\"], align='l')\n",
    "w2vModelsTable.add_row([\"Support Vector Regression (RBF Kernel)\", \"53.8473\", \"0.7712\"])\n",
    "w2vModelsTable.add_row([\"Linear Regression (L2 Regularizer)\", \"59.5001\", \"0.7472\"])\n",
    "w2vModelsTable.add_row([\"KNN Regression\", \"83.3849\", \"0.6457\"])\n",
    "w2vModelsTable.add_row([\"Support Vector Regression (Linear Kernel)\", \"109.3227\", \"0.5355\"])\n",
    "w2vModelsTable.add_row([\"XGBoost Regressor\", \"109.524\", \"0.5346\"])\n",
    "w2vModelsTable.add_row([\"Random Forest Regressor\", \"113.132\", \"0.5193\"])\n",
    "w2vModelsTable.add_row([\"Decision Tree Regressor\", \"389.3863\", \"-0.6546\"])\n",
    "print('Performance of models based on average word2vec features')\n",
    "print(w2vModelsTable)"
   ]
  },
  {
   "cell_type": "code",
   "execution_count": 70,
   "id": "b4d297c2-3512-4558-b066-7dddc47e61bd",
   "metadata": {},
   "outputs": [
    {
     "data": {
      "text/plain": [
       "['svr_model_linear.joblib']"
      ]
     },
     "execution_count": 70,
     "metadata": {},
     "output_type": "execute_result"
    }
   ],
   "source": [
    "# #save the best model\n",
    "# dump(svr_model_linear, 'svr_model_linear.joblib')"
   ]
  },
  {
   "cell_type": "code",
   "execution_count": 155,
   "id": "d338a634-3a48-4f39-ba09-61fc4f71a6f1",
   "metadata": {},
   "outputs": [
    {
     "data": {
      "text/plain": [
       "['lr_model_2.joblib']"
      ]
     },
     "execution_count": 155,
     "metadata": {},
     "output_type": "execute_result"
    }
   ],
   "source": [
    "# #save the best model\n",
    "# dump(lr_model_2, 'lr_model_2.joblib')"
   ]
  },
  {
   "cell_type": "markdown",
   "id": "5ed9381e-006c-4c7b-a7d4-14416158ab4f",
   "metadata": {},
   "source": [
    "<br><b style=\"color:#ff6600\"><u>Summary</u></b><br>\n",
    "Here I have displayed the mse and r-squared error for test data.<br>\n",
    "And from above stats it is clear that the Support Vector Regression (Linear Kernel) model based on BoW feature is performing the best.<br>\n",
    "The top 3 models based on MSE on test data are,\n",
    "* Support Vector Regression (Linear Kernel) model based on BoW feature\n",
    "* Linear Regression (L2 Regularizer) model based on BoW feature\n",
    "* Support Vector Regression (RBF Kernel) model based on Average Word2Vec feature"
   ]
  },
  {
   "cell_type": "markdown",
   "id": "4fe48e9f-4561-4235-8cc5-d005175d0b10",
   "metadata": {},
   "source": [
    "The worst performing models are Decision Tree Regressor models."
   ]
  },
  {
   "cell_type": "markdown",
   "id": "48d68a8d-c603-4a01-8ae4-3a276ad3275c",
   "metadata": {},
   "source": [
    "# Stacking Ensemble (stack of best models)"
   ]
  },
  {
   "cell_type": "code",
   "execution_count": 58,
   "id": "e6e5a48d-4087-41f8-be1d-774efd7ed6d5",
   "metadata": {},
   "outputs": [],
   "source": [
    "X_ensemble_train = pd.DataFrame({'svr_linear_bow':svr_model_linear.predict(X_train_bow), \n",
    "                                'linear_reg_w2v':lr_model_2.predict(X_train_w2v)})"
   ]
  },
  {
   "cell_type": "code",
   "execution_count": 59,
   "id": "bb86fc2a-8d94-42c0-9b1f-140903caab3f",
   "metadata": {},
   "outputs": [],
   "source": [
    "X_ensemble_test = pd.DataFrame({'svr_linear_bow':svr_model_linear.predict(X_test_bow), \n",
    "                                'linear_reg_w2v':lr_model_2.predict(X_test_w2v)})"
   ]
  },
  {
   "cell_type": "code",
   "execution_count": 60,
   "id": "5efb371f-e33d-4038-a6f0-1aefb70fc8c3",
   "metadata": {},
   "outputs": [],
   "source": [
    "y_ensemble_train = y_train_bow"
   ]
  },
  {
   "cell_type": "code",
   "execution_count": 61,
   "id": "9370a541-36c6-4bfd-8846-eb73eb9d166b",
   "metadata": {},
   "outputs": [],
   "source": [
    "y_ensemble_test = y_test_bow"
   ]
  },
  {
   "cell_type": "code",
   "execution_count": 62,
   "id": "9e19f7fa-0f3b-4b74-88d0-399ca075d090",
   "metadata": {},
   "outputs": [
    {
     "data": {
      "text/html": [
       "<div>\n",
       "<style scoped>\n",
       "    .dataframe tbody tr th:only-of-type {\n",
       "        vertical-align: middle;\n",
       "    }\n",
       "\n",
       "    .dataframe tbody tr th {\n",
       "        vertical-align: top;\n",
       "    }\n",
       "\n",
       "    .dataframe thead th {\n",
       "        text-align: right;\n",
       "    }\n",
       "</style>\n",
       "<table border=\"1\" class=\"dataframe\">\n",
       "  <thead>\n",
       "    <tr style=\"text-align: right;\">\n",
       "      <th></th>\n",
       "      <th>svr_linear_bow</th>\n",
       "      <th>linear_reg_w2v</th>\n",
       "    </tr>\n",
       "  </thead>\n",
       "  <tbody>\n",
       "    <tr>\n",
       "      <th>0</th>\n",
       "      <td>40.528492</td>\n",
       "      <td>47.252653</td>\n",
       "    </tr>\n",
       "    <tr>\n",
       "      <th>1</th>\n",
       "      <td>52.662565</td>\n",
       "      <td>52.413105</td>\n",
       "    </tr>\n",
       "    <tr>\n",
       "      <th>2</th>\n",
       "      <td>47.162234</td>\n",
       "      <td>47.273207</td>\n",
       "    </tr>\n",
       "    <tr>\n",
       "      <th>3</th>\n",
       "      <td>46.980086</td>\n",
       "      <td>44.976880</td>\n",
       "    </tr>\n",
       "    <tr>\n",
       "      <th>4</th>\n",
       "      <td>37.320154</td>\n",
       "      <td>37.965770</td>\n",
       "    </tr>\n",
       "    <tr>\n",
       "      <th>...</th>\n",
       "      <td>...</td>\n",
       "      <td>...</td>\n",
       "    </tr>\n",
       "    <tr>\n",
       "      <th>58</th>\n",
       "      <td>47.409660</td>\n",
       "      <td>47.340348</td>\n",
       "    </tr>\n",
       "    <tr>\n",
       "      <th>59</th>\n",
       "      <td>6.559540</td>\n",
       "      <td>6.057366</td>\n",
       "    </tr>\n",
       "    <tr>\n",
       "      <th>60</th>\n",
       "      <td>53.759593</td>\n",
       "      <td>53.784499</td>\n",
       "    </tr>\n",
       "    <tr>\n",
       "      <th>61</th>\n",
       "      <td>51.150213</td>\n",
       "      <td>51.902363</td>\n",
       "    </tr>\n",
       "    <tr>\n",
       "      <th>62</th>\n",
       "      <td>60.009455</td>\n",
       "      <td>56.939077</td>\n",
       "    </tr>\n",
       "  </tbody>\n",
       "</table>\n",
       "<p>63 rows × 2 columns</p>\n",
       "</div>"
      ],
      "text/plain": [
       "    svr_linear_bow  linear_reg_w2v\n",
       "0        40.528492       47.252653\n",
       "1        52.662565       52.413105\n",
       "2        47.162234       47.273207\n",
       "3        46.980086       44.976880\n",
       "4        37.320154       37.965770\n",
       "..             ...             ...\n",
       "58       47.409660       47.340348\n",
       "59        6.559540        6.057366\n",
       "60       53.759593       53.784499\n",
       "61       51.150213       51.902363\n",
       "62       60.009455       56.939077\n",
       "\n",
       "[63 rows x 2 columns]"
      ]
     },
     "execution_count": 62,
     "metadata": {},
     "output_type": "execute_result"
    }
   ],
   "source": [
    "X_ensemble_train"
   ]
  },
  {
   "cell_type": "markdown",
   "id": "91482bc4-07ec-45c3-a1ca-374dcf201780",
   "metadata": {},
   "source": [
    "<br><b style=\"color:#ff6600\"><u>Summary</u></b><br>\n",
    "I was not much impressed with the result. So I though can we somehow combine best of both the features to create a better model.<br>\n",
    "This reminded me of stacking type ensemble. So I chose following models for level-0 of stacking, \n",
    "* Support Vector Regression (Linear Kernel) model based on BoW features\n",
    "* Linear Regression (L2 Regularized) model based on Word2Vec features"
   ]
  },
  {
   "cell_type": "markdown",
   "id": "8b399dfe-fd09-44fe-92c7-1884bbedbf78",
   "metadata": {},
   "source": [
    "## Preprocessing"
   ]
  },
  {
   "cell_type": "code",
   "execution_count": 63,
   "id": "e42734f2-afc1-4784-9088-e3dd142a0651",
   "metadata": {},
   "outputs": [],
   "source": [
    "# mean centering, variance scaling\n",
    "scaler = StandardScaler()"
   ]
  },
  {
   "cell_type": "code",
   "execution_count": 64,
   "id": "f6fd1b75-614e-4ad7-97fc-b7a4ddb7057f",
   "metadata": {},
   "outputs": [
    {
     "data": {
      "text/plain": [
       "StandardScaler()"
      ]
     },
     "execution_count": 64,
     "metadata": {},
     "output_type": "execute_result"
    }
   ],
   "source": [
    "# getting mean and variance\n",
    "scaler.fit(X_ensemble_train)"
   ]
  },
  {
   "cell_type": "code",
   "execution_count": 65,
   "id": "1267c5c0-3122-4c44-a3d0-a0a986849909",
   "metadata": {},
   "outputs": [],
   "source": [
    "# standardizing train data\n",
    "X_ensemble_train = scaler.transform(X_ensemble_train)"
   ]
  },
  {
   "cell_type": "code",
   "execution_count": 66,
   "id": "9ad309be-3bab-4687-bf5c-f37ab4ec43ec",
   "metadata": {
    "tags": []
   },
   "outputs": [],
   "source": [
    "# standardizing test data\n",
    "X_ensemble_test = scaler.transform(X_ensemble_test)"
   ]
  },
  {
   "cell_type": "code",
   "execution_count": 122,
   "id": "f1330ad5-17db-42b6-b6f9-afc62e4acf52",
   "metadata": {},
   "outputs": [],
   "source": [
    "# # save all the data\n",
    "# with open('X_train_ensemble.npy', 'wb') as f:\n",
    "#     np.save(f, X_ensemble_train, allow_pickle=True)\n",
    "# with open('X_test_ensemble.npy', 'wb') as f:\n",
    "#     np.save(f, X_ensemble_test, allow_pickle=True)\n",
    "# with open('y_train_ensemble.npy', 'wb') as f:\n",
    "#     np.save(f, y_ensemble_train, allow_pickle=True)\n",
    "# with open('y_test_ensemble.npy', 'wb') as f:\n",
    "#     np.save(f, y_ensemble_test, allow_pickle=True)"
   ]
  },
  {
   "cell_type": "markdown",
   "id": "4195ab49-3668-4dfa-88f7-c87a56fb5314",
   "metadata": {},
   "source": [
    "<br><b style=\"color:#ff6600\"><u>Summary</u></b><br>\n",
    "I have done similar preprocessing as above. I have done mean centering and variance scaling."
   ]
  },
  {
   "cell_type": "markdown",
   "id": "6bce4b07-8811-4d9a-9520-5d7ecd631b60",
   "metadata": {},
   "source": [
    "## Finding the Meta model"
   ]
  },
  {
   "cell_type": "markdown",
   "id": "0f1fe707-ee88-4b6f-a3f5-41d9440b21d2",
   "metadata": {},
   "source": [
    "### Linear Regression"
   ]
  },
  {
   "cell_type": "code",
   "execution_count": 67,
   "id": "0f6108b0-f785-4804-91e6-056bf4e0c7ba",
   "metadata": {},
   "outputs": [],
   "source": [
    "def objective(space):\n",
    "    '''objective function for hyper param tuning'''\n",
    "    # 3 fold cross validation\n",
    "    kf = KFold(n_splits=3)\n",
    "    mselosses = []\n",
    "    # k fold cross validation\n",
    "    for train_index, cv_index in kf.split(X_ensemble_train):\n",
    "        # split input data\n",
    "        X_train, X_cv = X_ensemble_train[train_index], X_ensemble_train[cv_index]\n",
    "        # split output data\n",
    "        y_train, y_cv = y_ensemble_train[train_index], y_ensemble_train[cv_index]\n",
    "        # create Linear Regression model with l2 regularizer\n",
    "        model = Ridge(alpha = space['alpha'], max_iter=3000)\n",
    "        # train the model\n",
    "        model.fit(X_train, y_train)\n",
    "        cv_pred = model.predict(X_cv)\n",
    "        tempmseloss = mse(y_cv, cv_pred)\n",
    "        mselosses.append(tempmseloss)\n",
    "        \n",
    "    # calculate mse\n",
    "    mseloss = sum(mselosses)/len(mselosses)\n",
    "    # return params\n",
    "    return {'loss':mseloss, 'status': STATUS_OK, 'params': space }"
   ]
  },
  {
   "cell_type": "code",
   "execution_count": 68,
   "id": "1df27ab6-d15c-4511-a878-af129ffa7d2f",
   "metadata": {},
   "outputs": [],
   "source": [
    "# search space for hyper parameter tuning\n",
    "space = {\n",
    "    # uniform distribution between 0.001 and 1000\n",
    "    \"alpha\": hp.quniform(\"alpha\", 0.001, 1000, 0.001)\n",
    "}"
   ]
  },
  {
   "cell_type": "code",
   "execution_count": 69,
   "id": "df9b0f7a-55f6-46f0-aab4-54b473da873f",
   "metadata": {},
   "outputs": [
    {
     "name": "stdout",
     "output_type": "stream",
     "text": [
      "100%|███████| 300/300 [00:02<00:00, 142.73trial/s, best loss: 2.317218645632346]\n"
     ]
    }
   ],
   "source": [
    "# create trials\n",
    "trials = Trials()\n",
    "# minimise the objective function with max 300 trials\n",
    "best_param = fmin(fn=objective,\n",
    "            space=space,\n",
    "            algo=tpe.suggest,\n",
    "            max_evals=300,\n",
    "            trials=trials)"
   ]
  },
  {
   "cell_type": "code",
   "execution_count": 70,
   "id": "b9bbbc8a-962e-442f-b3eb-6e0d79278b18",
   "metadata": {},
   "outputs": [
    {
     "name": "stdout",
     "output_type": "stream",
     "text": [
      "Best Param :  {'alpha': 0.068}\n"
     ]
    }
   ],
   "source": [
    "print(\"Best Param : \", best_param)"
   ]
  },
  {
   "cell_type": "code",
   "execution_count": 71,
   "id": "d8db878a-0e06-4887-a8f9-6366ae6e695a",
   "metadata": {},
   "outputs": [
    {
     "data": {
      "text/plain": [
       "Ridge(alpha=0.068, max_iter=3000)"
      ]
     },
     "execution_count": 71,
     "metadata": {},
     "output_type": "execute_result"
    }
   ],
   "source": [
    "# create l2 linear regerssion model\n",
    "lr_model_meta = Ridge(alpha = 0.068, max_iter=3000)\n",
    "# fit model on train data\n",
    "lr_model_meta.fit(X_ensemble_train, y_ensemble_train)"
   ]
  },
  {
   "cell_type": "code",
   "execution_count": 72,
   "id": "5e9a0959-aa25-4258-839f-78d7dc215bfb",
   "metadata": {},
   "outputs": [
    {
     "name": "stdout",
     "output_type": "stream",
     "text": [
      "\n",
      " ========== Train Errors ========== \n",
      "\n",
      "MSE on train data => 2.1756917243545892\n",
      "R-squared on train data => 0.9917026932885951\n"
     ]
    },
    {
     "data": {
      "image/png": "[encoded data removed]",
      "text/plain": [
       "<Figure size 432x288 with 1 Axes>"
      ]
     },
     "metadata": {
      "needs_background": "light"
     },
     "output_type": "display_data"
    },
    {
     "name": "stdout",
     "output_type": "stream",
     "text": [
      "\n",
      " ========== Test Errors ========== \n",
      "\n",
      "MSE on test data => 33.83411497884591\n",
      "R-squared on test data => 0.85622804999616\n"
     ]
    },
    {
     "data": {
      "image/png": "[encoded data removed]",
      "text/plain": [
       "<Figure size 432x288 with 1 Axes>"
      ]
     },
     "metadata": {
      "needs_background": "light"
     },
     "output_type": "display_data"
    }
   ],
   "source": [
    "test_errors = showErrors(lr_model_meta, X_ensemble_train, y_ensemble_train, X_ensemble_test, y_ensemble_test)"
   ]
  },
  {
   "cell_type": "markdown",
   "id": "b3f1b6e3-9d4e-4066-a050-dcfd14a3067f",
   "metadata": {
    "tags": []
   },
   "source": [
    "### KNN Regression"
   ]
  },
  {
   "cell_type": "code",
   "execution_count": 73,
   "id": "06ae6701-e557-4248-bbc9-4900f310fd63",
   "metadata": {},
   "outputs": [],
   "source": [
    "def objective(space):\n",
    "    '''objective function for hyper param tuning'''\n",
    "    # 3 fold cross validation\n",
    "    kf = KFold(n_splits=3)\n",
    "    mselosses = []\n",
    "    # k fold cross validation\n",
    "    for train_index, cv_index in kf.split(X_ensemble_train):\n",
    "        # split input data\n",
    "        X_train, X_cv = X_ensemble_train[train_index], X_ensemble_train[cv_index]\n",
    "        # split output data\n",
    "        y_train, y_cv = y_ensemble_train[train_index], y_ensemble_train[cv_index]\n",
    "        model = KNeighborsRegressor(n_neighbors=space['n_neighbors'], metric=space['metric'])\n",
    "        # train the model\n",
    "        model.fit(X_train, y_train)\n",
    "        cv_pred = model.predict(X_cv)\n",
    "        tempmseloss = mse(y_cv, cv_pred)\n",
    "        mselosses.append(tempmseloss)\n",
    "        \n",
    "    # calculate mse\n",
    "    mseloss = sum(mselosses)/len(mselosses)\n",
    "    # return params\n",
    "    return {'loss':mseloss, 'status': STATUS_OK, 'params': space }"
   ]
  },
  {
   "cell_type": "code",
   "execution_count": 81,
   "id": "707753a6-1eab-4649-80b9-1d54e4819384",
   "metadata": {},
   "outputs": [],
   "source": [
    "# search space for hyper parameter tuning\n",
    "space = {\n",
    "    \"n_neighbors\": hp.choice(\"n_neighbors\", [2, 3, 5]),\n",
    "    \"metric\": hp.choice(\"metric\", ['euclidean', 'cosine'])\n",
    "}"
   ]
  },
  {
   "cell_type": "code",
   "execution_count": 82,
   "id": "5751c340-a517-4a4a-b4fe-389a4a698003",
   "metadata": {},
   "outputs": [
    {
     "name": "stdout",
     "output_type": "stream",
     "text": [
      "100%|███████| 100/100 [00:00<00:00, 244.53trial/s, best loss: 5.332197222222221]\n"
     ]
    }
   ],
   "source": [
    "# create trials\n",
    "trials = Trials()\n",
    "# minimise the objective function with max 300 trials\n",
    "best_param = fmin(fn=objective,\n",
    "            space=space,\n",
    "            algo=tpe.suggest,\n",
    "            max_evals=100,\n",
    "            trials=trials)"
   ]
  },
  {
   "cell_type": "code",
   "execution_count": 83,
   "id": "6b2743d9-01d5-42df-b78d-da2c2d120cce",
   "metadata": {},
   "outputs": [
    {
     "name": "stdout",
     "output_type": "stream",
     "text": [
      "{'metric': 0, 'n_neighbors': 0}\n"
     ]
    }
   ],
   "source": [
    "print(best_param)"
   ]
  },
  {
   "cell_type": "code",
   "execution_count": 145,
   "id": "de53f53e-48aa-4c6f-8f0a-294fb26d45bc",
   "metadata": {},
   "outputs": [],
   "source": [
    "knn_model_meta = KNeighborsRegressor(n_neighbors=2)"
   ]
  },
  {
   "cell_type": "code",
   "execution_count": 146,
   "id": "a7314847-25e0-4359-bd94-49e3502432c7",
   "metadata": {},
   "outputs": [
    {
     "data": {
      "text/plain": [
       "KNeighborsRegressor(n_neighbors=2)"
      ]
     },
     "execution_count": 146,
     "metadata": {},
     "output_type": "execute_result"
    }
   ],
   "source": [
    "knn_model_meta.fit(X_ensemble_train, y_ensemble_train)"
   ]
  },
  {
   "cell_type": "code",
   "execution_count": 147,
   "id": "29318741-e365-4d28-a5f1-7894beef6ff1",
   "metadata": {},
   "outputs": [
    {
     "name": "stdout",
     "output_type": "stream",
     "text": [
      "\n",
      " ========== Train Errors ========== \n",
      "\n",
      "MSE on train data => 1.5009432539682528\n",
      "R-squared on train data => 0.9942759415797827\n"
     ]
    },
    {
     "data": {
      "image/png": "[encoded data removed]",
      "text/plain": [
       "<Figure size 432x288 with 1 Axes>"
      ]
     },
     "metadata": {
      "needs_background": "light"
     },
     "output_type": "display_data"
    },
    {
     "name": "stdout",
     "output_type": "stream",
     "text": [
      "\n",
      " ========== Test Errors ========== \n",
      "\n",
      "MSE on test data => 20.656555555555563\n",
      "R-squared on test data => 0.9122237045525883\n"
     ]
    },
    {
     "data": {
      "image/png": "[encoded data removed]",
      "text/plain": [
       "<Figure size 432x288 with 1 Axes>"
      ]
     },
     "metadata": {
      "needs_background": "light"
     },
     "output_type": "display_data"
    }
   ],
   "source": [
    "test_errors = showErrors(knn_model_meta, X_ensemble_train, y_ensemble_train, X_ensemble_test, y_ensemble_test)"
   ]
  },
  {
   "cell_type": "code",
   "execution_count": 150,
   "id": "d4d90b93-a079-454d-ba18-cf0cf1187745",
   "metadata": {},
   "outputs": [
    {
     "name": "stdout",
     "output_type": "stream",
     "text": [
      "Train MAE 0.82531746031746\n",
      "Test MAE 3.74851851851852\n"
     ]
    }
   ],
   "source": [
    "#mean absolute error\n",
    "print('Train MAE', mae(y_ensemble_train, knn_model_meta.predict(X_ensemble_train)))\n",
    "print('Test MAE', mae(y_ensemble_test, knn_model_meta.predict(X_ensemble_test)))"
   ]
  },
  {
   "cell_type": "markdown",
   "id": "2464ea43-46fa-4945-bf5b-0b789b409f03",
   "metadata": {},
   "source": [
    "### Support Vector Regression (RBF Kernel)"
   ]
  },
  {
   "cell_type": "code",
   "execution_count": 101,
   "id": "93f65b12-8327-4c4a-a5ef-a0e5285e07e9",
   "metadata": {},
   "outputs": [],
   "source": [
    "def objective(space):\n",
    "    '''objective function for hyper param tuning'''\n",
    "    # 3 fold cross validation\n",
    "    kf = KFold(n_splits=3)\n",
    "    mselosses = []\n",
    "    # k fold cross validation\n",
    "    for train_index, cv_index in kf.split(X_ensemble_train):\n",
    "        # split input data\n",
    "        X_train, X_cv = X_ensemble_train[train_index], X_ensemble_train[cv_index]\n",
    "        # split output data\n",
    "        y_train, y_cv = y_ensemble_train[train_index], y_ensemble_train[cv_index]\n",
    "        # create SVR RBF\n",
    "        model = SVR(C = space['c'])\n",
    "        # train the model\n",
    "        model.fit(X_train, y_train)\n",
    "        cv_pred = model.predict(X_cv)\n",
    "        tempmseloss = mse(y_cv, cv_pred)\n",
    "        mselosses.append(tempmseloss)\n",
    "        \n",
    "    # calculate mse\n",
    "    mseloss = sum(mselosses)/len(mselosses)\n",
    "    # return params\n",
    "    return {'loss':mseloss, 'status': STATUS_OK, 'params': space }"
   ]
  },
  {
   "cell_type": "code",
   "execution_count": 102,
   "id": "6053db29-d0d1-4599-9454-cb867e468518",
   "metadata": {},
   "outputs": [],
   "source": [
    "# search space for hyper parameter tuning\n",
    "space = {\n",
    "    # uniform distribution between 0.001 and 1000\n",
    "    \"c\": hp.quniform(\"c\", 0.001, 1000, 0.001)\n",
    "}"
   ]
  },
  {
   "cell_type": "code",
   "execution_count": 103,
   "id": "2f0f523c-5698-492e-9a21-dda81e4a8d56",
   "metadata": {},
   "outputs": [
    {
     "name": "stdout",
     "output_type": "stream",
     "text": [
      "100%|██████| 300/300 [00:02<00:00, 101.60trial/s, best loss: 3.7650291032199377]\n"
     ]
    }
   ],
   "source": [
    "# create trials\n",
    "trials = Trials()\n",
    "# minimise the objective function with max 300 trials\n",
    "best_param = fmin(fn=objective,\n",
    "            space=space,\n",
    "            algo=tpe.suggest,\n",
    "            max_evals=300,\n",
    "            trials=trials)"
   ]
  },
  {
   "cell_type": "code",
   "execution_count": 104,
   "id": "d19bc7ff-5609-48d9-af1c-324e4f5ccaf6",
   "metadata": {},
   "outputs": [
    {
     "name": "stdout",
     "output_type": "stream",
     "text": [
      "Best Param :  {'c': 271.031}\n"
     ]
    }
   ],
   "source": [
    "print(\"Best Param : \", best_param)"
   ]
  },
  {
   "cell_type": "code",
   "execution_count": 105,
   "id": "d0a5315d-9fa8-451f-bf58-c9ab6ec6d1c1",
   "metadata": {},
   "outputs": [],
   "source": [
    "svr_model_rbf_meta = SVR(C = 271.031)"
   ]
  },
  {
   "cell_type": "code",
   "execution_count": 106,
   "id": "acf020ad-1c1b-4422-b0bd-788576274b95",
   "metadata": {},
   "outputs": [
    {
     "data": {
      "text/plain": [
       "SVR(C=271.031)"
      ]
     },
     "execution_count": 106,
     "metadata": {},
     "output_type": "execute_result"
    }
   ],
   "source": [
    "svr_model_rbf_meta.fit(X_ensemble_train, y_ensemble_train)"
   ]
  },
  {
   "cell_type": "code",
   "execution_count": 107,
   "id": "f1b9849e-32a7-4eb4-8fc9-7a342fa048c1",
   "metadata": {},
   "outputs": [
    {
     "name": "stdout",
     "output_type": "stream",
     "text": [
      "\n",
      " ========== Train Errors ========== \n",
      "\n",
      "MSE on train data => 2.0036855348250584\n",
      "R-squared on train data => 0.9923586631095079\n"
     ]
    },
    {
     "data": {
      "image/png": "[encoded data removed]",
      "text/plain": [
       "<Figure size 432x288 with 1 Axes>"
      ]
     },
     "metadata": {
      "needs_background": "light"
     },
     "output_type": "display_data"
    },
    {
     "name": "stdout",
     "output_type": "stream",
     "text": [
      "\n",
      " ========== Test Errors ========== \n",
      "\n",
      "MSE on test data => 30.6848819728049\n",
      "R-squared on test data => 0.8696101458653162\n"
     ]
    },
    {
     "data": {
      "image/png": "[encoded data removed]",
      "text/plain": [
       "<Figure size 432x288 with 1 Axes>"
      ]
     },
     "metadata": {
      "needs_background": "light"
     },
     "output_type": "display_data"
    }
   ],
   "source": [
    "test_errors = showErrors(svr_model_rbf_meta, X_ensemble_train, y_ensemble_train, X_ensemble_test, y_ensemble_test)"
   ]
  },
  {
   "cell_type": "markdown",
   "id": "bd4d0308-3a17-4144-846a-220b54086558",
   "metadata": {},
   "source": [
    "### Support Vector Regression (Linear Kernel)"
   ]
  },
  {
   "cell_type": "code",
   "execution_count": 108,
   "id": "fe63ce93-3451-4d82-8af4-802e9e9e76c3",
   "metadata": {},
   "outputs": [],
   "source": [
    "def objective(space):\n",
    "    '''objective function for hyper param tuning'''\n",
    "    # 3 fold cross validation\n",
    "    kf = KFold(n_splits=3)\n",
    "    mselosses = []\n",
    "    # k fold cross validation\n",
    "    for train_index, cv_index in kf.split(X_ensemble_train):\n",
    "        # split input data\n",
    "        X_train, X_cv = X_ensemble_train[train_index], X_ensemble_train[cv_index]\n",
    "        # split output data\n",
    "        y_train, y_cv = y_ensemble_train[train_index], y_ensemble_train[cv_index]\n",
    "        # create SVR Linear\n",
    "        model = SVR(kernel = 'linear', C = space['c'])\n",
    "        # train the model\n",
    "        model.fit(X_train, y_train)\n",
    "        cv_pred = model.predict(X_cv)\n",
    "        tempmseloss = mse(y_cv, cv_pred)\n",
    "        mselosses.append(tempmseloss)\n",
    "        \n",
    "    # calculate mse\n",
    "    mseloss = sum(mselosses)/len(mselosses)\n",
    "    # return params\n",
    "    return {'loss':mseloss, 'status': STATUS_OK, 'params': space }"
   ]
  },
  {
   "cell_type": "code",
   "execution_count": 109,
   "id": "da8f2a5f-aae7-4eae-9801-eec5d2a9b555",
   "metadata": {},
   "outputs": [],
   "source": [
    "# search space for hyper parameter tuning\n",
    "space = {\n",
    "    # uniform distribution between 0.001 and 1000\n",
    "    \"c\": hp.quniform(\"c\", 0.001, 1000, 0.001)\n",
    "}"
   ]
  },
  {
   "cell_type": "code",
   "execution_count": 110,
   "id": "0549c2ed-d124-412d-9049-6649b850ccab",
   "metadata": {},
   "outputs": [
    {
     "name": "stdout",
     "output_type": "stream",
     "text": [
      "100%|███████| 300/300 [00:13<00:00, 22.65trial/s, best loss: 2.5005693676160834]\n"
     ]
    }
   ],
   "source": [
    "# create trials\n",
    "trials = Trials()\n",
    "# minimise the objective function with max 300 trials\n",
    "best_param = fmin(fn=objective,\n",
    "            space=space,\n",
    "            algo=tpe.suggest,\n",
    "            max_evals=300,\n",
    "            trials=trials)"
   ]
  },
  {
   "cell_type": "code",
   "execution_count": 111,
   "id": "ea72f705-2ca5-45ee-98b4-ff6c60856047",
   "metadata": {},
   "outputs": [
    {
     "name": "stdout",
     "output_type": "stream",
     "text": [
      "Best Param :  {'c': 8.179}\n"
     ]
    }
   ],
   "source": [
    "print(\"Best Param : \", best_param)"
   ]
  },
  {
   "cell_type": "code",
   "execution_count": 112,
   "id": "5498e9c7-9614-4271-9051-6f85efd4e1d3",
   "metadata": {},
   "outputs": [],
   "source": [
    "svr_model_linear_meta = SVR(kernel = 'linear', C = 8.179)"
   ]
  },
  {
   "cell_type": "code",
   "execution_count": 113,
   "id": "8f63334a-5dc8-458b-b191-2f8c15fa0540",
   "metadata": {},
   "outputs": [
    {
     "data": {
      "text/plain": [
       "SVR(C=8.179, kernel='linear')"
      ]
     },
     "execution_count": 113,
     "metadata": {},
     "output_type": "execute_result"
    }
   ],
   "source": [
    "svr_model_linear_meta.fit(X_ensemble_train, y_ensemble_train)"
   ]
  },
  {
   "cell_type": "code",
   "execution_count": 114,
   "id": "fc464899-ff05-4bba-900e-93660a546693",
   "metadata": {},
   "outputs": [
    {
     "name": "stdout",
     "output_type": "stream",
     "text": [
      "\n",
      " ========== Train Errors ========== \n",
      "\n",
      "MSE on train data => 2.6609698787533067\n",
      "R-squared on train data => 0.9898520167233821\n"
     ]
    },
    {
     "data": {
      "image/png": "[encoded data removed]",
      "text/plain": [
       "<Figure size 432x288 with 1 Axes>"
      ]
     },
     "metadata": {
      "needs_background": "light"
     },
     "output_type": "display_data"
    },
    {
     "name": "stdout",
     "output_type": "stream",
     "text": [
      "\n",
      " ========== Test Errors ========== \n",
      "\n",
      "MSE on test data => 44.12593687715891\n",
      "R-squared on test data => 0.8124948149362856\n"
     ]
    },
    {
     "data": {
      "image/png": "[encoded data removed]",
      "text/plain": [
       "<Figure size 432x288 with 1 Axes>"
      ]
     },
     "metadata": {
      "needs_background": "light"
     },
     "output_type": "display_data"
    }
   ],
   "source": [
    "test_errors = showErrors(svr_model_linear_meta, X_ensemble_train, y_ensemble_train, X_ensemble_test, y_ensemble_test)"
   ]
  },
  {
   "cell_type": "code",
   "execution_count": 123,
   "id": "829c944f-f849-483c-b05f-31ae4d5d7e5a",
   "metadata": {},
   "outputs": [
    {
     "data": {
      "text/plain": [
       "['knn_model_meta.joblib']"
      ]
     },
     "execution_count": 123,
     "metadata": {},
     "output_type": "execute_result"
    }
   ],
   "source": [
    "# #save the best model\n",
    "# dump(knn_model_meta, 'knn_model_meta.joblib')"
   ]
  },
  {
   "cell_type": "markdown",
   "id": "241c21af-25df-4701-8527-71ca80fc4faa",
   "metadata": {},
   "source": [
    "<br><b style=\"color:#ff6600\"><u>Summary</u></b><br>\n",
    "The stacking gave very good results. Here's what I found for stacking ensemble models.<br><br>\n",
    "For L2 Linear Regerssion. \n",
    "<ul>\n",
    "<li> The best alpha is 0.068. </li>\n",
    "<li> The train mse and r-squared are 2.1757 and 0.9917 respectively. </li>\n",
    "<li> The test mse and r-squared are 33.8341 and 0.8562 respectively. </li>\n",
    "</ul>\n",
    "For KNN Regerssion,\n",
    "<ul>\n",
    "<li> The best params are n_neighbors=2, metric='euclidean' </li>\n",
    "<li> The train mse and r-squared are 1.5009 and 0.9943 respectively. </li>\n",
    "<li> The test mse and r-squared are 20.6566 and 0.9122 respectively. </li>\n",
    "</ul>\n",
    "For Support Vector Regression (RBF Kernel),\n",
    "<ul>\n",
    "<li> The best param is C = 271.031 </li>\n",
    "<li> The train mse and r-squared are 2.0037 and 0.9924 respectively. </li>\n",
    "<li> The test mse and r-squared are 30.6849 and 0.8696 respectively. </li>\n",
    "</ul>\n",
    "For Support Vector Regression (Linear Kernel),\n",
    "<ul>\n",
    "<li> The best param is C = 8.179 </li>\n",
    "<li> The train mse and r-squared are 2.661 and 0.9899 respectively. </li>\n",
    "<li> The test mse and r-squared are 44.1259 and 0.8125 respectively. </li>\n",
    "</ul>\n",
    "<b>The KNN regressor seems to be performing the best as the meta model for the stacking regressor</b>"
   ]
  },
  {
   "cell_type": "markdown",
   "id": "ced9c3a1-fb80-4478-98d3-627ba4a6e78b",
   "metadata": {},
   "source": [
    "## Train and Test performance with the best model"
   ]
  },
  {
   "cell_type": "code",
   "execution_count": 151,
   "id": "02cb8c13-b2f5-41a5-a644-b00600221de6",
   "metadata": {},
   "outputs": [
    {
     "name": "stdout",
     "output_type": "stream",
     "text": [
      "+------------------------------------------+-------------+------------+\n",
      "| Metric                                   | Train Error | Test Error |\n",
      "+------------------------------------------+-------------+------------+\n",
      "| Mean Squared Error (MSE)                 | 1.5009      | 20.6566    |\n",
      "| Coefficient of determination (R-Squared) | 0.9943      | 0.9122     |\n",
      "| Mean Absolute Error (MAE)                | 0.8253      | 3.7485     |\n",
      "+------------------------------------------+-------------+------------+\n"
     ]
    }
   ],
   "source": [
    "performanceTable = PrettyTable([\"Metric\", \"Train Error\", \"Test Error\"], align='l')\n",
    "performanceTable.add_row([\"Mean Squared Error (MSE)\", \"1.5009\", \"20.6566\"])\n",
    "performanceTable.add_row([\"Coefficient of determination (R-Squared)\", \"0.9943\", \"0.9122\"])\n",
    "performanceTable.add_row([\"Mean Absolute Error (MAE)\", \"0.8253\", \"3.7485\"])\n",
    "print(performanceTable)"
   ]
  },
  {
   "cell_type": "markdown",
   "id": "bed99c8d-4ca6-45fa-b188-b6b5708ab285",
   "metadata": {},
   "source": [
    "<br><b style=\"color:#ff6600\"><u>Summary</u></b><br>\n",
    "With our best model which is stacking ensemble model, where the base models or level-0 models are <b>Support Vector Regression (Linear Kernel) model based on BoW features</b> and <b>Linear Regression (L2 Regularized) model based on Word2Vec features</b> and the meta model or level-1 model is a <b>KNN Regressor</b>.<br>\n",
    "We get following results,\n",
    "* Train MSE is 1.5009 and Test MSE is 20.6566\n",
    "* Train R-Squared is 0.9943 and Test R-Squared is 0.9122\n",
    "* Train MAE is 0.8253 and Test MAE is 3.7485"
   ]
  },
  {
   "cell_type": "markdown",
   "id": "06ae9afa-46d0-4725-b4dc-1fef35cebd6b",
   "metadata": {},
   "source": [
    "Which seems very impressive."
   ]
  },
  {
   "cell_type": "markdown",
   "id": "6fefd059-9846-4890-9975-c55224d77e24",
   "metadata": {},
   "source": [
    "# Further Analysis of the best model"
   ]
  },
  {
   "cell_type": "code",
   "execution_count": 128,
   "id": "1140b109-c1e0-4291-b14c-ad20c8cfcd5a",
   "metadata": {},
   "outputs": [],
   "source": [
    "def getKFeatures(k, model_coef, reverse=False):\n",
    "    '''get top or bottom k number of important features for linear regression'''\n",
    "    # get k features\n",
    "    if reverse:\n",
    "        top_k = np.argsort(np.abs(model_coef))[:k]\n",
    "    else:\n",
    "        top_k = np.argsort(np.abs(model_coef))[::-1][:k]\n",
    "    top_k_features = list(features[top_k])\n",
    "    # load bow vocab\n",
    "    with open('bow_vocab.npy', 'rb') as f:\n",
    "        bow_vocab = np.load(f, allow_pickle=True)\n",
    "    values = np.array(model_coef[top_k], dtype=np.float16)\n",
    "    labels = ['BoW: '+bow_vocab[int(i.replace('bow_resume_',''))-1] if i.startswith('bow_resume_') else i for i in top_k_features]\n",
    "    for i in range(k):\n",
    "        print(labels[i].ljust(35, '-'), '> ', values[i])"
   ]
  },
  {
   "cell_type": "code",
   "execution_count": 130,
   "id": "564edd7e-99d4-4fc4-ad03-4e4186b71a0e",
   "metadata": {},
   "outputs": [],
   "source": [
    "# load best models\n",
    "svr_model_linear = load('svr_model_linear.joblib')\n",
    "lr_model_2 = load('lr_model_2.joblib')\n",
    "knn_model_meta = load('knn_model_meta.joblib')"
   ]
  },
  {
   "cell_type": "code",
   "execution_count": 131,
   "id": "e3a5e715-3a1c-4b1e-9234-f6621a620b84",
   "metadata": {},
   "outputs": [
    {
     "data": {
      "text/plain": [
       "100"
      ]
     },
     "execution_count": 131,
     "metadata": {},
     "output_type": "execute_result"
    }
   ],
   "source": [
    "# total weights\n",
    "len(svr_model_linear.coef_[0])"
   ]
  },
  {
   "cell_type": "code",
   "execution_count": 132,
   "id": "e5c4c8c3-2e17-4715-9a07-2b68de5739b5",
   "metadata": {},
   "outputs": [
    {
     "data": {
      "text/plain": [
       "55"
      ]
     },
     "execution_count": 132,
     "metadata": {},
     "output_type": "execute_result"
    }
   ],
   "source": [
    "# total non zero weights\n",
    "(svr_model_linear.coef_[0]!=0).sum()"
   ]
  },
  {
   "cell_type": "code",
   "execution_count": 135,
   "id": "7820e9ea-0710-4e50-a6cc-85e07437a699",
   "metadata": {},
   "outputs": [
    {
     "name": "stdout",
     "output_type": "stream",
     "text": [
      "BoW: experienced------------------- >  -4.91\n",
      "common_word_ratio_min-------------- >  4.695\n",
      "BoW: logistic---------------------- >  -4.297\n",
      "BoW: beng bachelor engineering----- >  -3.771\n",
      "BoW: various----------------------- >  3.656\n",
      "BoW: gathering--------------------- >  -3.467\n",
      "fuzz_token_sort_ratio-------------- >  3.402\n",
      "BoW: ai---------------------------- >  3.068\n",
      "BoW: logistic regression----------- >  -2.926\n",
      "BoW: tuning------------------------ >  -2.695\n",
      "BoW: power bi---------------------- >  -2.576\n",
      "BoW: panda matplotlib-------------- >  2.479\n",
      "BoW: html-------------------------- >  -2.352\n",
      "BoW: scientist--------------------- >  -2.164\n",
      "BoW: data visualization------------ >  2.047\n"
     ]
    }
   ],
   "source": [
    "# get top 15 features\n",
    "getKFeatures(15, svr_model_linear.coef_[0])"
   ]
  },
  {
   "cell_type": "code",
   "execution_count": 136,
   "id": "db729e34-f9d1-4bcc-807d-890abc80ab11",
   "metadata": {},
   "outputs": [
    {
     "name": "stdout",
     "output_type": "stream",
     "text": [
      "bow_jd_28-------------------------- >  0.0\n",
      "bow_jd_22-------------------------- >  0.0\n",
      "bow_jd_23-------------------------- >  0.0\n",
      "bow_jd_24-------------------------- >  0.0\n",
      "bow_jd_25-------------------------- >  0.0\n",
      "bow_jd_26-------------------------- >  0.0\n",
      "bow_jd_27-------------------------- >  0.0\n",
      "bow_jd_43-------------------------- >  0.0\n",
      "bow_jd_29-------------------------- >  0.0\n",
      "bow_jd_30-------------------------- >  0.0\n"
     ]
    }
   ],
   "source": [
    "# get bottom 10 features\n",
    "getKFeatures(10, svr_model_linear.coef_[0], reverse=True)"
   ]
  },
  {
   "cell_type": "code",
   "execution_count": 144,
   "id": "ef0efea3-245e-4832-8ea2-73e6951b5f87",
   "metadata": {},
   "outputs": [
    {
     "data": {
      "text/plain": [
       "200"
      ]
     },
     "execution_count": 144,
     "metadata": {},
     "output_type": "execute_result"
    }
   ],
   "source": [
    "# total weights\n",
    "len(lr_model_2.coef_)"
   ]
  },
  {
   "cell_type": "code",
   "execution_count": 142,
   "id": "f6e14fb0-5ada-4726-8690-9dc166c61c7d",
   "metadata": {},
   "outputs": [
    {
     "data": {
      "text/plain": [
       "86"
      ]
     },
     "execution_count": 142,
     "metadata": {},
     "output_type": "execute_result"
    }
   ],
   "source": [
    "# total non zero weights\n",
    "(lr_model_2.coef_!=0).sum()"
   ]
  },
  {
   "cell_type": "code",
   "execution_count": 155,
   "id": "3d7313e4-b70b-4a8e-b625-6ab3eeeb61f4",
   "metadata": {},
   "outputs": [],
   "source": [
    "# predict for test data\n",
    "y_test_pred = knn_model_meta.predict(X_ensemble_test)"
   ]
  },
  {
   "cell_type": "code",
   "execution_count": 156,
   "id": "c767f1f2-24a5-465a-98fb-62d8380252f9",
   "metadata": {},
   "outputs": [],
   "source": [
    "# calculate errors\n",
    "errors = y_ensemble_test - y_test_pred"
   ]
  },
  {
   "cell_type": "code",
   "execution_count": 168,
   "id": "20b1c70b-ecf6-48eb-aa20-1e41cc6dcd2b",
   "metadata": {},
   "outputs": [
    {
     "data": {
      "image/png": "[encoded data removed]",
      "text/plain": [
       "<Figure size 432x288 with 1 Axes>"
      ]
     },
     "metadata": {
      "needs_background": "light"
     },
     "output_type": "display_data"
    }
   ],
   "source": [
    "# show histogram of errors\n",
    "plt.title('histogram of errors')\n",
    "plt.hist(errors)\n",
    "plt.show()"
   ]
  },
  {
   "cell_type": "code",
   "execution_count": 167,
   "id": "822f47da-b2ef-4a90-b03a-69b222f49152",
   "metadata": {},
   "outputs": [
    {
     "name": "stdout",
     "output_type": "stream",
     "text": [
      "-9.910000000000004\n",
      "9.390000000000008\n"
     ]
    }
   ],
   "source": [
    "print(np.min(errors))\n",
    "print(np.max(errors))"
   ]
  },
  {
   "cell_type": "code",
   "execution_count": 166,
   "id": "28c56097-888f-4ede-9e7f-bc6df3103d8f",
   "metadata": {},
   "outputs": [
    {
     "name": "stdout",
     "output_type": "stream",
     "text": [
      "[-1.6875  4.6275]\n"
     ]
    },
    {
     "data": {
      "image/png": "[encoded data removed]",
      "text/plain": [
       "<Figure size 432x288 with 1 Axes>"
      ]
     },
     "metadata": {
      "needs_background": "light"
     },
     "output_type": "display_data"
    }
   ],
   "source": [
    "# get 25th and 75th percentile\n",
    "print(np.percentile(errors, [25, 75]))\n",
    "sns.boxplot(x=errors)\n",
    "plt.show()"
   ]
  },
  {
   "cell_type": "markdown",
   "id": "10069fb1-5bb0-4bb7-830e-ffefd78997dd",
   "metadata": {},
   "source": [
    "<br><b style=\"color:#ff6600\"><u>Summary</u></b><br>\n",
    "* The Support Vector Regression (Linear Kernel) model based on BoW features has 100 features out of which only 55 of them are non zero.\n",
    "* The Linear Regression (L2 Regularized) model based on Word2Vec features has 200 features out of which only 86 of them are non zero.\n",
    "* Stats on test errors are,\n",
    "    * The minimum value is -9.91\n",
    "    * The maximum value is 9.39\n",
    "    * 75% of the errors are between -1.6875 and 4.6275"
   ]
  },
  {
   "cell_type": "code",
   "execution_count": null,
   "id": "cb613afa-3f41-4da9-a40f-a7accc48874b",
   "metadata": {},
   "outputs": [],
   "source": []
  }
 ],
 "metadata": {
  "kernelspec": {
   "display_name": "Python 3 (ipykernel)",
   "language": "python",
   "name": "python3"
  },
  "language_info": {
   "codemirror_mode": {
    "name": "ipython",
    "version": 3
   },
   "file_extension": ".py",
   "mimetype": "text/x-python",
   "name": "python",
   "nbconvert_exporter": "python",
   "pygments_lexer": "ipython3",
   "version": "3.9.5"
  }
 },
 "nbformat": 4,
 "nbformat_minor": 5
}
